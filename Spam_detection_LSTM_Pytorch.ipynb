{
  "cells": [
    {
      "cell_type": "markdown",
      "metadata": {
        "id": "aTM_MMDJKKrq"
      },
      "source": [
        "# Import necessary libraries"
      ]
    },
    {
      "cell_type": "code",
      "execution_count": 3,
      "metadata": {
        "id": "eiU7X98nKKrs"
      },
      "outputs": [],
      "source": [
        "import pandas as pd\n",
        "import seaborn as sns\n",
        "import matplotlib.pyplot as plt"
      ]
    },
    {
      "cell_type": "code",
      "execution_count": 4,
      "metadata": {
        "id": "4ZuRfRHqPisC"
      },
      "outputs": [],
      "source": [
        "import nltk\n",
        "from nltk.corpus import stopwords\n",
        "from nltk.stem import PorterStemmer\n",
        "import re"
      ]
    },
    {
      "cell_type": "code",
      "execution_count": 5,
      "metadata": {
        "id": "YtnLLeWcKKrt"
      },
      "outputs": [],
      "source": [
        "from sklearn.preprocessing import LabelEncoder\n",
        "from sklearn.model_selection import train_test_split"
      ]
    },
    {
      "cell_type": "code",
      "execution_count": 6,
      "metadata": {
        "id": "zfO5uNYoENrx"
      },
      "outputs": [],
      "source": [
        "from tensorflow.keras.preprocessing.text import Tokenizer\n",
        "from nltk.tokenize import word_tokenize\n",
        "from tensorflow.keras.preprocessing.sequence import pad_sequences"
      ]
    },
    {
      "cell_type": "code",
      "execution_count": 7,
      "metadata": {
        "id": "1HrG9N9qNMO9"
      },
      "outputs": [],
      "source": [
        "import torch\n",
        "import torch.nn as nn\n",
        "import torch.optim as optim\n",
        "from torch.utils.data import DataLoader, TensorDataset"
      ]
    },
    {
      "cell_type": "code",
      "execution_count": 8,
      "metadata": {
        "id": "xIw4i9rxK_NL"
      },
      "outputs": [],
      "source": [
        "from sklearn.metrics import accuracy_score, precision_score, recall_score, f1_score"
      ]
    },
    {
      "cell_type": "code",
      "execution_count": 9,
      "metadata": {
        "id": "SLSlTWia4lho"
      },
      "outputs": [],
      "source": [
        "from sklearn.metrics import confusion_matrix\n",
        "import seaborn as sns"
      ]
    },
    {
      "cell_type": "markdown",
      "metadata": {
        "id": "C2b1Cy9nKKru"
      },
      "source": [
        "# Exploratory Data Analysis"
      ]
    },
    {
      "cell_type": "code",
      "execution_count": 10,
      "metadata": {
        "colab": {
          "base_uri": "https://localhost:8080/",
          "height": 206
        },
        "id": "IBGrVsWVKKrv",
        "outputId": "52ffc4b0-b0d1-4d93-d310-869801231865"
      },
      "outputs": [
        {
          "data": {
            "text/html": [
              "\n",
              "  <div id=\"df-44f3122d-3dfa-4253-88c6-c14e8d34269b\" class=\"colab-df-container\">\n",
              "    <div>\n",
              "<style scoped>\n",
              "    .dataframe tbody tr th:only-of-type {\n",
              "        vertical-align: middle;\n",
              "    }\n",
              "\n",
              "    .dataframe tbody tr th {\n",
              "        vertical-align: top;\n",
              "    }\n",
              "\n",
              "    .dataframe thead th {\n",
              "        text-align: right;\n",
              "    }\n",
              "</style>\n",
              "<table border=\"1\" class=\"dataframe\">\n",
              "  <thead>\n",
              "    <tr style=\"text-align: right;\">\n",
              "      <th></th>\n",
              "      <th>v1</th>\n",
              "      <th>v2</th>\n",
              "      <th>Unnamed: 2</th>\n",
              "      <th>Unnamed: 3</th>\n",
              "      <th>Unnamed: 4</th>\n",
              "    </tr>\n",
              "  </thead>\n",
              "  <tbody>\n",
              "    <tr>\n",
              "      <th>0</th>\n",
              "      <td>ham</td>\n",
              "      <td>Go until jurong point, crazy.. Available only ...</td>\n",
              "      <td>NaN</td>\n",
              "      <td>NaN</td>\n",
              "      <td>NaN</td>\n",
              "    </tr>\n",
              "    <tr>\n",
              "      <th>1</th>\n",
              "      <td>ham</td>\n",
              "      <td>Ok lar... Joking wif u oni...</td>\n",
              "      <td>NaN</td>\n",
              "      <td>NaN</td>\n",
              "      <td>NaN</td>\n",
              "    </tr>\n",
              "    <tr>\n",
              "      <th>2</th>\n",
              "      <td>spam</td>\n",
              "      <td>Free entry in 2 a wkly comp to win FA Cup fina...</td>\n",
              "      <td>NaN</td>\n",
              "      <td>NaN</td>\n",
              "      <td>NaN</td>\n",
              "    </tr>\n",
              "    <tr>\n",
              "      <th>3</th>\n",
              "      <td>ham</td>\n",
              "      <td>U dun say so early hor... U c already then say...</td>\n",
              "      <td>NaN</td>\n",
              "      <td>NaN</td>\n",
              "      <td>NaN</td>\n",
              "    </tr>\n",
              "    <tr>\n",
              "      <th>4</th>\n",
              "      <td>ham</td>\n",
              "      <td>Nah I don't think he goes to usf, he lives aro...</td>\n",
              "      <td>NaN</td>\n",
              "      <td>NaN</td>\n",
              "      <td>NaN</td>\n",
              "    </tr>\n",
              "  </tbody>\n",
              "</table>\n",
              "</div>\n",
              "    <div class=\"colab-df-buttons\">\n",
              "\n",
              "  <div class=\"colab-df-container\">\n",
              "    <button class=\"colab-df-convert\" onclick=\"convertToInteractive('df-44f3122d-3dfa-4253-88c6-c14e8d34269b')\"\n",
              "            title=\"Convert this dataframe to an interactive table.\"\n",
              "            style=\"display:none;\">\n",
              "\n",
              "  <svg xmlns=\"http://www.w3.org/2000/svg\" height=\"24px\" viewBox=\"0 -960 960 960\">\n",
              "    <path d=\"M120-120v-720h720v720H120Zm60-500h600v-160H180v160Zm220 220h160v-160H400v160Zm0 220h160v-160H400v160ZM180-400h160v-160H180v160Zm440 0h160v-160H620v160ZM180-180h160v-160H180v160Zm440 0h160v-160H620v160Z\"/>\n",
              "  </svg>\n",
              "    </button>\n",
              "\n",
              "  <style>\n",
              "    .colab-df-container {\n",
              "      display:flex;\n",
              "      gap: 12px;\n",
              "    }\n",
              "\n",
              "    .colab-df-convert {\n",
              "      background-color: #E8F0FE;\n",
              "      border: none;\n",
              "      border-radius: 50%;\n",
              "      cursor: pointer;\n",
              "      display: none;\n",
              "      fill: #1967D2;\n",
              "      height: 32px;\n",
              "      padding: 0 0 0 0;\n",
              "      width: 32px;\n",
              "    }\n",
              "\n",
              "    .colab-df-convert:hover {\n",
              "      background-color: #E2EBFA;\n",
              "      box-shadow: 0px 1px 2px rgba(60, 64, 67, 0.3), 0px 1px 3px 1px rgba(60, 64, 67, 0.15);\n",
              "      fill: #174EA6;\n",
              "    }\n",
              "\n",
              "    .colab-df-buttons div {\n",
              "      margin-bottom: 4px;\n",
              "    }\n",
              "\n",
              "    [theme=dark] .colab-df-convert {\n",
              "      background-color: #3B4455;\n",
              "      fill: #D2E3FC;\n",
              "    }\n",
              "\n",
              "    [theme=dark] .colab-df-convert:hover {\n",
              "      background-color: #434B5C;\n",
              "      box-shadow: 0px 1px 3px 1px rgba(0, 0, 0, 0.15);\n",
              "      filter: drop-shadow(0px 1px 2px rgba(0, 0, 0, 0.3));\n",
              "      fill: #FFFFFF;\n",
              "    }\n",
              "  </style>\n",
              "\n",
              "    <script>\n",
              "      const buttonEl =\n",
              "        document.querySelector('#df-44f3122d-3dfa-4253-88c6-c14e8d34269b button.colab-df-convert');\n",
              "      buttonEl.style.display =\n",
              "        google.colab.kernel.accessAllowed ? 'block' : 'none';\n",
              "\n",
              "      async function convertToInteractive(key) {\n",
              "        const element = document.querySelector('#df-44f3122d-3dfa-4253-88c6-c14e8d34269b');\n",
              "        const dataTable =\n",
              "          await google.colab.kernel.invokeFunction('convertToInteractive',\n",
              "                                                    [key], {});\n",
              "        if (!dataTable) return;\n",
              "\n",
              "        const docLinkHtml = 'Like what you see? Visit the ' +\n",
              "          '<a target=\"_blank\" href=https://colab.research.google.com/notebooks/data_table.ipynb>data table notebook</a>'\n",
              "          + ' to learn more about interactive tables.';\n",
              "        element.innerHTML = '';\n",
              "        dataTable['output_type'] = 'display_data';\n",
              "        await google.colab.output.renderOutput(dataTable, element);\n",
              "        const docLink = document.createElement('div');\n",
              "        docLink.innerHTML = docLinkHtml;\n",
              "        element.appendChild(docLink);\n",
              "      }\n",
              "    </script>\n",
              "  </div>\n",
              "\n",
              "\n",
              "<div id=\"df-7860dc41-e71e-48dc-9520-7130bf3c3b4c\">\n",
              "  <button class=\"colab-df-quickchart\" onclick=\"quickchart('df-7860dc41-e71e-48dc-9520-7130bf3c3b4c')\"\n",
              "            title=\"Suggest charts\"\n",
              "            style=\"display:none;\">\n",
              "\n",
              "<svg xmlns=\"http://www.w3.org/2000/svg\" height=\"24px\"viewBox=\"0 0 24 24\"\n",
              "     width=\"24px\">\n",
              "    <g>\n",
              "        <path d=\"M19 3H5c-1.1 0-2 .9-2 2v14c0 1.1.9 2 2 2h14c1.1 0 2-.9 2-2V5c0-1.1-.9-2-2-2zM9 17H7v-7h2v7zm4 0h-2V7h2v10zm4 0h-2v-4h2v4z\"/>\n",
              "    </g>\n",
              "</svg>\n",
              "  </button>\n",
              "\n",
              "<style>\n",
              "  .colab-df-quickchart {\n",
              "      --bg-color: #E8F0FE;\n",
              "      --fill-color: #1967D2;\n",
              "      --hover-bg-color: #E2EBFA;\n",
              "      --hover-fill-color: #174EA6;\n",
              "      --disabled-fill-color: #AAA;\n",
              "      --disabled-bg-color: #DDD;\n",
              "  }\n",
              "\n",
              "  [theme=dark] .colab-df-quickchart {\n",
              "      --bg-color: #3B4455;\n",
              "      --fill-color: #D2E3FC;\n",
              "      --hover-bg-color: #434B5C;\n",
              "      --hover-fill-color: #FFFFFF;\n",
              "      --disabled-bg-color: #3B4455;\n",
              "      --disabled-fill-color: #666;\n",
              "  }\n",
              "\n",
              "  .colab-df-quickchart {\n",
              "    background-color: var(--bg-color);\n",
              "    border: none;\n",
              "    border-radius: 50%;\n",
              "    cursor: pointer;\n",
              "    display: none;\n",
              "    fill: var(--fill-color);\n",
              "    height: 32px;\n",
              "    padding: 0;\n",
              "    width: 32px;\n",
              "  }\n",
              "\n",
              "  .colab-df-quickchart:hover {\n",
              "    background-color: var(--hover-bg-color);\n",
              "    box-shadow: 0 1px 2px rgba(60, 64, 67, 0.3), 0 1px 3px 1px rgba(60, 64, 67, 0.15);\n",
              "    fill: var(--button-hover-fill-color);\n",
              "  }\n",
              "\n",
              "  .colab-df-quickchart-complete:disabled,\n",
              "  .colab-df-quickchart-complete:disabled:hover {\n",
              "    background-color: var(--disabled-bg-color);\n",
              "    fill: var(--disabled-fill-color);\n",
              "    box-shadow: none;\n",
              "  }\n",
              "\n",
              "  .colab-df-spinner {\n",
              "    border: 2px solid var(--fill-color);\n",
              "    border-color: transparent;\n",
              "    border-bottom-color: var(--fill-color);\n",
              "    animation:\n",
              "      spin 1s steps(1) infinite;\n",
              "  }\n",
              "\n",
              "  @keyframes spin {\n",
              "    0% {\n",
              "      border-color: transparent;\n",
              "      border-bottom-color: var(--fill-color);\n",
              "      border-left-color: var(--fill-color);\n",
              "    }\n",
              "    20% {\n",
              "      border-color: transparent;\n",
              "      border-left-color: var(--fill-color);\n",
              "      border-top-color: var(--fill-color);\n",
              "    }\n",
              "    30% {\n",
              "      border-color: transparent;\n",
              "      border-left-color: var(--fill-color);\n",
              "      border-top-color: var(--fill-color);\n",
              "      border-right-color: var(--fill-color);\n",
              "    }\n",
              "    40% {\n",
              "      border-color: transparent;\n",
              "      border-right-color: var(--fill-color);\n",
              "      border-top-color: var(--fill-color);\n",
              "    }\n",
              "    60% {\n",
              "      border-color: transparent;\n",
              "      border-right-color: var(--fill-color);\n",
              "    }\n",
              "    80% {\n",
              "      border-color: transparent;\n",
              "      border-right-color: var(--fill-color);\n",
              "      border-bottom-color: var(--fill-color);\n",
              "    }\n",
              "    90% {\n",
              "      border-color: transparent;\n",
              "      border-bottom-color: var(--fill-color);\n",
              "    }\n",
              "  }\n",
              "</style>\n",
              "\n",
              "  <script>\n",
              "    async function quickchart(key) {\n",
              "      const quickchartButtonEl =\n",
              "        document.querySelector('#' + key + ' button');\n",
              "      quickchartButtonEl.disabled = true;  // To prevent multiple clicks.\n",
              "      quickchartButtonEl.classList.add('colab-df-spinner');\n",
              "      try {\n",
              "        const charts = await google.colab.kernel.invokeFunction(\n",
              "            'suggestCharts', [key], {});\n",
              "      } catch (error) {\n",
              "        console.error('Error during call to suggestCharts:', error);\n",
              "      }\n",
              "      quickchartButtonEl.classList.remove('colab-df-spinner');\n",
              "      quickchartButtonEl.classList.add('colab-df-quickchart-complete');\n",
              "    }\n",
              "    (() => {\n",
              "      let quickchartButtonEl =\n",
              "        document.querySelector('#df-7860dc41-e71e-48dc-9520-7130bf3c3b4c button');\n",
              "      quickchartButtonEl.style.display =\n",
              "        google.colab.kernel.accessAllowed ? 'block' : 'none';\n",
              "    })();\n",
              "  </script>\n",
              "</div>\n",
              "\n",
              "    </div>\n",
              "  </div>\n"
            ],
            "text/plain": [
              "     v1                                                 v2 Unnamed: 2  \\\n",
              "0   ham  Go until jurong point, crazy.. Available only ...        NaN   \n",
              "1   ham                      Ok lar... Joking wif u oni...        NaN   \n",
              "2  spam  Free entry in 2 a wkly comp to win FA Cup fina...        NaN   \n",
              "3   ham  U dun say so early hor... U c already then say...        NaN   \n",
              "4   ham  Nah I don't think he goes to usf, he lives aro...        NaN   \n",
              "\n",
              "  Unnamed: 3 Unnamed: 4  \n",
              "0        NaN        NaN  \n",
              "1        NaN        NaN  \n",
              "2        NaN        NaN  \n",
              "3        NaN        NaN  \n",
              "4        NaN        NaN  "
            ]
          },
          "execution_count": 10,
          "metadata": {},
          "output_type": "execute_result"
        }
      ],
      "source": [
        "df = pd.read_csv('spam.csv', encoding='latin-1')\n",
        "df.head()"
      ]
    },
    {
      "cell_type": "code",
      "execution_count": 11,
      "metadata": {
        "colab": {
          "base_uri": "https://localhost:8080/"
        },
        "id": "eBgnPZ3bKKrx",
        "outputId": "0c5b12eb-348b-46ba-f544-c79c3e45aba4"
      },
      "outputs": [
        {
          "data": {
            "text/plain": [
              "(5572, 5)"
            ]
          },
          "execution_count": 11,
          "metadata": {},
          "output_type": "execute_result"
        }
      ],
      "source": [
        "df.shape"
      ]
    },
    {
      "cell_type": "code",
      "execution_count": 12,
      "metadata": {
        "colab": {
          "base_uri": "https://localhost:8080/"
        },
        "id": "w59xJ4MfKKry",
        "outputId": "48f24c32-16b1-4094-ee63-e7528457a233"
      },
      "outputs": [
        {
          "name": "stdout",
          "output_type": "stream",
          "text": [
            "<class 'pandas.core.frame.DataFrame'>\n",
            "RangeIndex: 5572 entries, 0 to 5571\n",
            "Data columns (total 5 columns):\n",
            " #   Column      Non-Null Count  Dtype \n",
            "---  ------      --------------  ----- \n",
            " 0   v1          5572 non-null   object\n",
            " 1   v2          5572 non-null   object\n",
            " 2   Unnamed: 2  50 non-null     object\n",
            " 3   Unnamed: 3  12 non-null     object\n",
            " 4   Unnamed: 4  6 non-null      object\n",
            "dtypes: object(5)\n",
            "memory usage: 217.8+ KB\n"
          ]
        }
      ],
      "source": [
        "df.info()"
      ]
    },
    {
      "cell_type": "markdown",
      "metadata": {
        "id": "s3xmNRPiKKrz"
      },
      "source": [
        "* Unnamed 2, 3 and 4 contain very few information and the rest is null so we remove them\n",
        "* The column names are not very descriptive so we rename them\n",
        "* v1 and v2 do not contain any null values"
      ]
    },
    {
      "cell_type": "code",
      "execution_count": 13,
      "metadata": {
        "colab": {
          "base_uri": "https://localhost:8080/",
          "height": 206
        },
        "id": "D0cYoU7CKKr0",
        "outputId": "f499552a-a3d0-4b14-cbd9-4ea293635c28"
      },
      "outputs": [
        {
          "data": {
            "text/html": [
              "\n",
              "  <div id=\"df-5c4568ad-e667-49a7-a915-916d32a99aa1\" class=\"colab-df-container\">\n",
              "    <div>\n",
              "<style scoped>\n",
              "    .dataframe tbody tr th:only-of-type {\n",
              "        vertical-align: middle;\n",
              "    }\n",
              "\n",
              "    .dataframe tbody tr th {\n",
              "        vertical-align: top;\n",
              "    }\n",
              "\n",
              "    .dataframe thead th {\n",
              "        text-align: right;\n",
              "    }\n",
              "</style>\n",
              "<table border=\"1\" class=\"dataframe\">\n",
              "  <thead>\n",
              "    <tr style=\"text-align: right;\">\n",
              "      <th></th>\n",
              "      <th>v1</th>\n",
              "      <th>v2</th>\n",
              "    </tr>\n",
              "  </thead>\n",
              "  <tbody>\n",
              "    <tr>\n",
              "      <th>3616</th>\n",
              "      <td>ham</td>\n",
              "      <td>Sorry sent blank msg again. Yup but trying 2 d...</td>\n",
              "    </tr>\n",
              "    <tr>\n",
              "      <th>1841</th>\n",
              "      <td>ham</td>\n",
              "      <td>I am in your office na.</td>\n",
              "    </tr>\n",
              "    <tr>\n",
              "      <th>4679</th>\n",
              "      <td>ham</td>\n",
              "      <td>That's cool he'll be here all night, lemme kno...</td>\n",
              "    </tr>\n",
              "    <tr>\n",
              "      <th>305</th>\n",
              "      <td>ham</td>\n",
              "      <td>Yup... From what i remb... I think should be c...</td>\n",
              "    </tr>\n",
              "    <tr>\n",
              "      <th>131</th>\n",
              "      <td>ham</td>\n",
              "      <td>Dear, will call Tmorrow.pls accomodate.</td>\n",
              "    </tr>\n",
              "  </tbody>\n",
              "</table>\n",
              "</div>\n",
              "    <div class=\"colab-df-buttons\">\n",
              "\n",
              "  <div class=\"colab-df-container\">\n",
              "    <button class=\"colab-df-convert\" onclick=\"convertToInteractive('df-5c4568ad-e667-49a7-a915-916d32a99aa1')\"\n",
              "            title=\"Convert this dataframe to an interactive table.\"\n",
              "            style=\"display:none;\">\n",
              "\n",
              "  <svg xmlns=\"http://www.w3.org/2000/svg\" height=\"24px\" viewBox=\"0 -960 960 960\">\n",
              "    <path d=\"M120-120v-720h720v720H120Zm60-500h600v-160H180v160Zm220 220h160v-160H400v160Zm0 220h160v-160H400v160ZM180-400h160v-160H180v160Zm440 0h160v-160H620v160ZM180-180h160v-160H180v160Zm440 0h160v-160H620v160Z\"/>\n",
              "  </svg>\n",
              "    </button>\n",
              "\n",
              "  <style>\n",
              "    .colab-df-container {\n",
              "      display:flex;\n",
              "      gap: 12px;\n",
              "    }\n",
              "\n",
              "    .colab-df-convert {\n",
              "      background-color: #E8F0FE;\n",
              "      border: none;\n",
              "      border-radius: 50%;\n",
              "      cursor: pointer;\n",
              "      display: none;\n",
              "      fill: #1967D2;\n",
              "      height: 32px;\n",
              "      padding: 0 0 0 0;\n",
              "      width: 32px;\n",
              "    }\n",
              "\n",
              "    .colab-df-convert:hover {\n",
              "      background-color: #E2EBFA;\n",
              "      box-shadow: 0px 1px 2px rgba(60, 64, 67, 0.3), 0px 1px 3px 1px rgba(60, 64, 67, 0.15);\n",
              "      fill: #174EA6;\n",
              "    }\n",
              "\n",
              "    .colab-df-buttons div {\n",
              "      margin-bottom: 4px;\n",
              "    }\n",
              "\n",
              "    [theme=dark] .colab-df-convert {\n",
              "      background-color: #3B4455;\n",
              "      fill: #D2E3FC;\n",
              "    }\n",
              "\n",
              "    [theme=dark] .colab-df-convert:hover {\n",
              "      background-color: #434B5C;\n",
              "      box-shadow: 0px 1px 3px 1px rgba(0, 0, 0, 0.15);\n",
              "      filter: drop-shadow(0px 1px 2px rgba(0, 0, 0, 0.3));\n",
              "      fill: #FFFFFF;\n",
              "    }\n",
              "  </style>\n",
              "\n",
              "    <script>\n",
              "      const buttonEl =\n",
              "        document.querySelector('#df-5c4568ad-e667-49a7-a915-916d32a99aa1 button.colab-df-convert');\n",
              "      buttonEl.style.display =\n",
              "        google.colab.kernel.accessAllowed ? 'block' : 'none';\n",
              "\n",
              "      async function convertToInteractive(key) {\n",
              "        const element = document.querySelector('#df-5c4568ad-e667-49a7-a915-916d32a99aa1');\n",
              "        const dataTable =\n",
              "          await google.colab.kernel.invokeFunction('convertToInteractive',\n",
              "                                                    [key], {});\n",
              "        if (!dataTable) return;\n",
              "\n",
              "        const docLinkHtml = 'Like what you see? Visit the ' +\n",
              "          '<a target=\"_blank\" href=https://colab.research.google.com/notebooks/data_table.ipynb>data table notebook</a>'\n",
              "          + ' to learn more about interactive tables.';\n",
              "        element.innerHTML = '';\n",
              "        dataTable['output_type'] = 'display_data';\n",
              "        await google.colab.output.renderOutput(dataTable, element);\n",
              "        const docLink = document.createElement('div');\n",
              "        docLink.innerHTML = docLinkHtml;\n",
              "        element.appendChild(docLink);\n",
              "      }\n",
              "    </script>\n",
              "  </div>\n",
              "\n",
              "\n",
              "<div id=\"df-b8c71cac-73e5-44ad-9396-9f932385b39b\">\n",
              "  <button class=\"colab-df-quickchart\" onclick=\"quickchart('df-b8c71cac-73e5-44ad-9396-9f932385b39b')\"\n",
              "            title=\"Suggest charts\"\n",
              "            style=\"display:none;\">\n",
              "\n",
              "<svg xmlns=\"http://www.w3.org/2000/svg\" height=\"24px\"viewBox=\"0 0 24 24\"\n",
              "     width=\"24px\">\n",
              "    <g>\n",
              "        <path d=\"M19 3H5c-1.1 0-2 .9-2 2v14c0 1.1.9 2 2 2h14c1.1 0 2-.9 2-2V5c0-1.1-.9-2-2-2zM9 17H7v-7h2v7zm4 0h-2V7h2v10zm4 0h-2v-4h2v4z\"/>\n",
              "    </g>\n",
              "</svg>\n",
              "  </button>\n",
              "\n",
              "<style>\n",
              "  .colab-df-quickchart {\n",
              "      --bg-color: #E8F0FE;\n",
              "      --fill-color: #1967D2;\n",
              "      --hover-bg-color: #E2EBFA;\n",
              "      --hover-fill-color: #174EA6;\n",
              "      --disabled-fill-color: #AAA;\n",
              "      --disabled-bg-color: #DDD;\n",
              "  }\n",
              "\n",
              "  [theme=dark] .colab-df-quickchart {\n",
              "      --bg-color: #3B4455;\n",
              "      --fill-color: #D2E3FC;\n",
              "      --hover-bg-color: #434B5C;\n",
              "      --hover-fill-color: #FFFFFF;\n",
              "      --disabled-bg-color: #3B4455;\n",
              "      --disabled-fill-color: #666;\n",
              "  }\n",
              "\n",
              "  .colab-df-quickchart {\n",
              "    background-color: var(--bg-color);\n",
              "    border: none;\n",
              "    border-radius: 50%;\n",
              "    cursor: pointer;\n",
              "    display: none;\n",
              "    fill: var(--fill-color);\n",
              "    height: 32px;\n",
              "    padding: 0;\n",
              "    width: 32px;\n",
              "  }\n",
              "\n",
              "  .colab-df-quickchart:hover {\n",
              "    background-color: var(--hover-bg-color);\n",
              "    box-shadow: 0 1px 2px rgba(60, 64, 67, 0.3), 0 1px 3px 1px rgba(60, 64, 67, 0.15);\n",
              "    fill: var(--button-hover-fill-color);\n",
              "  }\n",
              "\n",
              "  .colab-df-quickchart-complete:disabled,\n",
              "  .colab-df-quickchart-complete:disabled:hover {\n",
              "    background-color: var(--disabled-bg-color);\n",
              "    fill: var(--disabled-fill-color);\n",
              "    box-shadow: none;\n",
              "  }\n",
              "\n",
              "  .colab-df-spinner {\n",
              "    border: 2px solid var(--fill-color);\n",
              "    border-color: transparent;\n",
              "    border-bottom-color: var(--fill-color);\n",
              "    animation:\n",
              "      spin 1s steps(1) infinite;\n",
              "  }\n",
              "\n",
              "  @keyframes spin {\n",
              "    0% {\n",
              "      border-color: transparent;\n",
              "      border-bottom-color: var(--fill-color);\n",
              "      border-left-color: var(--fill-color);\n",
              "    }\n",
              "    20% {\n",
              "      border-color: transparent;\n",
              "      border-left-color: var(--fill-color);\n",
              "      border-top-color: var(--fill-color);\n",
              "    }\n",
              "    30% {\n",
              "      border-color: transparent;\n",
              "      border-left-color: var(--fill-color);\n",
              "      border-top-color: var(--fill-color);\n",
              "      border-right-color: var(--fill-color);\n",
              "    }\n",
              "    40% {\n",
              "      border-color: transparent;\n",
              "      border-right-color: var(--fill-color);\n",
              "      border-top-color: var(--fill-color);\n",
              "    }\n",
              "    60% {\n",
              "      border-color: transparent;\n",
              "      border-right-color: var(--fill-color);\n",
              "    }\n",
              "    80% {\n",
              "      border-color: transparent;\n",
              "      border-right-color: var(--fill-color);\n",
              "      border-bottom-color: var(--fill-color);\n",
              "    }\n",
              "    90% {\n",
              "      border-color: transparent;\n",
              "      border-bottom-color: var(--fill-color);\n",
              "    }\n",
              "  }\n",
              "</style>\n",
              "\n",
              "  <script>\n",
              "    async function quickchart(key) {\n",
              "      const quickchartButtonEl =\n",
              "        document.querySelector('#' + key + ' button');\n",
              "      quickchartButtonEl.disabled = true;  // To prevent multiple clicks.\n",
              "      quickchartButtonEl.classList.add('colab-df-spinner');\n",
              "      try {\n",
              "        const charts = await google.colab.kernel.invokeFunction(\n",
              "            'suggestCharts', [key], {});\n",
              "      } catch (error) {\n",
              "        console.error('Error during call to suggestCharts:', error);\n",
              "      }\n",
              "      quickchartButtonEl.classList.remove('colab-df-spinner');\n",
              "      quickchartButtonEl.classList.add('colab-df-quickchart-complete');\n",
              "    }\n",
              "    (() => {\n",
              "      let quickchartButtonEl =\n",
              "        document.querySelector('#df-b8c71cac-73e5-44ad-9396-9f932385b39b button');\n",
              "      quickchartButtonEl.style.display =\n",
              "        google.colab.kernel.accessAllowed ? 'block' : 'none';\n",
              "    })();\n",
              "  </script>\n",
              "</div>\n",
              "\n",
              "    </div>\n",
              "  </div>\n"
            ],
            "text/plain": [
              "       v1                                                 v2\n",
              "3616  ham  Sorry sent blank msg again. Yup but trying 2 d...\n",
              "1841  ham                            I am in your office na.\n",
              "4679  ham  That's cool he'll be here all night, lemme kno...\n",
              "305   ham  Yup... From what i remb... I think should be c...\n",
              "131   ham            Dear, will call Tmorrow.pls accomodate."
            ]
          },
          "execution_count": 13,
          "metadata": {},
          "output_type": "execute_result"
        }
      ],
      "source": [
        "df.drop(['Unnamed: 2', 'Unnamed: 3', 'Unnamed: 4'], axis=1, inplace=True) #dropping unnecessary columns\n",
        "df.sample(5)"
      ]
    },
    {
      "cell_type": "code",
      "execution_count": 14,
      "metadata": {
        "colab": {
          "base_uri": "https://localhost:8080/",
          "height": 206
        },
        "id": "wlRqfuUsKKr2",
        "outputId": "d4d8a783-b897-4b3e-805d-96324e4d11dd"
      },
      "outputs": [
        {
          "data": {
            "text/html": [
              "\n",
              "  <div id=\"df-2c9275b0-b2e8-4c30-8079-1ae03fbe7ef6\" class=\"colab-df-container\">\n",
              "    <div>\n",
              "<style scoped>\n",
              "    .dataframe tbody tr th:only-of-type {\n",
              "        vertical-align: middle;\n",
              "    }\n",
              "\n",
              "    .dataframe tbody tr th {\n",
              "        vertical-align: top;\n",
              "    }\n",
              "\n",
              "    .dataframe thead th {\n",
              "        text-align: right;\n",
              "    }\n",
              "</style>\n",
              "<table border=\"1\" class=\"dataframe\">\n",
              "  <thead>\n",
              "    <tr style=\"text-align: right;\">\n",
              "      <th></th>\n",
              "      <th>label</th>\n",
              "      <th>text</th>\n",
              "    </tr>\n",
              "  </thead>\n",
              "  <tbody>\n",
              "    <tr>\n",
              "      <th>0</th>\n",
              "      <td>ham</td>\n",
              "      <td>Go until jurong point, crazy.. Available only ...</td>\n",
              "    </tr>\n",
              "    <tr>\n",
              "      <th>1</th>\n",
              "      <td>ham</td>\n",
              "      <td>Ok lar... Joking wif u oni...</td>\n",
              "    </tr>\n",
              "    <tr>\n",
              "      <th>2</th>\n",
              "      <td>spam</td>\n",
              "      <td>Free entry in 2 a wkly comp to win FA Cup fina...</td>\n",
              "    </tr>\n",
              "    <tr>\n",
              "      <th>3</th>\n",
              "      <td>ham</td>\n",
              "      <td>U dun say so early hor... U c already then say...</td>\n",
              "    </tr>\n",
              "    <tr>\n",
              "      <th>4</th>\n",
              "      <td>ham</td>\n",
              "      <td>Nah I don't think he goes to usf, he lives aro...</td>\n",
              "    </tr>\n",
              "  </tbody>\n",
              "</table>\n",
              "</div>\n",
              "    <div class=\"colab-df-buttons\">\n",
              "\n",
              "  <div class=\"colab-df-container\">\n",
              "    <button class=\"colab-df-convert\" onclick=\"convertToInteractive('df-2c9275b0-b2e8-4c30-8079-1ae03fbe7ef6')\"\n",
              "            title=\"Convert this dataframe to an interactive table.\"\n",
              "            style=\"display:none;\">\n",
              "\n",
              "  <svg xmlns=\"http://www.w3.org/2000/svg\" height=\"24px\" viewBox=\"0 -960 960 960\">\n",
              "    <path d=\"M120-120v-720h720v720H120Zm60-500h600v-160H180v160Zm220 220h160v-160H400v160Zm0 220h160v-160H400v160ZM180-400h160v-160H180v160Zm440 0h160v-160H620v160ZM180-180h160v-160H180v160Zm440 0h160v-160H620v160Z\"/>\n",
              "  </svg>\n",
              "    </button>\n",
              "\n",
              "  <style>\n",
              "    .colab-df-container {\n",
              "      display:flex;\n",
              "      gap: 12px;\n",
              "    }\n",
              "\n",
              "    .colab-df-convert {\n",
              "      background-color: #E8F0FE;\n",
              "      border: none;\n",
              "      border-radius: 50%;\n",
              "      cursor: pointer;\n",
              "      display: none;\n",
              "      fill: #1967D2;\n",
              "      height: 32px;\n",
              "      padding: 0 0 0 0;\n",
              "      width: 32px;\n",
              "    }\n",
              "\n",
              "    .colab-df-convert:hover {\n",
              "      background-color: #E2EBFA;\n",
              "      box-shadow: 0px 1px 2px rgba(60, 64, 67, 0.3), 0px 1px 3px 1px rgba(60, 64, 67, 0.15);\n",
              "      fill: #174EA6;\n",
              "    }\n",
              "\n",
              "    .colab-df-buttons div {\n",
              "      margin-bottom: 4px;\n",
              "    }\n",
              "\n",
              "    [theme=dark] .colab-df-convert {\n",
              "      background-color: #3B4455;\n",
              "      fill: #D2E3FC;\n",
              "    }\n",
              "\n",
              "    [theme=dark] .colab-df-convert:hover {\n",
              "      background-color: #434B5C;\n",
              "      box-shadow: 0px 1px 3px 1px rgba(0, 0, 0, 0.15);\n",
              "      filter: drop-shadow(0px 1px 2px rgba(0, 0, 0, 0.3));\n",
              "      fill: #FFFFFF;\n",
              "    }\n",
              "  </style>\n",
              "\n",
              "    <script>\n",
              "      const buttonEl =\n",
              "        document.querySelector('#df-2c9275b0-b2e8-4c30-8079-1ae03fbe7ef6 button.colab-df-convert');\n",
              "      buttonEl.style.display =\n",
              "        google.colab.kernel.accessAllowed ? 'block' : 'none';\n",
              "\n",
              "      async function convertToInteractive(key) {\n",
              "        const element = document.querySelector('#df-2c9275b0-b2e8-4c30-8079-1ae03fbe7ef6');\n",
              "        const dataTable =\n",
              "          await google.colab.kernel.invokeFunction('convertToInteractive',\n",
              "                                                    [key], {});\n",
              "        if (!dataTable) return;\n",
              "\n",
              "        const docLinkHtml = 'Like what you see? Visit the ' +\n",
              "          '<a target=\"_blank\" href=https://colab.research.google.com/notebooks/data_table.ipynb>data table notebook</a>'\n",
              "          + ' to learn more about interactive tables.';\n",
              "        element.innerHTML = '';\n",
              "        dataTable['output_type'] = 'display_data';\n",
              "        await google.colab.output.renderOutput(dataTable, element);\n",
              "        const docLink = document.createElement('div');\n",
              "        docLink.innerHTML = docLinkHtml;\n",
              "        element.appendChild(docLink);\n",
              "      }\n",
              "    </script>\n",
              "  </div>\n",
              "\n",
              "\n",
              "<div id=\"df-5e2bc29f-03de-494c-9de3-396c49b7422b\">\n",
              "  <button class=\"colab-df-quickchart\" onclick=\"quickchart('df-5e2bc29f-03de-494c-9de3-396c49b7422b')\"\n",
              "            title=\"Suggest charts\"\n",
              "            style=\"display:none;\">\n",
              "\n",
              "<svg xmlns=\"http://www.w3.org/2000/svg\" height=\"24px\"viewBox=\"0 0 24 24\"\n",
              "     width=\"24px\">\n",
              "    <g>\n",
              "        <path d=\"M19 3H5c-1.1 0-2 .9-2 2v14c0 1.1.9 2 2 2h14c1.1 0 2-.9 2-2V5c0-1.1-.9-2-2-2zM9 17H7v-7h2v7zm4 0h-2V7h2v10zm4 0h-2v-4h2v4z\"/>\n",
              "    </g>\n",
              "</svg>\n",
              "  </button>\n",
              "\n",
              "<style>\n",
              "  .colab-df-quickchart {\n",
              "      --bg-color: #E8F0FE;\n",
              "      --fill-color: #1967D2;\n",
              "      --hover-bg-color: #E2EBFA;\n",
              "      --hover-fill-color: #174EA6;\n",
              "      --disabled-fill-color: #AAA;\n",
              "      --disabled-bg-color: #DDD;\n",
              "  }\n",
              "\n",
              "  [theme=dark] .colab-df-quickchart {\n",
              "      --bg-color: #3B4455;\n",
              "      --fill-color: #D2E3FC;\n",
              "      --hover-bg-color: #434B5C;\n",
              "      --hover-fill-color: #FFFFFF;\n",
              "      --disabled-bg-color: #3B4455;\n",
              "      --disabled-fill-color: #666;\n",
              "  }\n",
              "\n",
              "  .colab-df-quickchart {\n",
              "    background-color: var(--bg-color);\n",
              "    border: none;\n",
              "    border-radius: 50%;\n",
              "    cursor: pointer;\n",
              "    display: none;\n",
              "    fill: var(--fill-color);\n",
              "    height: 32px;\n",
              "    padding: 0;\n",
              "    width: 32px;\n",
              "  }\n",
              "\n",
              "  .colab-df-quickchart:hover {\n",
              "    background-color: var(--hover-bg-color);\n",
              "    box-shadow: 0 1px 2px rgba(60, 64, 67, 0.3), 0 1px 3px 1px rgba(60, 64, 67, 0.15);\n",
              "    fill: var(--button-hover-fill-color);\n",
              "  }\n",
              "\n",
              "  .colab-df-quickchart-complete:disabled,\n",
              "  .colab-df-quickchart-complete:disabled:hover {\n",
              "    background-color: var(--disabled-bg-color);\n",
              "    fill: var(--disabled-fill-color);\n",
              "    box-shadow: none;\n",
              "  }\n",
              "\n",
              "  .colab-df-spinner {\n",
              "    border: 2px solid var(--fill-color);\n",
              "    border-color: transparent;\n",
              "    border-bottom-color: var(--fill-color);\n",
              "    animation:\n",
              "      spin 1s steps(1) infinite;\n",
              "  }\n",
              "\n",
              "  @keyframes spin {\n",
              "    0% {\n",
              "      border-color: transparent;\n",
              "      border-bottom-color: var(--fill-color);\n",
              "      border-left-color: var(--fill-color);\n",
              "    }\n",
              "    20% {\n",
              "      border-color: transparent;\n",
              "      border-left-color: var(--fill-color);\n",
              "      border-top-color: var(--fill-color);\n",
              "    }\n",
              "    30% {\n",
              "      border-color: transparent;\n",
              "      border-left-color: var(--fill-color);\n",
              "      border-top-color: var(--fill-color);\n",
              "      border-right-color: var(--fill-color);\n",
              "    }\n",
              "    40% {\n",
              "      border-color: transparent;\n",
              "      border-right-color: var(--fill-color);\n",
              "      border-top-color: var(--fill-color);\n",
              "    }\n",
              "    60% {\n",
              "      border-color: transparent;\n",
              "      border-right-color: var(--fill-color);\n",
              "    }\n",
              "    80% {\n",
              "      border-color: transparent;\n",
              "      border-right-color: var(--fill-color);\n",
              "      border-bottom-color: var(--fill-color);\n",
              "    }\n",
              "    90% {\n",
              "      border-color: transparent;\n",
              "      border-bottom-color: var(--fill-color);\n",
              "    }\n",
              "  }\n",
              "</style>\n",
              "\n",
              "  <script>\n",
              "    async function quickchart(key) {\n",
              "      const quickchartButtonEl =\n",
              "        document.querySelector('#' + key + ' button');\n",
              "      quickchartButtonEl.disabled = true;  // To prevent multiple clicks.\n",
              "      quickchartButtonEl.classList.add('colab-df-spinner');\n",
              "      try {\n",
              "        const charts = await google.colab.kernel.invokeFunction(\n",
              "            'suggestCharts', [key], {});\n",
              "      } catch (error) {\n",
              "        console.error('Error during call to suggestCharts:', error);\n",
              "      }\n",
              "      quickchartButtonEl.classList.remove('colab-df-spinner');\n",
              "      quickchartButtonEl.classList.add('colab-df-quickchart-complete');\n",
              "    }\n",
              "    (() => {\n",
              "      let quickchartButtonEl =\n",
              "        document.querySelector('#df-5e2bc29f-03de-494c-9de3-396c49b7422b button');\n",
              "      quickchartButtonEl.style.display =\n",
              "        google.colab.kernel.accessAllowed ? 'block' : 'none';\n",
              "    })();\n",
              "  </script>\n",
              "</div>\n",
              "\n",
              "    </div>\n",
              "  </div>\n"
            ],
            "text/plain": [
              "  label                                               text\n",
              "0   ham  Go until jurong point, crazy.. Available only ...\n",
              "1   ham                      Ok lar... Joking wif u oni...\n",
              "2  spam  Free entry in 2 a wkly comp to win FA Cup fina...\n",
              "3   ham  U dun say so early hor... U c already then say...\n",
              "4   ham  Nah I don't think he goes to usf, he lives aro..."
            ]
          },
          "execution_count": 14,
          "metadata": {},
          "output_type": "execute_result"
        }
      ],
      "source": [
        "mapper = {'v1': 'label', 'v2': 'text'} # rename columns\n",
        "df.rename(columns=mapper, inplace=True)\n",
        "df.head()"
      ]
    },
    {
      "cell_type": "code",
      "execution_count": 15,
      "metadata": {
        "colab": {
          "base_uri": "https://localhost:8080/",
          "height": 174
        },
        "id": "j6mgtKsvKKr3",
        "outputId": "df32a714-e1c4-436f-c642-8d024841b06f"
      },
      "outputs": [
        {
          "data": {
            "text/html": [
              "\n",
              "  <div id=\"df-e41ad2b3-38a5-4156-abae-a27a391d5bbb\" class=\"colab-df-container\">\n",
              "    <div>\n",
              "<style scoped>\n",
              "    .dataframe tbody tr th:only-of-type {\n",
              "        vertical-align: middle;\n",
              "    }\n",
              "\n",
              "    .dataframe tbody tr th {\n",
              "        vertical-align: top;\n",
              "    }\n",
              "\n",
              "    .dataframe thead th {\n",
              "        text-align: right;\n",
              "    }\n",
              "</style>\n",
              "<table border=\"1\" class=\"dataframe\">\n",
              "  <thead>\n",
              "    <tr style=\"text-align: right;\">\n",
              "      <th></th>\n",
              "      <th>label</th>\n",
              "      <th>text</th>\n",
              "    </tr>\n",
              "  </thead>\n",
              "  <tbody>\n",
              "    <tr>\n",
              "      <th>count</th>\n",
              "      <td>5572</td>\n",
              "      <td>5572</td>\n",
              "    </tr>\n",
              "    <tr>\n",
              "      <th>unique</th>\n",
              "      <td>2</td>\n",
              "      <td>5169</td>\n",
              "    </tr>\n",
              "    <tr>\n",
              "      <th>top</th>\n",
              "      <td>ham</td>\n",
              "      <td>Sorry, I'll call later</td>\n",
              "    </tr>\n",
              "    <tr>\n",
              "      <th>freq</th>\n",
              "      <td>4825</td>\n",
              "      <td>30</td>\n",
              "    </tr>\n",
              "  </tbody>\n",
              "</table>\n",
              "</div>\n",
              "    <div class=\"colab-df-buttons\">\n",
              "\n",
              "  <div class=\"colab-df-container\">\n",
              "    <button class=\"colab-df-convert\" onclick=\"convertToInteractive('df-e41ad2b3-38a5-4156-abae-a27a391d5bbb')\"\n",
              "            title=\"Convert this dataframe to an interactive table.\"\n",
              "            style=\"display:none;\">\n",
              "\n",
              "  <svg xmlns=\"http://www.w3.org/2000/svg\" height=\"24px\" viewBox=\"0 -960 960 960\">\n",
              "    <path d=\"M120-120v-720h720v720H120Zm60-500h600v-160H180v160Zm220 220h160v-160H400v160Zm0 220h160v-160H400v160ZM180-400h160v-160H180v160Zm440 0h160v-160H620v160ZM180-180h160v-160H180v160Zm440 0h160v-160H620v160Z\"/>\n",
              "  </svg>\n",
              "    </button>\n",
              "\n",
              "  <style>\n",
              "    .colab-df-container {\n",
              "      display:flex;\n",
              "      gap: 12px;\n",
              "    }\n",
              "\n",
              "    .colab-df-convert {\n",
              "      background-color: #E8F0FE;\n",
              "      border: none;\n",
              "      border-radius: 50%;\n",
              "      cursor: pointer;\n",
              "      display: none;\n",
              "      fill: #1967D2;\n",
              "      height: 32px;\n",
              "      padding: 0 0 0 0;\n",
              "      width: 32px;\n",
              "    }\n",
              "\n",
              "    .colab-df-convert:hover {\n",
              "      background-color: #E2EBFA;\n",
              "      box-shadow: 0px 1px 2px rgba(60, 64, 67, 0.3), 0px 1px 3px 1px rgba(60, 64, 67, 0.15);\n",
              "      fill: #174EA6;\n",
              "    }\n",
              "\n",
              "    .colab-df-buttons div {\n",
              "      margin-bottom: 4px;\n",
              "    }\n",
              "\n",
              "    [theme=dark] .colab-df-convert {\n",
              "      background-color: #3B4455;\n",
              "      fill: #D2E3FC;\n",
              "    }\n",
              "\n",
              "    [theme=dark] .colab-df-convert:hover {\n",
              "      background-color: #434B5C;\n",
              "      box-shadow: 0px 1px 3px 1px rgba(0, 0, 0, 0.15);\n",
              "      filter: drop-shadow(0px 1px 2px rgba(0, 0, 0, 0.3));\n",
              "      fill: #FFFFFF;\n",
              "    }\n",
              "  </style>\n",
              "\n",
              "    <script>\n",
              "      const buttonEl =\n",
              "        document.querySelector('#df-e41ad2b3-38a5-4156-abae-a27a391d5bbb button.colab-df-convert');\n",
              "      buttonEl.style.display =\n",
              "        google.colab.kernel.accessAllowed ? 'block' : 'none';\n",
              "\n",
              "      async function convertToInteractive(key) {\n",
              "        const element = document.querySelector('#df-e41ad2b3-38a5-4156-abae-a27a391d5bbb');\n",
              "        const dataTable =\n",
              "          await google.colab.kernel.invokeFunction('convertToInteractive',\n",
              "                                                    [key], {});\n",
              "        if (!dataTable) return;\n",
              "\n",
              "        const docLinkHtml = 'Like what you see? Visit the ' +\n",
              "          '<a target=\"_blank\" href=https://colab.research.google.com/notebooks/data_table.ipynb>data table notebook</a>'\n",
              "          + ' to learn more about interactive tables.';\n",
              "        element.innerHTML = '';\n",
              "        dataTable['output_type'] = 'display_data';\n",
              "        await google.colab.output.renderOutput(dataTable, element);\n",
              "        const docLink = document.createElement('div');\n",
              "        docLink.innerHTML = docLinkHtml;\n",
              "        element.appendChild(docLink);\n",
              "      }\n",
              "    </script>\n",
              "  </div>\n",
              "\n",
              "\n",
              "<div id=\"df-93081473-9dea-4e5d-a9f3-e94ecfb34942\">\n",
              "  <button class=\"colab-df-quickchart\" onclick=\"quickchart('df-93081473-9dea-4e5d-a9f3-e94ecfb34942')\"\n",
              "            title=\"Suggest charts\"\n",
              "            style=\"display:none;\">\n",
              "\n",
              "<svg xmlns=\"http://www.w3.org/2000/svg\" height=\"24px\"viewBox=\"0 0 24 24\"\n",
              "     width=\"24px\">\n",
              "    <g>\n",
              "        <path d=\"M19 3H5c-1.1 0-2 .9-2 2v14c0 1.1.9 2 2 2h14c1.1 0 2-.9 2-2V5c0-1.1-.9-2-2-2zM9 17H7v-7h2v7zm4 0h-2V7h2v10zm4 0h-2v-4h2v4z\"/>\n",
              "    </g>\n",
              "</svg>\n",
              "  </button>\n",
              "\n",
              "<style>\n",
              "  .colab-df-quickchart {\n",
              "      --bg-color: #E8F0FE;\n",
              "      --fill-color: #1967D2;\n",
              "      --hover-bg-color: #E2EBFA;\n",
              "      --hover-fill-color: #174EA6;\n",
              "      --disabled-fill-color: #AAA;\n",
              "      --disabled-bg-color: #DDD;\n",
              "  }\n",
              "\n",
              "  [theme=dark] .colab-df-quickchart {\n",
              "      --bg-color: #3B4455;\n",
              "      --fill-color: #D2E3FC;\n",
              "      --hover-bg-color: #434B5C;\n",
              "      --hover-fill-color: #FFFFFF;\n",
              "      --disabled-bg-color: #3B4455;\n",
              "      --disabled-fill-color: #666;\n",
              "  }\n",
              "\n",
              "  .colab-df-quickchart {\n",
              "    background-color: var(--bg-color);\n",
              "    border: none;\n",
              "    border-radius: 50%;\n",
              "    cursor: pointer;\n",
              "    display: none;\n",
              "    fill: var(--fill-color);\n",
              "    height: 32px;\n",
              "    padding: 0;\n",
              "    width: 32px;\n",
              "  }\n",
              "\n",
              "  .colab-df-quickchart:hover {\n",
              "    background-color: var(--hover-bg-color);\n",
              "    box-shadow: 0 1px 2px rgba(60, 64, 67, 0.3), 0 1px 3px 1px rgba(60, 64, 67, 0.15);\n",
              "    fill: var(--button-hover-fill-color);\n",
              "  }\n",
              "\n",
              "  .colab-df-quickchart-complete:disabled,\n",
              "  .colab-df-quickchart-complete:disabled:hover {\n",
              "    background-color: var(--disabled-bg-color);\n",
              "    fill: var(--disabled-fill-color);\n",
              "    box-shadow: none;\n",
              "  }\n",
              "\n",
              "  .colab-df-spinner {\n",
              "    border: 2px solid var(--fill-color);\n",
              "    border-color: transparent;\n",
              "    border-bottom-color: var(--fill-color);\n",
              "    animation:\n",
              "      spin 1s steps(1) infinite;\n",
              "  }\n",
              "\n",
              "  @keyframes spin {\n",
              "    0% {\n",
              "      border-color: transparent;\n",
              "      border-bottom-color: var(--fill-color);\n",
              "      border-left-color: var(--fill-color);\n",
              "    }\n",
              "    20% {\n",
              "      border-color: transparent;\n",
              "      border-left-color: var(--fill-color);\n",
              "      border-top-color: var(--fill-color);\n",
              "    }\n",
              "    30% {\n",
              "      border-color: transparent;\n",
              "      border-left-color: var(--fill-color);\n",
              "      border-top-color: var(--fill-color);\n",
              "      border-right-color: var(--fill-color);\n",
              "    }\n",
              "    40% {\n",
              "      border-color: transparent;\n",
              "      border-right-color: var(--fill-color);\n",
              "      border-top-color: var(--fill-color);\n",
              "    }\n",
              "    60% {\n",
              "      border-color: transparent;\n",
              "      border-right-color: var(--fill-color);\n",
              "    }\n",
              "    80% {\n",
              "      border-color: transparent;\n",
              "      border-right-color: var(--fill-color);\n",
              "      border-bottom-color: var(--fill-color);\n",
              "    }\n",
              "    90% {\n",
              "      border-color: transparent;\n",
              "      border-bottom-color: var(--fill-color);\n",
              "    }\n",
              "  }\n",
              "</style>\n",
              "\n",
              "  <script>\n",
              "    async function quickchart(key) {\n",
              "      const quickchartButtonEl =\n",
              "        document.querySelector('#' + key + ' button');\n",
              "      quickchartButtonEl.disabled = true;  // To prevent multiple clicks.\n",
              "      quickchartButtonEl.classList.add('colab-df-spinner');\n",
              "      try {\n",
              "        const charts = await google.colab.kernel.invokeFunction(\n",
              "            'suggestCharts', [key], {});\n",
              "      } catch (error) {\n",
              "        console.error('Error during call to suggestCharts:', error);\n",
              "      }\n",
              "      quickchartButtonEl.classList.remove('colab-df-spinner');\n",
              "      quickchartButtonEl.classList.add('colab-df-quickchart-complete');\n",
              "    }\n",
              "    (() => {\n",
              "      let quickchartButtonEl =\n",
              "        document.querySelector('#df-93081473-9dea-4e5d-a9f3-e94ecfb34942 button');\n",
              "      quickchartButtonEl.style.display =\n",
              "        google.colab.kernel.accessAllowed ? 'block' : 'none';\n",
              "    })();\n",
              "  </script>\n",
              "</div>\n",
              "\n",
              "    </div>\n",
              "  </div>\n"
            ],
            "text/plain": [
              "       label                    text\n",
              "count   5572                    5572\n",
              "unique     2                    5169\n",
              "top      ham  Sorry, I'll call later\n",
              "freq    4825                      30"
            ]
          },
          "execution_count": 15,
          "metadata": {},
          "output_type": "execute_result"
        }
      ],
      "source": [
        "df.describe(include='all')"
      ]
    },
    {
      "cell_type": "markdown",
      "metadata": {
        "id": "26o3WCn8KKr4"
      },
      "source": [
        "we have two unique values in label (spam or ham) => a binary classification problem"
      ]
    },
    {
      "cell_type": "code",
      "execution_count": 16,
      "metadata": {
        "colab": {
          "base_uri": "https://localhost:8080/"
        },
        "id": "g9ubKUWVKKr4",
        "outputId": "35b2f33d-4f74-4682-e213-a922f8b89fc2"
      },
      "outputs": [
        {
          "data": {
            "text/plain": [
              "ham     4825\n",
              "spam     747\n",
              "Name: label, dtype: int64"
            ]
          },
          "execution_count": 16,
          "metadata": {},
          "output_type": "execute_result"
        }
      ],
      "source": [
        "df.label.value_counts()"
      ]
    },
    {
      "cell_type": "code",
      "execution_count": 17,
      "metadata": {
        "colab": {
          "base_uri": "https://localhost:8080/",
          "height": 472
        },
        "id": "mzPIShuAKKr5",
        "outputId": "73c6d080-a254-45f0-d3a8-1c4bcec7f72f"
      },
      "outputs": [
        {
          "data": {
            "image/png": "[encoded data removed]",
            "text/plain": [
              "<Figure size 640x480 with 1 Axes>"
            ]
          },
          "metadata": {},
          "output_type": "display_data"
        }
      ],
      "source": [
        "sns.countplot(df, x = 'label', palette='Set3', edgecolor='black')\n",
        "plt.title(\"Count of ham and spam messages\")\n",
        "plt.show()"
      ]
    },
    {
      "cell_type": "markdown",
      "metadata": {
        "id": "PpPbOEPTKKr6"
      },
      "source": [
        "The number of ham messages is way higher than the number of spam messages => unbalanced dataset\n",
        "This could lead to a biased model that will classify the messages according to the majority class (ham).\n",
        "We can deal with this by either undersampling the majority class or oversampling the minority class."
      ]
    },
    {
      "cell_type": "code",
      "execution_count": 18,
      "metadata": {
        "colab": {
          "base_uri": "https://localhost:8080/",
          "height": 718
        },
        "id": "kzvH3rZtKKr7",
        "outputId": "50fa4afa-dfbf-459a-d307-494143c7425b"
      },
      "outputs": [
        {
          "data": {
            "image/png": "[encoded data removed]",
            "text/plain": [
              "<Figure size 1200x800 with 1 Axes>"
            ]
          },
          "metadata": {},
          "output_type": "display_data"
        }
      ],
      "source": [
        "fig=plt.figure(figsize=(12,8))\n",
        "sns.histplot(\n",
        "    x=df[\"text\"].str.len(),\n",
        "    hue=df[\"label\"]\n",
        ")\n",
        "plt.title(\"ham & spam messege length comparision\")\n",
        "plt.xlabel(\"text messege length\")\n",
        "plt.show()"
      ]
    },
    {
      "cell_type": "markdown",
      "metadata": {
        "id": "h6XC7skFKKr8"
      },
      "source": [
        "<b>Keyfindings:</b> <br>\n",
        "We can see that the ham messages have the longest message of aroung 900 words, however aroung 70% of the ham messages have a length of 100 characters or less.<br>\n",
        "However, most of the spam messages have a length of 140 characters or more.<br>\n",
        "=> We can conclude that the spam messages tend to be longer than the ham messages.<br>\n",
        "=> We can use the length of the message as a feature to help us classify the messages.<br>\n"
      ]
    },
    {
      "cell_type": "code",
      "execution_count": 19,
      "metadata": {
        "id": "0zSEZqX_KKr8"
      },
      "outputs": [],
      "source": [
        "#df.label = df.label.map({'ham': 0, 'spam': 1})\n",
        "#df.head()"
      ]
    },
    {
      "cell_type": "markdown",
      "metadata": {
        "id": "-3PK3MHaKKr9"
      },
      "source": [
        "# Data Preprocessing"
      ]
    },
    {
      "cell_type": "markdown",
      "metadata": {
        "id": "gJHbD_AUhmoZ"
      },
      "source": [
        "## Undersampling"
      ]
    },
    {
      "cell_type": "code",
      "execution_count": 20,
      "metadata": {
        "id": "WQQh5b5hhp3C"
      },
      "outputs": [],
      "source": [
        "# Class count\n",
        "count_ham, count_spam = df.label.value_counts()\n",
        "\n",
        "# Divide by class\n",
        "df_ham = df[df['label'] == 'ham']\n",
        "df_spam = df[df['label'] == 'spam']"
      ]
    },
    {
      "cell_type": "code",
      "execution_count": 21,
      "metadata": {
        "colab": {
          "base_uri": "https://localhost:8080/"
        },
        "id": "VnK-s5-xhvYx",
        "outputId": "a9dc1d95-a174-43bb-fefb-7c4eae0eec15"
      },
      "outputs": [
        {
          "name": "stdout",
          "output_type": "stream",
          "text": [
            "Random under-sampling:\n",
            "ham     747\n",
            "spam    747\n",
            "Name: label, dtype: int64\n"
          ]
        }
      ],
      "source": [
        "# Undersample the ham class and concat the DataFrames of both class\n",
        "df_ham_under = df_ham.sample(count_spam)\n",
        "df_under = pd.concat([df_ham_under, df_spam], axis=0)\n",
        "\n",
        "print('Random under-sampling:')\n",
        "print(df_under.label.value_counts())"
      ]
    },
    {
      "cell_type": "markdown",
      "metadata": {
        "id": "4OGK1cUAKKr9"
      },
      "source": [
        "## Cleaning the text"
      ]
    },
    {
      "cell_type": "markdown",
      "metadata": {
        "id": "mVBjqw1nKKr9"
      },
      "source": [
        "cleaning_text function:\n",
        "1. convert to lower case\n",
        "2. remove punctuation and special characters\n",
        "3. remove extra spaces\n",
        "4. remove stopwords\n",
        "5. join the words back into a string"
      ]
    },
    {
      "cell_type": "code",
      "execution_count": 22,
      "metadata": {
        "colab": {
          "base_uri": "https://localhost:8080/"
        },
        "id": "RJ22jVT4KKr-",
        "outputId": "a4477a76-a7a7-425b-ed7d-52cb85671e8a"
      },
      "outputs": [
        {
          "name": "stderr",
          "output_type": "stream",
          "text": [
            "[nltk_data] Downloading package stopwords to /root/nltk_data...\n",
            "[nltk_data]   Unzipping corpora/stopwords.zip.\n"
          ]
        },
        {
          "data": {
            "text/plain": [
              "True"
            ]
          },
          "execution_count": 22,
          "metadata": {},
          "output_type": "execute_result"
        }
      ],
      "source": [
        "nltk.download('stopwords')"
      ]
    },
    {
      "cell_type": "code",
      "execution_count": 23,
      "metadata": {
        "id": "mTLOBWTVKKr-"
      },
      "outputs": [],
      "source": [
        "stop_words = set(stopwords.words('english')) # sets are more fit to increase the speed of the code\n",
        "\n",
        "def cleaning_text(text):\n",
        "    text = text.lower()\n",
        "    text = re.sub(r'[^a-zA-Z0-9\\s]', '', text) # Any character out of this a-zA-Z0-9 will be replaced by ''\n",
        "    text = re.sub(r'\\s+', ' ', text)\n",
        "    text = [word for word in text.split() if word not in stop_words]\n",
        "    text = ' '.join(text)\n",
        "    return text"
      ]
    },
    {
      "cell_type": "markdown",
      "metadata": {
        "id": "2r_AHSLTKKr_"
      },
      "source": [
        "## Stemming"
      ]
    },
    {
      "cell_type": "markdown",
      "metadata": {
        "id": "sR1QxIWAKKr_"
      },
      "source": [
        "<b>PorterStemmer</b> uses Suffix Stripping to produce stems. PorterStemmer is known for its simplicity and speed. Notice how the PorterStemmer is giving the root (stem) of the word \"cats\" by simply removing the 's' after cat. This is a suffix added to cat to make it plural. But if you look at 'trouble', 'troubling' and 'troubled' they are stemmed to 'trouble' and this is the limitation of the PorterStemmer."
      ]
    },
    {
      "cell_type": "code",
      "execution_count": 24,
      "metadata": {
        "id": "40Z1ua4KKKsA"
      },
      "outputs": [],
      "source": [
        "# After cleaning the text we apply stemming to the text\n",
        "def stemming_text(text):\n",
        "    ps = PorterStemmer()\n",
        "    text = [ps.stem(word) for word in text.split()]\n",
        "    text = ' '.join(text)\n",
        "    return text"
      ]
    },
    {
      "cell_type": "code",
      "execution_count": 25,
      "metadata": {
        "colab": {
          "base_uri": "https://localhost:8080/"
        },
        "id": "jADgurxaKKsA",
        "outputId": "0d741f1d-359f-4922-9617-cf6d3ab1b9d4"
      },
      "outputs": [
        {
          "name": "stdout",
          "output_type": "stream",
          "text": [
            "Original text: I HAVE A DATE ON SUNDAY WITH WILL!!,,,\n",
            "Cleaned text: date sunday\n",
            "Stemmed text: date sunday\n"
          ]
        }
      ],
      "source": [
        "# Example\n",
        "original = \"I HAVE A DATE ON SUNDAY WITH WILL!!,,,\"\n",
        "cleaned = cleaning_text(original)\n",
        "stemmed = stemming_text(cleaned)\n",
        "print(\"Original text:\", original)\n",
        "print(\"Cleaned text:\", cleaned)\n",
        "print(\"Stemmed text:\", stemmed)"
      ]
    },
    {
      "cell_type": "code",
      "execution_count": 26,
      "metadata": {
        "colab": {
          "base_uri": "https://localhost:8080/",
          "height": 206
        },
        "id": "Z20txVF-KKsA",
        "outputId": "af0c306d-6318-4fe5-fc2d-e2cd8f7533a7"
      },
      "outputs": [
        {
          "data": {
            "text/html": [
              "\n",
              "  <div id=\"df-257e36a6-245a-4157-aab0-98eb65f92764\" class=\"colab-df-container\">\n",
              "    <div>\n",
              "<style scoped>\n",
              "    .dataframe tbody tr th:only-of-type {\n",
              "        vertical-align: middle;\n",
              "    }\n",
              "\n",
              "    .dataframe tbody tr th {\n",
              "        vertical-align: top;\n",
              "    }\n",
              "\n",
              "    .dataframe thead th {\n",
              "        text-align: right;\n",
              "    }\n",
              "</style>\n",
              "<table border=\"1\" class=\"dataframe\">\n",
              "  <thead>\n",
              "    <tr style=\"text-align: right;\">\n",
              "      <th></th>\n",
              "      <th>label</th>\n",
              "      <th>text</th>\n",
              "      <th>cleaned_text</th>\n",
              "    </tr>\n",
              "  </thead>\n",
              "  <tbody>\n",
              "    <tr>\n",
              "      <th>5419</th>\n",
              "      <td>ham</td>\n",
              "      <td>I'm at bruce &amp;amp; fowler now but I'm in my mo...</td>\n",
              "      <td>im bruce amp fowler im mom car cant park long ...</td>\n",
              "    </tr>\n",
              "    <tr>\n",
              "      <th>1795</th>\n",
              "      <td>ham</td>\n",
              "      <td>I hope your alright babe? I worry that you mig...</td>\n",
              "      <td>hope alright babe worri might felt bit despar ...</td>\n",
              "    </tr>\n",
              "    <tr>\n",
              "      <th>2578</th>\n",
              "      <td>ham</td>\n",
              "      <td>Erm. I thought the contract ran out the4th of ...</td>\n",
              "      <td>erm thought contract ran the4th octob</td>\n",
              "    </tr>\n",
              "    <tr>\n",
              "      <th>3881</th>\n",
              "      <td>ham</td>\n",
              "      <td>Short But Cute: \\Be a good person</td>\n",
              "      <td>short cute good person</td>\n",
              "    </tr>\n",
              "    <tr>\n",
              "      <th>4914</th>\n",
              "      <td>ham</td>\n",
              "      <td>We took hooch for a walk toaday and i fell ove...</td>\n",
              "      <td>took hooch walk toaday fell splat graze knee e...</td>\n",
              "    </tr>\n",
              "  </tbody>\n",
              "</table>\n",
              "</div>\n",
              "    <div class=\"colab-df-buttons\">\n",
              "\n",
              "  <div class=\"colab-df-container\">\n",
              "    <button class=\"colab-df-convert\" onclick=\"convertToInteractive('df-257e36a6-245a-4157-aab0-98eb65f92764')\"\n",
              "            title=\"Convert this dataframe to an interactive table.\"\n",
              "            style=\"display:none;\">\n",
              "\n",
              "  <svg xmlns=\"http://www.w3.org/2000/svg\" height=\"24px\" viewBox=\"0 -960 960 960\">\n",
              "    <path d=\"M120-120v-720h720v720H120Zm60-500h600v-160H180v160Zm220 220h160v-160H400v160Zm0 220h160v-160H400v160ZM180-400h160v-160H180v160Zm440 0h160v-160H620v160ZM180-180h160v-160H180v160Zm440 0h160v-160H620v160Z\"/>\n",
              "  </svg>\n",
              "    </button>\n",
              "\n",
              "  <style>\n",
              "    .colab-df-container {\n",
              "      display:flex;\n",
              "      gap: 12px;\n",
              "    }\n",
              "\n",
              "    .colab-df-convert {\n",
              "      background-color: #E8F0FE;\n",
              "      border: none;\n",
              "      border-radius: 50%;\n",
              "      cursor: pointer;\n",
              "      display: none;\n",
              "      fill: #1967D2;\n",
              "      height: 32px;\n",
              "      padding: 0 0 0 0;\n",
              "      width: 32px;\n",
              "    }\n",
              "\n",
              "    .colab-df-convert:hover {\n",
              "      background-color: #E2EBFA;\n",
              "      box-shadow: 0px 1px 2px rgba(60, 64, 67, 0.3), 0px 1px 3px 1px rgba(60, 64, 67, 0.15);\n",
              "      fill: #174EA6;\n",
              "    }\n",
              "\n",
              "    .colab-df-buttons div {\n",
              "      margin-bottom: 4px;\n",
              "    }\n",
              "\n",
              "    [theme=dark] .colab-df-convert {\n",
              "      background-color: #3B4455;\n",
              "      fill: #D2E3FC;\n",
              "    }\n",
              "\n",
              "    [theme=dark] .colab-df-convert:hover {\n",
              "      background-color: #434B5C;\n",
              "      box-shadow: 0px 1px 3px 1px rgba(0, 0, 0, 0.15);\n",
              "      filter: drop-shadow(0px 1px 2px rgba(0, 0, 0, 0.3));\n",
              "      fill: #FFFFFF;\n",
              "    }\n",
              "  </style>\n",
              "\n",
              "    <script>\n",
              "      const buttonEl =\n",
              "        document.querySelector('#df-257e36a6-245a-4157-aab0-98eb65f92764 button.colab-df-convert');\n",
              "      buttonEl.style.display =\n",
              "        google.colab.kernel.accessAllowed ? 'block' : 'none';\n",
              "\n",
              "      async function convertToInteractive(key) {\n",
              "        const element = document.querySelector('#df-257e36a6-245a-4157-aab0-98eb65f92764');\n",
              "        const dataTable =\n",
              "          await google.colab.kernel.invokeFunction('convertToInteractive',\n",
              "                                                    [key], {});\n",
              "        if (!dataTable) return;\n",
              "\n",
              "        const docLinkHtml = 'Like what you see? Visit the ' +\n",
              "          '<a target=\"_blank\" href=https://colab.research.google.com/notebooks/data_table.ipynb>data table notebook</a>'\n",
              "          + ' to learn more about interactive tables.';\n",
              "        element.innerHTML = '';\n",
              "        dataTable['output_type'] = 'display_data';\n",
              "        await google.colab.output.renderOutput(dataTable, element);\n",
              "        const docLink = document.createElement('div');\n",
              "        docLink.innerHTML = docLinkHtml;\n",
              "        element.appendChild(docLink);\n",
              "      }\n",
              "    </script>\n",
              "  </div>\n",
              "\n",
              "\n",
              "<div id=\"df-24331a7e-c108-417a-aeb2-ac76ce8eadc4\">\n",
              "  <button class=\"colab-df-quickchart\" onclick=\"quickchart('df-24331a7e-c108-417a-aeb2-ac76ce8eadc4')\"\n",
              "            title=\"Suggest charts\"\n",
              "            style=\"display:none;\">\n",
              "\n",
              "<svg xmlns=\"http://www.w3.org/2000/svg\" height=\"24px\"viewBox=\"0 0 24 24\"\n",
              "     width=\"24px\">\n",
              "    <g>\n",
              "        <path d=\"M19 3H5c-1.1 0-2 .9-2 2v14c0 1.1.9 2 2 2h14c1.1 0 2-.9 2-2V5c0-1.1-.9-2-2-2zM9 17H7v-7h2v7zm4 0h-2V7h2v10zm4 0h-2v-4h2v4z\"/>\n",
              "    </g>\n",
              "</svg>\n",
              "  </button>\n",
              "\n",
              "<style>\n",
              "  .colab-df-quickchart {\n",
              "      --bg-color: #E8F0FE;\n",
              "      --fill-color: #1967D2;\n",
              "      --hover-bg-color: #E2EBFA;\n",
              "      --hover-fill-color: #174EA6;\n",
              "      --disabled-fill-color: #AAA;\n",
              "      --disabled-bg-color: #DDD;\n",
              "  }\n",
              "\n",
              "  [theme=dark] .colab-df-quickchart {\n",
              "      --bg-color: #3B4455;\n",
              "      --fill-color: #D2E3FC;\n",
              "      --hover-bg-color: #434B5C;\n",
              "      --hover-fill-color: #FFFFFF;\n",
              "      --disabled-bg-color: #3B4455;\n",
              "      --disabled-fill-color: #666;\n",
              "  }\n",
              "\n",
              "  .colab-df-quickchart {\n",
              "    background-color: var(--bg-color);\n",
              "    border: none;\n",
              "    border-radius: 50%;\n",
              "    cursor: pointer;\n",
              "    display: none;\n",
              "    fill: var(--fill-color);\n",
              "    height: 32px;\n",
              "    padding: 0;\n",
              "    width: 32px;\n",
              "  }\n",
              "\n",
              "  .colab-df-quickchart:hover {\n",
              "    background-color: var(--hover-bg-color);\n",
              "    box-shadow: 0 1px 2px rgba(60, 64, 67, 0.3), 0 1px 3px 1px rgba(60, 64, 67, 0.15);\n",
              "    fill: var(--button-hover-fill-color);\n",
              "  }\n",
              "\n",
              "  .colab-df-quickchart-complete:disabled,\n",
              "  .colab-df-quickchart-complete:disabled:hover {\n",
              "    background-color: var(--disabled-bg-color);\n",
              "    fill: var(--disabled-fill-color);\n",
              "    box-shadow: none;\n",
              "  }\n",
              "\n",
              "  .colab-df-spinner {\n",
              "    border: 2px solid var(--fill-color);\n",
              "    border-color: transparent;\n",
              "    border-bottom-color: var(--fill-color);\n",
              "    animation:\n",
              "      spin 1s steps(1) infinite;\n",
              "  }\n",
              "\n",
              "  @keyframes spin {\n",
              "    0% {\n",
              "      border-color: transparent;\n",
              "      border-bottom-color: var(--fill-color);\n",
              "      border-left-color: var(--fill-color);\n",
              "    }\n",
              "    20% {\n",
              "      border-color: transparent;\n",
              "      border-left-color: var(--fill-color);\n",
              "      border-top-color: var(--fill-color);\n",
              "    }\n",
              "    30% {\n",
              "      border-color: transparent;\n",
              "      border-left-color: var(--fill-color);\n",
              "      border-top-color: var(--fill-color);\n",
              "      border-right-color: var(--fill-color);\n",
              "    }\n",
              "    40% {\n",
              "      border-color: transparent;\n",
              "      border-right-color: var(--fill-color);\n",
              "      border-top-color: var(--fill-color);\n",
              "    }\n",
              "    60% {\n",
              "      border-color: transparent;\n",
              "      border-right-color: var(--fill-color);\n",
              "    }\n",
              "    80% {\n",
              "      border-color: transparent;\n",
              "      border-right-color: var(--fill-color);\n",
              "      border-bottom-color: var(--fill-color);\n",
              "    }\n",
              "    90% {\n",
              "      border-color: transparent;\n",
              "      border-bottom-color: var(--fill-color);\n",
              "    }\n",
              "  }\n",
              "</style>\n",
              "\n",
              "  <script>\n",
              "    async function quickchart(key) {\n",
              "      const quickchartButtonEl =\n",
              "        document.querySelector('#' + key + ' button');\n",
              "      quickchartButtonEl.disabled = true;  // To prevent multiple clicks.\n",
              "      quickchartButtonEl.classList.add('colab-df-spinner');\n",
              "      try {\n",
              "        const charts = await google.colab.kernel.invokeFunction(\n",
              "            'suggestCharts', [key], {});\n",
              "      } catch (error) {\n",
              "        console.error('Error during call to suggestCharts:', error);\n",
              "      }\n",
              "      quickchartButtonEl.classList.remove('colab-df-spinner');\n",
              "      quickchartButtonEl.classList.add('colab-df-quickchart-complete');\n",
              "    }\n",
              "    (() => {\n",
              "      let quickchartButtonEl =\n",
              "        document.querySelector('#df-24331a7e-c108-417a-aeb2-ac76ce8eadc4 button');\n",
              "      quickchartButtonEl.style.display =\n",
              "        google.colab.kernel.accessAllowed ? 'block' : 'none';\n",
              "    })();\n",
              "  </script>\n",
              "</div>\n",
              "\n",
              "    </div>\n",
              "  </div>\n"
            ],
            "text/plain": [
              "     label                                               text  \\\n",
              "5419   ham  I'm at bruce &amp; fowler now but I'm in my mo...   \n",
              "1795   ham  I hope your alright babe? I worry that you mig...   \n",
              "2578   ham  Erm. I thought the contract ran out the4th of ...   \n",
              "3881   ham                  Short But Cute: \\Be a good person   \n",
              "4914   ham  We took hooch for a walk toaday and i fell ove...   \n",
              "\n",
              "                                           cleaned_text  \n",
              "5419  im bruce amp fowler im mom car cant park long ...  \n",
              "1795  hope alright babe worri might felt bit despar ...  \n",
              "2578              erm thought contract ran the4th octob  \n",
              "3881                             short cute good person  \n",
              "4914  took hooch walk toaday fell splat graze knee e...  "
            ]
          },
          "execution_count": 26,
          "metadata": {},
          "output_type": "execute_result"
        }
      ],
      "source": [
        "df_under['cleaned_text'] = df_under.text.apply(cleaning_text)\n",
        "df_under['cleaned_text'] = df_under.cleaned_text.apply(stemming_text)\n",
        "df_under.head()"
      ]
    },
    {
      "cell_type": "markdown",
      "metadata": {
        "id": "mrztUwmgKKsB"
      },
      "source": [
        "# Extracting feature and target lists"
      ]
    },
    {
      "cell_type": "markdown",
      "metadata": {
        "id": "CZXeRhPeKKsC"
      },
      "source": [
        "## Target Encoding"
      ]
    },
    {
      "cell_type": "code",
      "execution_count": 27,
      "metadata": {
        "id": "NVyL1cyVKKsC"
      },
      "outputs": [],
      "source": [
        "le = LabelEncoder()\n",
        "df_under['label'] = le.fit_transform(df_under['label'])"
      ]
    },
    {
      "cell_type": "code",
      "execution_count": 28,
      "metadata": {
        "colab": {
          "base_uri": "https://localhost:8080/",
          "height": 206
        },
        "id": "xKNBfousKKsC",
        "outputId": "c857dae1-d6e6-4908-ea61-989e161d20e4"
      },
      "outputs": [
        {
          "data": {
            "text/html": [
              "\n",
              "  <div id=\"df-b6f109c9-7513-4a51-91c5-75bf84bba77a\" class=\"colab-df-container\">\n",
              "    <div>\n",
              "<style scoped>\n",
              "    .dataframe tbody tr th:only-of-type {\n",
              "        vertical-align: middle;\n",
              "    }\n",
              "\n",
              "    .dataframe tbody tr th {\n",
              "        vertical-align: top;\n",
              "    }\n",
              "\n",
              "    .dataframe thead th {\n",
              "        text-align: right;\n",
              "    }\n",
              "</style>\n",
              "<table border=\"1\" class=\"dataframe\">\n",
              "  <thead>\n",
              "    <tr style=\"text-align: right;\">\n",
              "      <th></th>\n",
              "      <th>label</th>\n",
              "      <th>text</th>\n",
              "      <th>cleaned_text</th>\n",
              "    </tr>\n",
              "  </thead>\n",
              "  <tbody>\n",
              "    <tr>\n",
              "      <th>5419</th>\n",
              "      <td>0</td>\n",
              "      <td>I'm at bruce &amp;amp; fowler now but I'm in my mo...</td>\n",
              "      <td>im bruce amp fowler im mom car cant park long ...</td>\n",
              "    </tr>\n",
              "    <tr>\n",
              "      <th>1795</th>\n",
              "      <td>0</td>\n",
              "      <td>I hope your alright babe? I worry that you mig...</td>\n",
              "      <td>hope alright babe worri might felt bit despar ...</td>\n",
              "    </tr>\n",
              "    <tr>\n",
              "      <th>2578</th>\n",
              "      <td>0</td>\n",
              "      <td>Erm. I thought the contract ran out the4th of ...</td>\n",
              "      <td>erm thought contract ran the4th octob</td>\n",
              "    </tr>\n",
              "    <tr>\n",
              "      <th>3881</th>\n",
              "      <td>0</td>\n",
              "      <td>Short But Cute: \\Be a good person</td>\n",
              "      <td>short cute good person</td>\n",
              "    </tr>\n",
              "    <tr>\n",
              "      <th>4914</th>\n",
              "      <td>0</td>\n",
              "      <td>We took hooch for a walk toaday and i fell ove...</td>\n",
              "      <td>took hooch walk toaday fell splat graze knee e...</td>\n",
              "    </tr>\n",
              "  </tbody>\n",
              "</table>\n",
              "</div>\n",
              "    <div class=\"colab-df-buttons\">\n",
              "\n",
              "  <div class=\"colab-df-container\">\n",
              "    <button class=\"colab-df-convert\" onclick=\"convertToInteractive('df-b6f109c9-7513-4a51-91c5-75bf84bba77a')\"\n",
              "            title=\"Convert this dataframe to an interactive table.\"\n",
              "            style=\"display:none;\">\n",
              "\n",
              "  <svg xmlns=\"http://www.w3.org/2000/svg\" height=\"24px\" viewBox=\"0 -960 960 960\">\n",
              "    <path d=\"M120-120v-720h720v720H120Zm60-500h600v-160H180v160Zm220 220h160v-160H400v160Zm0 220h160v-160H400v160ZM180-400h160v-160H180v160Zm440 0h160v-160H620v160ZM180-180h160v-160H180v160Zm440 0h160v-160H620v160Z\"/>\n",
              "  </svg>\n",
              "    </button>\n",
              "\n",
              "  <style>\n",
              "    .colab-df-container {\n",
              "      display:flex;\n",
              "      gap: 12px;\n",
              "    }\n",
              "\n",
              "    .colab-df-convert {\n",
              "      background-color: #E8F0FE;\n",
              "      border: none;\n",
              "      border-radius: 50%;\n",
              "      cursor: pointer;\n",
              "      display: none;\n",
              "      fill: #1967D2;\n",
              "      height: 32px;\n",
              "      padding: 0 0 0 0;\n",
              "      width: 32px;\n",
              "    }\n",
              "\n",
              "    .colab-df-convert:hover {\n",
              "      background-color: #E2EBFA;\n",
              "      box-shadow: 0px 1px 2px rgba(60, 64, 67, 0.3), 0px 1px 3px 1px rgba(60, 64, 67, 0.15);\n",
              "      fill: #174EA6;\n",
              "    }\n",
              "\n",
              "    .colab-df-buttons div {\n",
              "      margin-bottom: 4px;\n",
              "    }\n",
              "\n",
              "    [theme=dark] .colab-df-convert {\n",
              "      background-color: #3B4455;\n",
              "      fill: #D2E3FC;\n",
              "    }\n",
              "\n",
              "    [theme=dark] .colab-df-convert:hover {\n",
              "      background-color: #434B5C;\n",
              "      box-shadow: 0px 1px 3px 1px rgba(0, 0, 0, 0.15);\n",
              "      filter: drop-shadow(0px 1px 2px rgba(0, 0, 0, 0.3));\n",
              "      fill: #FFFFFF;\n",
              "    }\n",
              "  </style>\n",
              "\n",
              "    <script>\n",
              "      const buttonEl =\n",
              "        document.querySelector('#df-b6f109c9-7513-4a51-91c5-75bf84bba77a button.colab-df-convert');\n",
              "      buttonEl.style.display =\n",
              "        google.colab.kernel.accessAllowed ? 'block' : 'none';\n",
              "\n",
              "      async function convertToInteractive(key) {\n",
              "        const element = document.querySelector('#df-b6f109c9-7513-4a51-91c5-75bf84bba77a');\n",
              "        const dataTable =\n",
              "          await google.colab.kernel.invokeFunction('convertToInteractive',\n",
              "                                                    [key], {});\n",
              "        if (!dataTable) return;\n",
              "\n",
              "        const docLinkHtml = 'Like what you see? Visit the ' +\n",
              "          '<a target=\"_blank\" href=https://colab.research.google.com/notebooks/data_table.ipynb>data table notebook</a>'\n",
              "          + ' to learn more about interactive tables.';\n",
              "        element.innerHTML = '';\n",
              "        dataTable['output_type'] = 'display_data';\n",
              "        await google.colab.output.renderOutput(dataTable, element);\n",
              "        const docLink = document.createElement('div');\n",
              "        docLink.innerHTML = docLinkHtml;\n",
              "        element.appendChild(docLink);\n",
              "      }\n",
              "    </script>\n",
              "  </div>\n",
              "\n",
              "\n",
              "<div id=\"df-53dc2f56-7178-4a6e-a1e8-5d40906b32de\">\n",
              "  <button class=\"colab-df-quickchart\" onclick=\"quickchart('df-53dc2f56-7178-4a6e-a1e8-5d40906b32de')\"\n",
              "            title=\"Suggest charts\"\n",
              "            style=\"display:none;\">\n",
              "\n",
              "<svg xmlns=\"http://www.w3.org/2000/svg\" height=\"24px\"viewBox=\"0 0 24 24\"\n",
              "     width=\"24px\">\n",
              "    <g>\n",
              "        <path d=\"M19 3H5c-1.1 0-2 .9-2 2v14c0 1.1.9 2 2 2h14c1.1 0 2-.9 2-2V5c0-1.1-.9-2-2-2zM9 17H7v-7h2v7zm4 0h-2V7h2v10zm4 0h-2v-4h2v4z\"/>\n",
              "    </g>\n",
              "</svg>\n",
              "  </button>\n",
              "\n",
              "<style>\n",
              "  .colab-df-quickchart {\n",
              "      --bg-color: #E8F0FE;\n",
              "      --fill-color: #1967D2;\n",
              "      --hover-bg-color: #E2EBFA;\n",
              "      --hover-fill-color: #174EA6;\n",
              "      --disabled-fill-color: #AAA;\n",
              "      --disabled-bg-color: #DDD;\n",
              "  }\n",
              "\n",
              "  [theme=dark] .colab-df-quickchart {\n",
              "      --bg-color: #3B4455;\n",
              "      --fill-color: #D2E3FC;\n",
              "      --hover-bg-color: #434B5C;\n",
              "      --hover-fill-color: #FFFFFF;\n",
              "      --disabled-bg-color: #3B4455;\n",
              "      --disabled-fill-color: #666;\n",
              "  }\n",
              "\n",
              "  .colab-df-quickchart {\n",
              "    background-color: var(--bg-color);\n",
              "    border: none;\n",
              "    border-radius: 50%;\n",
              "    cursor: pointer;\n",
              "    display: none;\n",
              "    fill: var(--fill-color);\n",
              "    height: 32px;\n",
              "    padding: 0;\n",
              "    width: 32px;\n",
              "  }\n",
              "\n",
              "  .colab-df-quickchart:hover {\n",
              "    background-color: var(--hover-bg-color);\n",
              "    box-shadow: 0 1px 2px rgba(60, 64, 67, 0.3), 0 1px 3px 1px rgba(60, 64, 67, 0.15);\n",
              "    fill: var(--button-hover-fill-color);\n",
              "  }\n",
              "\n",
              "  .colab-df-quickchart-complete:disabled,\n",
              "  .colab-df-quickchart-complete:disabled:hover {\n",
              "    background-color: var(--disabled-bg-color);\n",
              "    fill: var(--disabled-fill-color);\n",
              "    box-shadow: none;\n",
              "  }\n",
              "\n",
              "  .colab-df-spinner {\n",
              "    border: 2px solid var(--fill-color);\n",
              "    border-color: transparent;\n",
              "    border-bottom-color: var(--fill-color);\n",
              "    animation:\n",
              "      spin 1s steps(1) infinite;\n",
              "  }\n",
              "\n",
              "  @keyframes spin {\n",
              "    0% {\n",
              "      border-color: transparent;\n",
              "      border-bottom-color: var(--fill-color);\n",
              "      border-left-color: var(--fill-color);\n",
              "    }\n",
              "    20% {\n",
              "      border-color: transparent;\n",
              "      border-left-color: var(--fill-color);\n",
              "      border-top-color: var(--fill-color);\n",
              "    }\n",
              "    30% {\n",
              "      border-color: transparent;\n",
              "      border-left-color: var(--fill-color);\n",
              "      border-top-color: var(--fill-color);\n",
              "      border-right-color: var(--fill-color);\n",
              "    }\n",
              "    40% {\n",
              "      border-color: transparent;\n",
              "      border-right-color: var(--fill-color);\n",
              "      border-top-color: var(--fill-color);\n",
              "    }\n",
              "    60% {\n",
              "      border-color: transparent;\n",
              "      border-right-color: var(--fill-color);\n",
              "    }\n",
              "    80% {\n",
              "      border-color: transparent;\n",
              "      border-right-color: var(--fill-color);\n",
              "      border-bottom-color: var(--fill-color);\n",
              "    }\n",
              "    90% {\n",
              "      border-color: transparent;\n",
              "      border-bottom-color: var(--fill-color);\n",
              "    }\n",
              "  }\n",
              "</style>\n",
              "\n",
              "  <script>\n",
              "    async function quickchart(key) {\n",
              "      const quickchartButtonEl =\n",
              "        document.querySelector('#' + key + ' button');\n",
              "      quickchartButtonEl.disabled = true;  // To prevent multiple clicks.\n",
              "      quickchartButtonEl.classList.add('colab-df-spinner');\n",
              "      try {\n",
              "        const charts = await google.colab.kernel.invokeFunction(\n",
              "            'suggestCharts', [key], {});\n",
              "      } catch (error) {\n",
              "        console.error('Error during call to suggestCharts:', error);\n",
              "      }\n",
              "      quickchartButtonEl.classList.remove('colab-df-spinner');\n",
              "      quickchartButtonEl.classList.add('colab-df-quickchart-complete');\n",
              "    }\n",
              "    (() => {\n",
              "      let quickchartButtonEl =\n",
              "        document.querySelector('#df-53dc2f56-7178-4a6e-a1e8-5d40906b32de button');\n",
              "      quickchartButtonEl.style.display =\n",
              "        google.colab.kernel.accessAllowed ? 'block' : 'none';\n",
              "    })();\n",
              "  </script>\n",
              "</div>\n",
              "\n",
              "    </div>\n",
              "  </div>\n"
            ],
            "text/plain": [
              "      label                                               text  \\\n",
              "5419      0  I'm at bruce &amp; fowler now but I'm in my mo...   \n",
              "1795      0  I hope your alright babe? I worry that you mig...   \n",
              "2578      0  Erm. I thought the contract ran out the4th of ...   \n",
              "3881      0                  Short But Cute: \\Be a good person   \n",
              "4914      0  We took hooch for a walk toaday and i fell ove...   \n",
              "\n",
              "                                           cleaned_text  \n",
              "5419  im bruce amp fowler im mom car cant park long ...  \n",
              "1795  hope alright babe worri might felt bit despar ...  \n",
              "2578              erm thought contract ran the4th octob  \n",
              "3881                             short cute good person  \n",
              "4914  took hooch walk toaday fell splat graze knee e...  "
            ]
          },
          "execution_count": 28,
          "metadata": {},
          "output_type": "execute_result"
        }
      ],
      "source": [
        "df_under.head()"
      ]
    },
    {
      "cell_type": "markdown",
      "metadata": {
        "id": "ZYKuk6zQKKsD"
      },
      "source": [
        "0: ham <br>\n",
        "1: spam <br>"
      ]
    },
    {
      "cell_type": "markdown",
      "metadata": {
        "id": "OY_DJv7_KKsE"
      },
      "source": [
        "## Tokenizing, Sequencing and Padding"
      ]
    },
    {
      "cell_type": "markdown",
      "metadata": {},
      "source": [
        "<img src=\"preprocessing_steps.png\" alt=\"Illustrative image\" width=\"50%\">"
      ]
    },
    {
      "cell_type": "code",
      "execution_count": 29,
      "metadata": {
        "id": "GJmLXoxJJQPi"
      },
      "outputs": [],
      "source": [
        "x = df_under.cleaned_text.tolist() # feature list\n",
        "y = df_under.label.tolist() # target list"
      ]
    },
    {
      "cell_type": "markdown",
      "metadata": {
        "id": "axFhldw_SL5y"
      },
      "source": [
        "This step involves building the vocabulary and assigning unique integer indices to each unique word."
      ]
    },
    {
      "cell_type": "code",
      "execution_count": 30,
      "metadata": {
        "id": "-nUbnEvPJcSs"
      },
      "outputs": [],
      "source": [
        "word_tokenizer = Tokenizer()\n",
        "word_tokenizer.fit_on_texts(x)"
      ]
    },
    {
      "cell_type": "code",
      "execution_count": 31,
      "metadata": {
        "colab": {
          "base_uri": "https://localhost:8080/"
        },
        "id": "IQPdAjDnR5Zw",
        "outputId": "80d78331-cacf-4432-b86f-d85e45d44406"
      },
      "outputs": [
        {
          "name": "stdout",
          "output_type": "stream",
          "text": [
            "Word Indices: {'call': 1, 'u': 2, 'free': 3, '2': 4, 'ur': 5, 'txt': 6, 'text': 7, 'get': 8, 'mobil': 9, '4': 10, 'stop': 11, 'repli': 12, 'claim': 13, 'prize': 14, 'send': 15, 'im': 16, 'go': 17, 'new': 18, 'tone': 19, 'servic': 20, 'nokia': 21, 'phone': 22, 'week': 23, 'award': 24, 'pleas': 25, 'contact': 26, 'cash': 27, 'win': 28, 'urgent': 29, 'dont': 30, 'know': 31, 'time': 32, 'day': 33, 'come': 34, 'messag': 35, 'min': 36, 'back': 37, 'want': 38, 'today': 39, 'love': 40, 'collect': 41, 'per': 42, 'custom': 43, 'tc': 44, 'guarante': 45, 'tri': 46, '16': 47, 'ltgt': 48, 'like': 49, 'number': 50, 'chat': 51, '1000': 52, 'good': 53, 'got': 54, '500': 55, 'see': 56, 'take': 57, '18': 58, '1': 59, 'msg': 60, 'show': 61, 'offer': 62, '150': 63, 'draw': 64, 'line': 65, 'receiv': 66, '100': 67, 'everi': 68, 'ok': 69, 'ill': 70, 'latest': 71, 'think': 72, 'voucher': 73, 'r': 74, 'holiday': 75, 'need': 76, '3': 77, 'make': 78, '150ppm': 79, '2000': 80, 'landlin': 81, 'home': 82, 'find': 83, 'tell': 84, 'live': 85, 'select': 86, 'camera': 87, 'rington': 88, 'wait': 89, 'sorri': 90, 'c': 91, 'end': 92, 'dear': 93, 'appli': 94, 'tomorrow': 95, 'n': 96, 'rate': 97, 'cost': 98, 'chanc': 99, 'video': 100, 'box': 101, 'hi': 102, 'friend': 103, 'code': 104, 'po': 105, 'say': 106, 'da': 107, 'still': 108, 'great': 109, 'one': 110, '1st': 111, 'network': 112, 'orang': 113, 'miss': 114, 'date': 115, 'await': 116, 'entri': 117, 'charg': 118, 'meet': 119, 'word': 120, 'sm': 121, 'special': 122, 'uk': 123, 'mob': 124, 'game': 125, 'poli': 126, 'pl': 127, 'night': 128, 'shop': 129, 'ye': 130, 'last': 131, 'play': 132, 'attempt': 133, '5000': 134, 'weekli': 135, 'look': 136, 'year': 137, 'next': 138, '2nd': 139, 'valid': 140, 'pound': 141, '150p': 142, 'name': 143, 'deliveri': 144, 'x': 145, 'later': 146, 'well': 147, 'lor': 148, 'pic': 149, 'help': 150, 'thank': 151, '800': 152, 'hope': 153, 'point': 154, 'account': 155, 'bonu': 156, '250': 157, 'sae': 158, '8007': 159, 'cant': 160, 'babe': 161, 'wat': 162, 'start': 163, 'co': 164, 'gift': 165, 'updat': 166, 'happi': 167, 'half': 168, 'credit': 169, 'ask': 170, 'price': 171, 'final': 172, 'music': 173, 'thing': 174, 'sent': 175, 'join': 176, 'care': 177, 'doubl': 178, 'buy': 179, 'first': 180, 'even': 181, 'minut': 182, 'use': 183, 'top': 184, 'wk': 185, '750': 186, 'unsubscrib': 187, 'club': 188, '86688': 189, 'anyth': 190, 'e': 191, 'oh': 192, 'keep': 193, 'much': 194, 'enjoy': 195, 'order': 196, 'enter': 197, 'sexi': 198, 'colour': 199, 'privat': 200, 'expir': 201, 'land': 202, 'tsc': 203, 'let': 204, 'give': 205, 'said': 206, 'pick': 207, 'place': 208, 'finish': 209, 'hot': 210, 'someon': 211, 'match': 212, '12hr': 213, 'guy': 214, 'work': 215, 'yeah': 216, 'v': 217, 'alreadi': 218, 'hey': 219, 'class': 220, '5': 221, 'weekend': 222, 'worth': 223, 'easi': 224, 'winner': 225, 'pobox': 226, '08000930705': 227, 'statement': 228, 'unredeem': 229, 'identifi': 230, 'mobileupd8': 231, 'auction': 232, 'would': 233, 'reach': 234, 'b': 235, 'xxx': 236, 'mate': 237, 'mani': 238, 'real': 239, 'also': 240, 'life': 241, 'wanna': 242, 'invit': 243, 'content': 244, 'camcord': 245, 'oper': 246, '350': 247, 'ltd': 248, '150pmsg': 249, 'xma': 250, '08000839402': 251, 'person': 252, 'feel': 253, 'talk': 254, 'ive': 255, 'question': 256, 'done': 257, 'import': 258, 'wont': 259, 'player': 260, 'speak': 261, 'girl': 262, 'wkli': 263, 'yr': 264, '10p': 265, 'congratul': 266, 'cs': 267, 'that': 268, 'fun': 269, 'us': 270, 'may': 271, 'answer': 272, 'caller': 273, 'part': 274, 'motorola': 275, 'anytim': 276, 'dog': 277, '0800': 278, 'quiz': 279, 'cd': 280, '87066': 281, 'savamob': 282, '2003': 283, 'opt': 284, 'went': 285, 'way': 286, 'soon': 287, 'age': 288, 'realli': 289, 'could': 290, 'lar': 291, 'drive': 292, 'inform': 293, 'reward': 294, 'frnd': 295, 'follow': 296, 'either': 297, 'congrat': 298, 'valu': 299, 'freemsg': 300, 'nation': 301, 'eg': 302, 'complimentari': 303, '200': 304, 'fanci': 305, 'current': 306, 'rental': 307, 'ipod': 308, '300': 309, 'amp': 310, 'stay': 311, 'hello': 312, 'lot': 313, 'right': 314, 'welcom': 315, 'yet': 316, 'sub': 317, 'sure': 318, 'noth': 319, 'detail': 320, 'wan': 321, 'around': 322, 'morn': 323, 'month': 324, 'wish': 325, 'watch': 326, 'term': 327, 'choos': 328, '12': 329, 'sex': 330, '10': 331, 'fantasi': 332, 'walk': 333, 'pay': 334, 'someth': 335, 'hous': 336, 'guess': 337, 'leav': 338, 'havent': 339, 'pa': 340, 'earli': 341, 'eat': 342, 'post': 343, 'best': 344, 'true': 345, 'valentin': 346, 'tonight': 347, 'reveal': 348, 'di': 349, 'alway': 350, 'money': 351, 'listen': 352, 'check': 353, 'saturday': 354, 'plu': 355, 'comp': 356, 'wap': 357, 'news': 358, 'repres': 359, 'direct': 360, 'txting': 361, 'secret': 362, 'admir': 363, 'unlimit': 364, 'hmv': 365, 'ldn': 366, 'ntt': 367, '10pmin': 368, 'bit': 369, 'plan': 370, 'sir': 371, 'liao': 372, 'sim': 373, 'told': 374, 'area': 375, 'stuff': 376, 'book': 377, 'readi': 378, 'peopl': 379, 'man': 380, 'card': 381, 'babi': 382, 'yo': 383, 'aight': 384, 'hear': 385, 'boy': 386, 'world': 387, 'left': 388, 'lunch': 389, 'thk': 390, 'away': 391, 'bath': 392, 'address': 393, 'pass': 394, 'lucki': 395, '6': 396, 'std': 397, 'england': 398, '11mth': 399, 'bluetooth': 400, 'discount': 401, 'optout': 402, 'subscrib': 403, 'summer': 404, 'wwwgetzedcouk': 405, 'chariti': 406, 'digit': 407, 'del': 408, 'flag': 409, 'long': 410, 'thought': 411, 'gonna': 412, 'ju': 413, 'leh': 414, 'wid': 415, 'cum': 416, 'movi': 417, 'fone': 418, 'must': 419, 'fine': 420, 'didnt': 421, 'hour': 422, 'mean': 423, 'town': 424, 'problem': 425, 'set': 426, 'song': 427, 'luv': 428, 'visit': 429, 'remov': 430, 'id': 431, 'si': 432, 'an': 433, 'download': 434, 'dvd': 435, 'extra': 436, 'log': 437, 'gr8': 438, 'entitl': 439, 'info': 440, '87077': 441, 'inc': 442, '2004': 443, 'sunshin': 444, 'soni': 445, 'freephon': 446, 'ufind': 447, 'rreveal': 448, 'specialcal': 449, 'tnc': 450, 'access': 451, 'hgsuite3422land': 452, '3030': 453, 'member': 454, '25p': 455, 'store': 456, 'no1': 457, 'bid': 458, 'user': 459, 'btnationalr': 460, 'car': 461, 'stori': 462, 'wonder': 463, 'g': 464, 'goto': 465, 'actual': 466, 'mind': 467, 'rememb': 468, 'old': 469, 'huh': 470, 'tot': 471, 'film': 472, 'lol': 473, 'eve': 474, 'mayb': 475, 'k': 476, 'wife': 477, 'offic': 478, 'chang': 479, 'dat': 480, 'better': 481, 'dad': 482, 'sleep': 483, 'haha': 484, 'forgot': 485, 'gud': 486, 'saw': 487, 'kiss': 488, 'singl': 489, 'comput': 490, 'came': 491, 'yesterday': 492, 'record': 493, 'ya': 494, 'littl': 495, 'crazi': 496, 'simpl': 497, 'quot': 498, 'luck': 499, 'tv': 500, 'b4': 501, '900': 502, 'etc': 503, '150pm': 504, 'flight': 505, 'horni': 506, 'loyalti': 507, 'sport': 508, 'rcvd': 509, 'cashbal': 510, 'maxim': 511, 'cashin': 512, 'tenerif': 513, 'activ': 514, '85023': 515, 'within': 516, 'spree': 517, 'custcar': 518, 'fantast': 519, '36504': 520, '10000': 521, '08712460324': 522, 'sk38xh': 523, 'uve': 524, 'onto': 525, '20p': 526, '1327': 527, 'croydon': 528, 'cr9': 529, '5wb': 530, 'bill': 531, 'costa': 532, 'sol': 533, '450': 534, '400': 535, 'park': 536, 'job': 537, '2nite': 538, 'email': 539, 'ever': 540, 'oredi': 541, 'search': 542, 'thanx': 543, '7': 544, 'nite': 545, 'correct': 546, 'bring': 547, 'what': 548, 'sat': 549, 'put': 550, 'god': 551, '3g': 552, 'probabl': 553, 'onlin': 554, 'never': 555, 'how': 556, 'avail': 557, 'believ': 558, 'heart': 559, 'connect': 560, 'train': 561, 'your': 562, 'lesson': 563, 'happen': 564, 'she': 565, 'afternoon': 566, 'immedi': 567, 'els': 568, 'xx': 569, 'shall': 570, 'dream': 571, 'loan': 572, 'run': 573, 'wif': 574, 'enough': 575, 'abl': 576, 'late': 577, 'cancel': 578, 'cool': 579, 'recent': 580, 'close': 581, 'break': 582, 'rpli': 583, 'login': 584, 'hotel': 585, 'mth': 586, 'click': 587, 'there': 588, 'hl': 589, 'link': 590, '08712300220': 591, 'standard': 592, '62468': 593, 'handset': 594, 'cc': 595, 'vari': 596, '40gb': 597, 'announc': 598, 'vodafon': 599, 'holder': 600, 'pc': 601, 'pobox84': 602, 'w45wq': 603, 'norm150pton': 604, 'zed': 605, 'asap': 606, 'gay': 607, 'f': 608, 'regist': 609, 'sipix': 610, 'httpwwwurawinnercom': 611, '08707509020': 612, '0870': 613, 'arriv': 614, '86021': 615, 'titl': 616, 'arcad': 617, '09050090044': 618, 'toclaim': 619, 'pobox334': 620, 'stockport': 621, 'cost150pm': 622, 'max10min': 623, 'tariff': 624, 'contract': 625, 'everyth': 626, 'okay': 627, 'john': 628, 'yup': 629, 'pretti': 630, '2day': 631, 'quit': 632, 'ha': 633, 'beauti': 634, 'marri': 635, 'die': 636, 'tmr': 637, 'fast': 638, 'via': 639, 'far': 640, 'reason': 641, 'shit': 642, 'juz': 643, 'complet': 644, 'ladi': 645, 'ten': 646, 'sinc': 647, 'ad': 648, 'smile': 649, 'youv': 650, 'swing': 651, 'kick': 652, 'nice': 653, 'abt': 654, 'ticket': 655, 'princess': 656, 'bore': 657, 'remind': 658, 'found': 659, 'murder': 660, 'gettin': 661, 'anoth': 662, 'harri': 663, 'med': 664, 'coz': 665, 'hand': 666, 'ard': 667, 'sound': 668, 'forward': 669, 'anyon': 670, 'verifi': 671, 'trip': 672, 'busi': 673, 'fall': 674, 'hol': 675, 'dun': 676, 'dinner': 677, 'ring': 678, 'till': 679, 'father': 680, 'sun': 681, 'wake': 682, 'cheap': 683, '4u': 684, 'daili': 685, 'app': 686, 'laugh': 687, 'somebodi': 688, 'alon': 689, 'big': 690, 'photo': 691, 'cup': 692, '11': 693, 'subscript': 694, 'voda': 695, '82277': 696, 'locat': 697, 'bt': 698, 'local': 699, 'partner': 700, 'flirt': 701, 'decemb': 702, 'sonyericsson': 703, 'logo': 704, 'pobox36504w45wq': 705, 'condit': 706, 'mp3': 707, 'unsub': 708, 'age16': 709, '1x150pwk': 710, 'euro2004': 711, '80062': 712, 'alert': 713, '50': 714, 'polyphon': 715, 'wwwcomuknet': 716, 'm8': 717, '08718720201': 718, 'videophon': 719, 'videochat': 720, 'java': 721, 'dload': 722, 'nolin': 723, 'rentl': 724, 'xchat': 725, 'o2': 726, 'surpris': 727, '150ptone': 728, 'linerent': 729, 'eeri': 730, 'offici': 731, 'inclus': 732, 'ip4': 733, '5we': 734, 'spook': 735, '28': 736, '3510i': 737, 'felt': 738, 'cute': 739, 'took': 740, 'uncl': 741, 'doctor': 742, 'fuck': 743, 'normal': 744, 'slow': 745, 'rite': 746, '25': 747, 'mumtaz': 748, 'parti': 749, 'decid': 750, 'voic': 751, 'purchas': 752, 'den': 753, 'write': 754, 'case': 755, 'anyway': 756, 'includ': 757, 'de': 758, 'pain': 759, 'confirm': 760, 'goe': 761, 'team': 762, 'paid': 763, 'india': 764, 'suppli': 765, 'sweet': 766, 'respond': 767, 'drop': 768, 'wot': 769, 'tho': 770, 'hit': 771, 'mrng': 772, 'page': 773, 'meant': 774, 'boytoy': 775, 'everyon': 776, 'request': 777, 'press': 778, 'nope': 779, 'stand': 780, 'til': 781, 'school': 782, 'hungri': 783, 'bu': 784, 'bugi': 785, 'sea': 786, 'clear': 787, 'men': 788, 'eye': 789, 'plz': 790, 'bad': 791, 'friendship': 792, 'street': 793, 'turn': 794, 'pm': 795, 'captain': 796, 'p': 797, 'kind': 798, 'darl': 799, 'self': 800, 'joy': 801, 'torch': 802, 'without': 803, 'hard': 804, 'renew': 805, 'famili': 806, 'drink': 807, 'water': 808, 'lei': 809, 'oz': 810, 'dunno': 811, 'score': 812, 'sell': 813, 'chase': 814, 'result': 815, 'moon': 816, 'yahoo': 817, 'cross': 818, 'fa': 819, 'tkt': 820, '87121': 821, '87575': 822, 'ac': 823, 'review': 824, '1500': 825, '786': 826, 'q': 827, 'countri': 828, 'ansr': 829, 'sptyron': 830, 'largest': 831, 'ec2a': 832, 'netcollex': 833, '0808': 834, '145': 835, '4742': 836, '9am11pm': 837, '2optout': 838, 'wwwldewcom1win150ppmx3age16': 839, 'upgrad': 840, '08002986906': 841, '85': 842, '83600': 843, 'roww1j6hl': 844, 'refer': 845, '87131': 846, '3min': 847, 'wc1n3xx': 848, 'purpos': 849, 'tenant': 850, 'refus': 851, 'cw25wx': 852, '83355': 853, 'mono': 854, '08715705022': 855, '542': 856, '10am7pm': 857, 'txtauction': 858, 'm263uz': 859, '3qxj9': 860, '9ae': 861, 'cust': 862, 'ibiza': 863, 'ppm': 864, 'vip': 865, 'sale': 866, '150pmin': 867, 'futur': 868, 'ralli': 869, '3wk': 870, 'deliv': 871, 'txtin': 872, '4info': 873, '08712405020': 874, 'wwwringtonescouk': 875, 'origin': 876, '3gbp': 877, '150pmsgrcvdhgsuite3422landsroww1j6hl': 878, 'pod': 879, '020603': 880, 'brand': 881, '7250i': 882, 'roww1jhl': 883, 'london': 884, 'mobi': 885, 'action': 886, '60pmin': 887, 'bahama': 888, 'excit': 889, '08001950382': 890, '87239': 891, 'freefon': 892, 'yer': 893, '84199': 894, 'eng': 895, 'box39822': 896, 'w111wx': 897, 'ntwk': 898, '8552': 899, 'sky': 900, 'adult': 901, 'bx420': 902, 'porn': 903, '09061221066': 904, 'fromm': 905, 'santa': 906, 'mom': 907, 'might': 908, 'learn': 909, 'mum': 910, 'outsid': 911, 'instruct': 912, 'whatev': 913, 'excus': 914, 'januari': 915, 'seriou': 916, 'italian': 917, 'food': 918, 'dress': 919, 'jess': 920, 'wow': 921, 'bed': 922, 'slept': 923, 'gossip': 924, 'symbol': 925, 'fact': 926, 'kill': 927, 'th': 928, 'hai': 929, 'comin': 930, 'fri': 931, 'cours': 932, 'upto': 933, 'telephon': 934, 'interview': 935, 'bird': 936, 'haf': 937, 'midnight': 938, 'librari': 939, 'coin': 940, 'hav': 941, 'weed': 942, 'carlo': 943, 'xy': 944, 'neva': 945, 'sort': 946, 'sad': 947, 'jordan': 948, 'march': 949, 'kinda': 950, 'kalli': 951, 'august': 952, 'luxuri': 953, 'ltdecimalgt': 954, 'less': 955, 'birthday': 956, 'travel': 957, 'full': 958, 'wine': 959, 'slave': 960, 'head': 961, 'respons': 962, 'deal': 963, 'togeth': 964, 'mr': 965, 'prob': 966, 'lose': 967, 'goin': 968, 'ugh': 969, 'glad': 970, 'meh': 971, 'possibl': 972, 'gym': 973, 'polic': 974, 'silent': 975, 'iam': 976, 'bslvyl': 977, 'two': 978, 'other': 979, 'doesnt': 980, 'continu': 981, 'copi': 982, 'darlin': 983, 'total': 984, 'unless': 985, 'nt': 986, 'fr': 987, 'warm': 988, 'space': 989, 'woke': 990, 'dead': 991, 'upload': 992, 'forev': 993, 'din': 994, 'goodmorn': 995, 'ga': 996, 'angri': 997, 'crab': 998, 'footprint': 999, 'catch': 1000, 'isnt': 1001, 'opinion': 1002, 'youll': 1003, 'howev': 1004, 'read': 1005, 'mo': 1006, 'type': 1007, 'touch': 1008, 'wet': 1009, 'mood': 1010, 'brother': 1011, 'tomo': 1012, 'hold': 1013, 'coupl': 1014, 'room': 1015, 'slowli': 1016, 'imagin': 1017, 'colleg': 1018, 'kate': 1019, 'mu': 1020, 'figur': 1021, 'hr': 1022, 'awesom': 1023, 'regular': 1024, 'bday': 1025, '6month': 1026, 'teas': 1027, 'wed': 1028, 'dot': 1029, 'lover': 1030, 'smoke': 1031, 'promis': 1032, 'knw': 1033, 'bb': 1034, 'celebr': 1035, 'among': 1036, 'will': 1037, 'test': 1038, 'sign': 1039, 'sing': 1040, 'roommat': 1041, 'cruis': 1042, 'door': 1043, 'rock': 1044, 'pub': 1045, 'tel': 1046, 'open': 1047, 'muz': 1048, 'center': 1049, 'lotr': 1050, '2005': 1051, 'six': 1052, 'cinema': 1053, '09061209465': 1054, 'suprman': 1055, 'matrix3': 1056, 'starwars3': 1057, 'bx420ip45w': 1058, 'advis': 1059, 'simpli': 1060, 'password': 1061, 'mix': 1062, 'k52': 1063, '45239': 1064, 'laid': 1065, '89545': 1066, 'www4tcbiz': 1067, '08718726270150gbpmtmsg18': 1068, 'star': 1069, 'sam': 1070, 'penc': 1071, '125gift': 1072, 'chart': 1073, 'genuin': 1074, 'infowww100percentrealcom': 1075, 'tmobil': 1076, '0845': 1077, 'themob': 1078, 'newest': 1079, 'm26': 1080, '3uz': 1081, 'germani': 1082, 'shag': 1083, '4mth': 1084, 'mobilesdirect': 1085, '08000938767': 1086, 'or2stoptxt': 1087, 'competit': 1088, 'ave': 1089, '75000': 1090, 'homeown': 1091, 'previous': 1092, '1956669': 1093, 'notic': 1094, '123': 1095, '1450': 1096, 'tcsstop': 1097, 'ibhltd': 1098, 'ldnw15h': 1099, '150pmtmsgrcvd18': 1100, 'box95qu': 1101, '08717898035': 1102, '80878': 1103, 'kept': 1104, '83222': 1105, 'postcod': 1106, '20': 1107, '89555': 1108, 'textoper': 1109, 'uu': 1110, 'max7': 1111, 'pari': 1112, 'citi': 1113, '88039': 1114, 'skilgm': 1115, 'subpoli': 1116, '08702840625comuk': 1117, '220cm2': 1118, 'alfi': 1119, 'children': 1120, '08701417012': 1121, 'profit': 1122, 'recd': 1123, 'five': 1124, '434': 1125, 'sk3': 1126, '8wp': 1127, '10k': 1128, 'liverpool': 1129, 'male': 1130, '88600': 1131, 'compani': 1132, '11414': 1133, 'tcrw1': 1134, 'valid12hr': 1135, '09063458130': 1136, 'polyph': 1137, 'euro': 1138, 'flower': 1139, '84025': 1140, '09061790121': 1141, 'receipt': 1142, 'hgsuite3422landsroww1j6hl': 1143, 'energi': 1144, 'pocketbabecouk': 1145, 'voicemail': 1146, 'choic': 1147, '87021': 1148, 'sauci': 1149, 'arsen': 1150, '09066362231': 1151, '07xxxxxxxxx': 1152, '80488': 1153, 'high': 1154, 'shortli': 1155, '82242': 1156, '81303': 1157, '121': 1158, 'biggest': 1159, 'tour': 1160, 'chosen': 1161, '18onli': 1162, '0': 1163, '18yr': 1164, 'abta': 1165, '80182': 1166, '08452810073': 1167, 'provid': 1168, 'box97n7qp': 1169, 'pix': 1170, 'heard': 1171, 'u4': 1172, 'rude': 1173, '88066': 1174, 'sp': 1175, '80082': 1176, 'halloween': 1177, 'logop': 1178, '09066612661': 1179, 'amaz': 1180, 'sept': 1181, '2stoptxt': 1182, 'king': 1183, 'super': 1184, '50p': 1185, 'deliveredtomorrow': 1186, 'truli': 1187, 'save': 1188, 'callback': 1189, 'ts': 1190, 'goal': 1191, '30': 1192, 'alright': 1193, 'worri': 1194, 'despar': 1195, 'erm': 1196, 'ran': 1197, 'short': 1198, 'nigeria': 1199, 'dime': 1200, 'expect': 1201, '2moro': 1202, 'repeat': 1203, 'mistak': 1204, 'tampa': 1205, 'though': 1206, 'studi': 1207, 'commerci': 1208, 'transfer': 1209, 'rain': 1210, 'ago': 1211, 'sick': 1212, 'pop': 1213, 'alrit': 1214, 'ami': 1215, 'woman': 1216, 'howard': 1217, 'dock': 1218, 'giv': 1219, 'l8r': 1220, 'usual': 1221, 'sch': 1222, 'dude': 1223, 'sen': 1224, 'shahjahan': 1225, '4th': 1226, 'sister': 1227, 'se': 1228, 'nahi': 1229, 'wo': 1230, 'jo': 1231, 'ham': 1232, 'fetch': 1233, 'ge': 1234, 'na': 1235, 'seem': 1236, 'present': 1237, 'load': 1238, 'cheer': 1239, 'requir': 1240, 'eh': 1241, 'kb': 1242, 'pussi': 1243, 'tat': 1244, 'group': 1245, 'mah': 1246, 'askin': 1247, 'paper': 1248, 'excel': 1249, 'tht': 1250, 'natur': 1251, 'frm': 1252, 'freedom': 1253, 'research': 1254, 'hesit': 1255, 'aint': 1256, 'along': 1257, 'vote': 1258, 'facebook': 1259, 'oni': 1260, 'capit': 1261, 'budget': 1262, 'unsold': 1263, 'made': 1264, 'shesil': 1265, 'stupid': 1266, 'advic': 1267, 'greet': 1268, 'expens': 1269, 'return': 1270, 'forc': 1271, 'perfect': 1272, 'exhaust': 1273, 'pie': 1274, 'challeng': 1275, 'idk': 1276, 'move': 1277, 'tire': 1278, 'bare': 1279, 'abiola': 1280, 'exam': 1281, 'suntec': 1282, 'moment': 1283, 'gotta': 1284, 'theori': 1285, 'situat': 1286, 'dai': 1287, 'wil': 1288, 'fb': 1289, 'teach': 1290, 'understand': 1291, 'idea': 1292, 'delay': 1293, 'lousi': 1294, 'europ': 1295, 'who': 1296, 'he': 1297, 'gd': 1298, 'addict': 1299, 'wrong': 1300, 'bcoz': 1301, 'afraid': 1302, 'wast': 1303, 'vagu': 1304, 'rent': 1305, 'bodi': 1306, 'callertun': 1307, 'cri': 1308, 'ador': 1309, 'caus': 1310, 'durban': 1311, 'gave': 1312, 'resub': 1313, 'pictur': 1314, 'hee': 1315, 'arent': 1316, 'rush': 1317, 'mail': 1318, 'oso': 1319, 'awak': 1320, 'serious': 1321, 'menu': 1322, 'wave': 1323, 'nyt': 1324, 'wit': 1325, 'utter': 1326, 'nxt': 1327, 'mode': 1328, 'interest': 1329, 'swatch': 1330, 'attend': 1331, 'station': 1332, 'block': 1333, 'toot': 1334, '6hr': 1335, 'rang': 1336, 'note': 1337, 'disconnect': 1338, 'callcoz': 1339, 'iz': 1340, 'terrorist': 1341, 'itz': 1342, 'confirmd': 1343, 'cnn': 1344, 'ibn': 1345, 'spell': 1346, 'semest': 1347, 'cell': 1348, 'irrit': 1349, 'jst': 1350, 'helen': 1351, 'tb': 1352, 'disturb': 1353, 'approx': 1354, 'style': 1355, 'privaci': 1356, 'steal': 1357, 'somethin': 1358, 'cabin': 1359, 'boss': 1360, 'askd': 1361, 'apart': 1362, 'dedic': 1363, 'hair': 1364, 'howz': 1365, 'monthli': 1366, 'otherwis': 1367, 'yun': 1368, 'ubi': 1369, 'iq': 1370, 'dark': 1371, 'stone': 1372, 'in2': 1373, 'rose': 1374, 'suffici': 1375, 'bro': 1376, 'born': 1377, 'idiot': 1378, 'across': 1379, 'hook': 1380, 'doggi': 1381, 'bold': 1382, 'esplanad': 1383, 'whose': 1384, 'sit': 1385, 'os': 1386, 'instal': 1387, 'system': 1388, 'pin': 1389, 'vomit': 1390, 'bun': 1391, 'mother': 1392, 'sofa': 1393, 'paint': 1394, 'cine': 1395, 'shuhui': 1396, 'bought': 1397, 'ron': 1398, 'tog': 1399, 'site': 1400, 'all': 1401, '530': 1402, 'difficult': 1403, '21': 1404, 'hurri': 1405, 'pole': 1406, 'add': 1407, 'develop': 1408, 'flake': 1409, 'aft': 1410, 'boat': 1411, 'jazz': 1412, 'romant': 1413, 'cuddl': 1414, 'bin': 1415, 'laptop': 1416, 'pray': 1417, 'drug': 1418, 'bout': 1419, 'desert': 1420, 'child': 1421, 'bedroom': 1422, 'sed': 1423, 'loung': 1424, 'prof': 1425, 'flame': 1426, 'drivin': 1427, 'lookin': 1428, 'serv': 1429, 'differ': 1430, 'no': 1431, 'nap': 1432, 'list': 1433, 'umma': 1434, 'clean': 1435, 'size': 1436, '8pm': 1437, 'honey': 1438, 'mega': 1439, 'cock': 1440, 'carli': 1441, 'lect': 1442, 'youd': 1443, 'met': 1444, 'market': 1445, 'theyr': 1446, 'femal': 1447, 'ton': 1448, 'ice': 1449, 'regard': 1450, '2u': 1451, 'pete': 1452, 'em': 1453, 'nuther': 1454, 'merri': 1455, 'christma': 1456, '21st': 1457, 'questionstd': 1458, 'ratetc': 1459, '08452810075over18': 1460, 'chg': 1461, 'rcv': 1462, 'receivea': 1463, '09061701461': 1464, 'kl341': 1465, '08002986030': 1466, '20000': 1467, 'csh11': 1468, '150pday': 1469, '6day': 1470, 'tsandc': 1471, 'membership': 1472, '100000': 1473, 'jackpot': 1474, '81010': 1475, 'wwwdbuknet': 1476, 'lccltd': 1477, '4403ldnw1a7rw18': 1478, 'sptv': 1479, '09066364589': 1480, 'eurodisinc': 1481, 'trav': 1482, 'acoentry41': 1483, '186150morefrmmob': 1484, 'shracomorsglsuplt10': 1485, 'ls1': 1486, '3aj': 1487, '169': 1488, '6031': 1489, '10am9pm': 1490, '85069': 1491, 'usher': 1492, 'britney': 1493, 'fml': 1494, 'gent': 1495, '09064012160': 1496, '07742676969': 1497, '08719180248': 1498, 'algarv': 1499, '69888': 1500, '31pmsg150p': 1501, 'hardcor': 1502, 'randi': 1503, '08700621170150p': 1504, 'arrang': 1505, '0871277810810': 1506, 'uniqu': 1507, 'todayfrom': 1508, 'horo': 1509, '447801259231': 1510, '09058094597': 1511, '69698': 1512, '150pwk': 1513, 'qualiti': 1514, '021': 1515, 'blind': 1516, '82468': 1517, 'fix': 1518, '0844': 1519, '861': 1520, 'prepay': 1521, 'lifetim': 1522, 'custcare08718720201': 1523, 'updatenow': 1524, 'call2optoutn9dx': 1525, 'box334sk38ch': 1526, '80086': 1527, 'wwwtxttowincouk': 1528, 'name1': 1529, 'name2': 1530, 'mobno': 1531, 'adam': 1532, '07123456789': 1533, 'txtno': 1534, '3650': 1535, '09066382422': 1536, '300603': 1537, 'bcm4284': 1538, '0207': 1539, '153': 1540, 'juli': 1541, 'dave': 1542, '09061743806': 1543, 'box326': 1544, 'www07781482378com': 1545, '09050002311': 1546, 'b4280703': 1547, '08718727868': 1548, 'cha': 1549, '020903': 1550, '24hr': 1551, '08718738001': 1552, 'web': 1553, 'call09050000327': 1554, 'wwwtxt2shopcom': 1555, '08712402050': 1556, '10ppm': 1557, 'ag': 1558, 'promo': 1559, '0825': 1560, '22': 1561, 'textbuddi': 1562, 'gaytextbuddycom': 1563, '89693': 1564, '4882': 1565, '09064019014': 1566, 'httpwwwetlpcoukexpressoff': 1567, '40533': 1568, '311004': 1569, 'rstm': 1570, 'sw7': 1571, '3ss': 1572, 'premium': 1573, 'sue': 1574, '1250': 1575, '09071512433': 1576, '050703': 1577, 'tcsbcm4235wc1n3xx': 1578, 'callcost': 1579, 'mobilesvari': 1580, 'offerth': 1581, 'nokia6650': 1582, '81151': 1583, '4tctxt': 1584, '150pmtmsg': 1585, 'helplin': 1586, '08706091795': 1587, '40': 1588, 'premier': 1589, 'tscs087147403231winawkage16': 1590, '150perwksub': 1591, '0578': 1592, 'commun': 1593, '08718727870': 1594, '8077': 1595, 'cashto': 1596, '08000407165': 1597, 'getstop': 1598, '88222': 1599, 'php': 1600, '09065174042': 1601, '07821230901': 1602, '08002888812': 1603, '09066350750': 1604, 'discreet': 1605, 'virgin': 1606, 'wwwsmsconet': 1607, '41685': 1608, '071104': 1609, '5k': 1610, '09064011000': 1611, 'cr01327bt': 1612, 'fixedlin': 1613, 'mid': 1614, '09058094565': 1615, 'cheaper': 1616, '08709222922': 1617, '15pmin': 1618, '78pmin': 1619, 'peak': 1620, 'filthi': 1621, '09050001808': 1622, 'm95': 1623, 'secretli': 1624, 'datebox1282essexcm61xn': 1625, 'ls15hb': 1626, 'kickoff': 1627, 'eastend': 1628, 'compar': 1629, 'violet': 1630, 'tulip': 1631, 'lili': 1632, 'wkent150p16': 1633, '09058091854': 1634, 'box385': 1635, 'm6': 1636, '6wu': 1637, '09050003091': 1638, 'c52': 1639, '09061221061': 1640, '28day': 1641, 'box177': 1642, 'm221bp': 1643, '2yr': 1644, 'warranti': 1645, 'p399': 1646, 'speedchat': 1647, '08000776320': 1648, 'forget': 1649, '4fil': 1650, 'wrc': 1651, 'lucozad': 1652, 'le': 1653, '61200': 1654, 'pack': 1655, 'lucozadecoukwrc': 1656, 'itcould': 1657, 'wwwldewcomsubs161win150ppmx3': 1658, '08719181513': 1659, 'nok': 1660, '84128': 1661, 'wwwtextcompcom': 1662, 'calls1minmoremobsemspobox45po139wa': 1663, 'jamster': 1664, '16onli': 1665, 'lion': 1666, 'lionm': 1667, 'lionp': 1668, 'potter': 1669, 'phoenix': 1670, 'reader': 1671, 'balanc': 1672, 'free2day': 1673, 'st': 1674, 'georg': 1675, 'jordantxt': 1676, '89080': 1677, 'celeb4': 1678, '0870241182716': 1679, '0870k': 1680, 'bear': 1681, '08718730666': 1682, 'call2optoutlf56': 1683, 'wwwldewcom': 1684, 'textpod': 1685, 'wwwtextpodnet': 1686, 'clair': 1687, 'luci': 1688, 'hubbi': 1689, 'calls1minmobsmorelkpobox177hp51fl': 1690, 'jsco': 1691, '7250': 1692, '09058094599': 1693, 'british': 1694, 'sw73ss': 1695, 'dracula': 1696, 'ghost': 1697, 'addamsfa': 1698, 'munster': 1699, 'exorcist': 1700, 'twilight': 1701, 'cam': 1702, 'msg150p': 1703, '2rcv': 1704, 'hlp': 1705, '08712317606': 1706, '80608': 1707, 'wwwmovietriviatv': 1708, '08712405022': 1709, 'wiv': 1710, 'ringtoneget': 1711, 'freesend': 1712, '816183': 1713, 'weekstop': 1714, 'sms08718727870': 1715, '09094646899': 1716, 'vu': 1717, 'bcm1896wc1n3xx': 1718, '2007': 1719, 'callfreefon': 1720, '08081560665': 1721, 'of2000': 1722, '07786200117': 1723, '07734396839': 1724, 'ibh': 1725, 'nokia6600': 1726, 'txtauctiontxt': 1727, 'wordstart': 1728, 'no81151': 1729, 'now4t': 1730, 'invad': 1731, 'orig': 1732, 'consol': 1733, 'o2coukgam': 1734, 'foley': 1735, 'wwwwin82050couk': 1736, '3100': 1737, 'straight': 1738, 'g696ga': 1739, '12mth': 1740, 'btooth': 1741, '0776xxxxxxx': 1742, '326': 1743, '09066358152': 1744, 'prompt': 1745, '61610': 1746, 'help08712400602450p': 1747, 'tones2youcouk': 1748, '08006344447': 1749, 'aom': 1750, 'gender': 1751, 'stamp': 1752, 'envelop': 1753, '113': 1754, 'bray': 1755, 'wicklow': 1756, 'eir': 1757, 'wwwidewcom': 1758, 'skillgam': 1759, '1winaweek': 1760, '150ppermesssubscript': 1761, 'satisfi': 1762, 'ref': 1763, '300p': 1764, '01223585334': 1765, '2c': 1766, '2end': 1767, 'lost': 1768, 'upd8': 1769, '21870000hi': 1770, 'mailbox': 1771, '09056242159': 1772, 'retriev': 1773, 'quizwin': 1774, 'duchess': 1775, 'cornwal': 1776, '82277unsub': 1777, '008704050406': 1778, '08701417012150p': 1779, 'footbal': 1780, 'gamestar': 1781, '250k': 1782, 'nowski': 1783, '88088': 1784, '24': 1785, 'acl03530150pm': 1786, '83383': 1787, 'brought': 1788, 'picsfree1': 1789, 'knock': 1790, 'norm': 1791, '69696': 1792, '3lp': 1793, '150msg': 1794, 'fastest': 1795, 'grow': 1796, 'canari': 1797, 'island': 1798, 'burger': 1799, 'interflora': 1800, '09058099801': 1801, 'b4190604': 1802, '7876150ppm': 1803, '88888': 1804, 'realiti': 1805, '54': 1806, 'pt2': 1807, 'improv': 1808, 'msgs150p': 1809, 'visionsmscom': 1810, '08708034412': 1811, 'lookatm': 1812, '08712101358': 1813, 'pobox45w2tg150p': 1814, '600': 1815, 'cameravideo': 1816, 'bloomberg': 1817, '447797706009': 1818, 'httpcareer': 1819, 'bloombergcom': 1820, 'wan2': 1821, 'meetgreet': 1822, 'westlif': 1823, '1unbreak': 1824, '2untam': 1825, '3unkempt': 1826, '83049': 1827, 'bank': 1828, 'granit': 1829, 'issu': 1830, 'strongbuy': 1831, 'explos': 1832, 'nasdaq': 1833, 'cdgt': 1834, 'thur': 1835, '69669': 1836, 'incred': 1837, 'blow': 1838, 'o2fwd': 1839, '18ptxt': 1840, 'unabl': 1841, 'reschedul': 1842, '09065989182': 1843, 'mila': 1844, 'age23': 1845, 'blond': 1846, 'mtalk': 1847, '6986618': 1848, '30pptxt': 1849, '5free': 1850, 'increment': 1851, 'help08718728876': 1852, 'funk': 1853, 'tones2u': 1854, 'iscom': 1855, 'blu': 1856, 'httptm': 1857, 'widelivecomindex': 1858, '09061702893': 1859, '09061743386': 1860, 'call2optout674': 1861, 'housew': 1862, '08717507711': 1863, 'btnation': 1864, '09066364311': 1865, 'spanish': 1866, 'indic': 1867, 'accid': 1868, 'day2find': 1869, 'natalja': 1870, '25f': 1871, 'yes440': 1872, 'no440': 1873, 'wwwsmsacunat27081980': 1874, '09061744553': 1875, 'polyh': 1876, 'wwwtcbiz': 1877, 'polo': 1878, 'suit': 1879, '373': 1880, 'w1j': 1881, '6hl': 1882, 'explicit': 1883, 'sec': 1884, '02073162414': 1885, '20pmin': 1886, '89070': 1887, 'mnth': 1888, '86888': 1889, 'subscribe6gbpmnth': 1890, '3hr': 1891, 'stoptxtstop': 1892, 'randomli': 1893, 'loyal': 1894, '09066380611': 1895, 'support': 1896, '08718726270': 1897, 'warner': 1898, 'villag': 1899, 'henri': 1900, 'donat': 1901, 'nat': 1902, 'wallpap': 1903, 'due': 1904, 'garden': 1905, 'bulb': 1906, 'seed': 1907, '3350': 1908, 'scotsman': 1909, 'go2': 1910, 'notxtcouk': 1911, '09061213237': 1912, '177': 1913, 'm227xi': 1914, '2p': 1915, 'bruce': 1916, 'fowler': 1917, 'fake': 1918, 'the4th': 1919, 'octob': 1920, 'hooch': 1921, 'toaday': 1922, 'fell': 1923, 'splat': 1924, 'graze': 1925, 'knee': 1926, 'dollar': 1927, '2year': 1928, 'strain': 1929, 'practic': 1930, 'reali': 1931, 'soz': 1932, 'imat': 1933, 'ello': 1934, 'road': 1935, 'whenr': 1936, 'mcr': 1937, 'side': 1938, 'blank': 1939, 'withdraw': 1940, 'anyhow': 1941, 'panic': 1942, 'tuesday': 1943, 'panti': 1944, '6pm': 1945, 'diff': 1946, 'lobbi': 1947, 'ganesh': 1948, '7ish': 1949, 'loo': 1950, 'ure': 1951, 'intellig': 1952, 'revers': 1953, 'cheat': 1954, 'mathemat': 1955, 'necessarili': 1956, 'respect': 1957, 'impress': 1958, 'sunoco': 1959, 'juswok': 1960, 'boatin': 1961, 'spinout': 1962, 'waitin': 1963, 'haircut': 1964, 'breezi': 1965, 'dual': 1966, 'financ': 1967, 'cbe': 1968, 'taj': 1969, 'mahal': 1970, 'lesser': 1971, 'known': 1972, 'husband': 1973, 'aris': 1974, 'hell': 1975, 'hari': 1976, 'restaur': 1977, 'waqt': 1978, 'pehl': 1979, 'naseeb': 1980, 'zyada': 1981, 'kisi': 1982, 'ko': 1983, 'kuch': 1984, 'miltazindgi': 1985, 'hum': 1986, 'socht': 1987, 'zindgi': 1988, 'jeetey': 1989, 'ki': 1990, 'profil': 1991, 'bpo': 1992, 'juan': 1993, 'nicki': 1994, 'weirdest': 1995, 'auto': 1996, 'asleep': 1997, 'deartak': 1998, 'zogtoriu': 1999, 'stare': 2000, 'whether': 2001, 'proper': 2002, 'tongu': 2003, 'sens': 2004, 'foot': 2005, 'peni': 2006, 'payasam': 2007, 'rinu': 2008, 'hcl': 2009, 'chennai': 2010, 'fresher': 2011, 'processexcel': 2012, 'english': 2013, 'neededsalari': 2014, 'mssuman': 2015, 'indyarockscom': 2016, 'signific': 2017, 'flood': 2018, 'yiju': 2019, 'earlier': 2020, 'perform': 2021, 'puttin': 2022, 'studyn': 2023, 'face': 2024, 'vday': 2025, 'parachut': 2026, 'human': 2027, 'print': 2028, 'upstair': 2029, 'wyli': 2030, 'dealer': 2031, 'lunsford': 2032, 'doubt': 2033, 'handl': 2034, 'argh': 2035, 'spotti': 2036, 'provinc': 2037, 'sterl': 2038, 'problemfre': 2039, 'second': 2040, 'weak': 2041, 'notebook': 2042, 'answerin': 2043, 'sleepi': 2044, 'dearer': 2045, 'dem': 2046, 'transact': 2047, 'dri': 2048, 'trade': 2049, 'smsing': 2050, 'puppi': 2051, 'nois': 2052, 'hurt': 2053, 'meaning': 2054, 'compromis': 2055, 'shower': 2056, 'cuti': 2057, 'wale': 2058, 'hill': 2059, 'avent': 2060, 'grocer': 2061, 'base': 2062, 'yesh': 2063, 'greatbhaji': 2064, 'cricket': 2065, 'sachin': 2066, 'worldveri': 2067, 'tough': 2068, 'dawhat': 2069, 'outstand': 2070, 'hasbroin': 2071, 'jump': 2072, 'hoop': 2073, 'dudett': 2074, 'histori': 2075, 'comfort': 2076, 'sold': 2077, 'onionr': 2078, 'petrolr': 2079, 'beerr': 2080, 'spare': 2081, 'power': 2082, 'dahe': 2083, 'daalway': 2084, 'thisdon': 2085, 'messagepandi': 2086, 'mental': 2087, 'consid': 2088, 'common': 2089, 'china': 2090, 'asia': 2091, 'holla': 2092, 'ummmmmaah': 2093, 'spent': 2094, 'air': 2095, 'iraq': 2096, 'afghanistan': 2097, 'stabl': 2098, 'honest': 2099, 'bw': 2100, 'heat': 2101, 'oil': 2102, 'easier': 2103, 'dough': 2104, 'control': 2105, 'godyou': 2106, 'instead': 2107, 'shell': 2108, 'unconsci': 2109, 'avoid': 2110, 'unhappi': 2111, 'but': 2112, 'vs': 2113, 'law': 2114, 'squat': 2115, 'ah': 2116, 'lingo': 2117, 'earth': 2118, 'hardli': 2119, 'firsg': 2120, 'creepi': 2121, 'wnt': 2122, 'bmw': 2123, 'urgentlyit': 2124, 'vri': 2125, 'urgentbut': 2126, 'hv': 2127, 'shortag': 2128, 'lacsther': 2129, 'sourc': 2130, 'arng': 2131, 'amt': 2132, 'lacsthat': 2133, 'bishan': 2134, 'nearer': 2135, 'argument': 2136, 'argu': 2137, 'naal': 2138, 'eruku': 2139, 'youwhen': 2140, 'senthilhsbc': 2141, 'hmm': 2142, 'piec': 2143, 'sigh': 2144, 'tuition': 2145, 'empti': 2146, 'slot': 2147, 'proof': 2148, 'rupaul': 2149, 'tool': 2150, 'bigger': 2151, 'mathew': 2152, 'tait': 2153, 'edward': 2154, 'anderson': 2155, 'solihul': 2156, 'accentur': 2157, 'baaaaab': 2158, 'misss': 2159, 'youuuuu': 2160, 'giggl': 2161, 'person2di': 2162, 'nvq': 2163, 'omw': 2164, 'west': 2165, 'palm': 2166, 'theyll': 2167, 'slurp': 2168, 'master': 2169, 'bcaz': 2170, 'cannt': 2171, 'petey': 2172, 'wherear': 2173, 'friendsar': 2174, 'thekingshead': 2175, 'canlov': 2176, 'nic': 2177, 'reunion': 2178, 'boo': 2179, 'suppos': 2180, 'jacket': 2181, 'multi': 2182, 'expert': 2183, 'audri': 2184, 'autocorrect': 2185, 'bridgwat': 2186, 'banter': 2187, 'concentr': 2188, 'geeee': 2189, 'tm': 2190, 'erutupalam': 2191, 'thandiyachu': 2192, 'borderlin': 2193, 'wear': 2194, 'apo': 2195, 'mokka': 2196, 'solv': 2197, '1hi': 2198, '2polic': 2199, '3wife': 2200, 'siri': 2201, '4cook': 2202, 'cook': 2203, '5garden': 2204, 'veget': 2205, '6housemaid': 2206, '7children': 2207, '8neighbour': 2208, 'marriag': 2209, 'arrest': 2210, 'brilliant': 2211, 'passthey': 2212, 'least': 2213, 'ntswt': 2214, 'drm': 2215, 'msging': 2216, 'lul': 2217, 'juici': 2218, 'hospit': 2219, 'nurs': 2220, 'fat': 2221, 'obes': 2222, 'oyea': 2223, 'kadeem': 2224, 'northampton': 2225, 'tallent': 2226, 'hmmbad': 2227, 'newshyp': 2228, 'plaza': 2229, '700': 2230, 'studio': 2231, 'takenonli': 2232, 'bedrm900': 2233, 'discuss': 2234, 'agenc': 2235, 'usc': 2236, 'progress': 2237, 'ride': 2238, 'assum': 2239, 'maangalyam': 2240, 'alaipayuth': 2241, '9': 2242, 'push': 2243, 'edg': 2244, 'underdtand': 2245, 'often': 2246, 'missin': 2247, 'innoc': 2248, 'tea': 2249, 'flavour': 2250, 'disagre': 2251, 'sooner': 2252, 'sarcasm': 2253, 'scarcasim': 2254, 'yifeng': 2255, 'weather': 2256, 'cali': 2257, 'complex': 2258, 'freeli': 2259, 'tax': 2260, 'outrag': 2261, 'belli': 2262, 'ahmad': 2263, 'loud': 2264, 'scream': 2265, 'gyno': 2266, 'shove': 2267, 'belong': 2268, 'nothi': 2269, 'groundamla': 2270, 'lara': 2271, 'mad': 2272, 'homelov': 2273, 'brin': 2274, 'aiya': 2275, 'properli': 2276, 'sheet': 2277, 'mapquest': 2278, 'usf': 2279, 'dogwood': 2280, 'doc': 2281, 'prescrib': 2282, 'morphin': 2283, 'lateso': 2284, 'morningtak': 2285, 'dreamsu': 2286, 'meummifyingby': 2287, 'none': 2288, 'ofcours': 2289, 'mark': 2290, 'prescript': 2291, 'knowh': 2292, 'com': 2293, 'earliest': 2294, 'thatll': 2295, 'wen': 2296, 'lovabl': 2297, 'bcum': 2298, 'dnt': 2299, 'childish': 2300, 'deep': 2301, 'affect': 2302, 'kettoda': 2303, 'manda': 2304, 'hict': 2305, 'employe': 2306, 'shoreth': 2307, 'fox': 2308, 'frndsship': 2309, 'dwn': 2310, 'mm': 2311, 'shorter': 2312, 'gaze': 2313, 'nan': 2314, 'yalrigu': 2315, 'heltiniiyo': 2316, 'kothi': 2317, 'chikku': 2318, 'share': 2319, 'meso': 2320, 'trust': 2321, 'meok': 2322, 'chikkub': 2323, 'dictionari': 2324, '3cover': 2325, 'screen': 2326, '4press': 2327, '5gentli': 2328, 'sane': 2329, 'fight': 2330, 'constantli': 2331, '116': 2332, 'gloucesterroad': 2333, 'uup': 2334, 'monday': 2335, 'grinul': 2336, 'whenev': 2337, 'nah': 2338, 'dub': 2339, 'je': 2340, 'buff': 2341, 'woo': 2342, 'hoo': 2343, 'armenia': 2344, 'swann': 2345, 'fring': 2346, 'friendofafriend': 2347, 'appendix': 2348, 'imposs': 2349, 'chill': 2350, 'puriti': 2351, 'messageit': 2352, 'evng': 2353, 'arti': 2354, 'collag': 2355, 'tryin': 2356, 'ne': 2357, 'roast': 2358, 'temal': 2359, 'samu': 2360, 'shoulder': 2361, 'hate': 2362, 'annoy': 2363, 'dom': 2364, 'roger': 2365, 'naughti': 2366, 'headin': 2367, 'toward': 2368, 'busetop': 2369, 'internet': 2370, 'mine': 2371, 'mear': 2372, 'drinkin': 2373, 'suffer': 2374, 'fever': 2375, 'dysentri': 2376, 'vidnot': 2377, 'finishd': 2378, 'smeon': 2379, 'sorta': 2380, 'blown': 2381, 'rather': 2382, 'blue': 2383, 'rv': 2384, 'roadsrvx': 2385, 'past': 2386, 'snow': 2387, 'neces': 2388, 'urself': 2389, 'witout': 2390, 'hwd': 2391, 'watll': 2392, 'wth': 2393, 'function': 2394, 'thnk': 2395, 'event': 2396, 'espel': 2397, '4wrd': 2398, 'dearlov': 2399, 'wthout': 2400, 'takecar': 2401, 'princ': 2402, 'alcohol': 2403, 'jay': 2404, 'messageno': 2405, 'responcewhat': 2406, 'happend': 2407, 'lib': 2408, 'chk': 2409, 'belovd': 2410, 'ms': 2411, 'dict': 2412, 'gurl': 2413, 'appropri': 2414, 'diddi': 2415, 'neighbor': 2416, 'toothpast': 2417, 'bruv': 2418, 'asthma': 2419, 'attack': 2420, '7th': 2421, '6th': 2422, '5th': 2423, '3rd': 2424, 'izzit': 2425, 'fullonsmscom': 2426, 'avalarr': 2427, 'hollalat': 2428, 'evapor': 2429, 'violat': 2430, 'employ': 2431, 'paperwork': 2432, 'report': 2433, 'supervisor': 2434, 'bloodi': 2435, '730': 2436, 'ortxt': 2437, 'bat': 2438, 'inning': 2439, 'burial': 2440, 'mojibiola': 2441, 'valuabl': 2442, 'scare': 2443, 'obvious': 2444, 'eggspert': 2445, 'potato': 2446, 'slightli': 2447, 'disastr': 2448, 'fav': 2449, 'coffe': 2450, 'wld': 2451, 'lmao': 2452, 'anymor': 2453, 'amount': 2454, 'terribl': 2455, 'ahth': 2456, 'tomorrowcal': 2457, '67441233': 2458, 'ireneer': 2459, 'bus822656166382': 2460, 'cresubi': 2461, 'tech': 2462, 'park6ph': 2463, '5wkg': 2464, 'daysn': 2465, 'anywher': 2466, 'damn': 2467, 'hunt': 2468, 'lturlgt': 2469, 'godi': 2470, 'youclean': 2471, 'bloodsend': 2472, 'miracl': 2473, 'itplspl': 2474, 'owe': 2475, 'billion': 2476, 'xin': 2477, 'hostel': 2478, 'stayin': 2479, 'rugbi': 2480, 'anthoni': 2481, 'bf': 2482, 'ti': 2483, 'ia': 2484, 'mandan': 2485, 'fishrman': 2486, 'sack': 2487, 'ful': 2488, 'strtd': 2489, 'throwin': 2490, 'thm': 2491, 'atlast': 2492, '1stone': 2493, 'diamond': 2494, 'moraldont': 2495, 'blanket': 2496, 'thx': 2497, 'ball': 2498, 'project': 2499, 'centr': 2500, 'yep': 2501, 'jontin': 2502, 'remain': 2503, 'amongst': 2504, 'missionari': 2505, 'chinatown': 2506, 'porridg': 2507, 'claypot': 2508, 'rice': 2509, 'yam': 2510, 'cake': 2511, 'fishhead': 2512, 'beehoon': 2513, 'cafe': 2514, 'tok': 2515, 'nydc': 2516, 'woodland': 2517, 'avenu': 2518, 'somewher': 2519, 'parish': 2520, 'magazin': 2521, '2bold': 2522, 'weirdo': 2523, 'spreadsheet': 2524, 'track': 2525, 'determin': 2526, 'entir': 2527, 'februari': 2528, 'parent': 2529, 'kid': 2530, 'colleagu': 2531, 'prone': 2532, 'waiti': 2533, 'ubandu': 2534, 'diskyou': 2535, 'file': 2536, 'repair': 2537, 'treat': 2538, 'bet': 2539, 'arnt': 2540, 'piss': 2541, 'xxxxxxxxxxxxxx': 2542, 'lunchyou': 2543, 'onlinewhi': 2544, 'thanks2': 2545, 'blackberri': 2546, 'buyer': 2547, 'melik': 2548, '4a': 2549, 'birth': 2550, '8lb': 2551, '7oz': 2552, 'brilliantli': 2553, 'meim': 2554, 'heroi': 2555, 'qatar': 2556, 'tonit': 2557, 'apt': 2558, 'opportunitypl': 2559, 'ltemailgt': 2560, 'kerala': 2561, 'walik': 2562, 'spunout': 2563, 'spk': 2564, 'wrld': 2565, 'decor': 2566, 'yar': 2567, 'knew': 2568, 'thread': 2569, 'wishlist': 2570, 'section': 2571, 'forum': 2572, 'ppl': 2573, 'nitro': 2574, 'bottom': 2575, 'er': 2576, 'mw': 2577, 'fill': 2578, 'tuth': 2579, 'ny': 2580, 'obedi': 2581, 'queen': 2582, 'jurong': 2583, 'la': 2584, 'buffet': 2585, 'amor': 2586, 'ikea': 2587, 'cap': 2588, 'yell': 2589, 'mess': 2590, 'bullshit': 2591, 'oic': 2592, 'fli': 2593, 'exactli': 2594, 'ahhh': 2595, 'chad': 2596, 'gymnast': 2597, 'christian': 2598, 'nowcan': 2599, 'playerwhi': 2600, 'gal': 2601, 'epi': 2602, 'hmmm': 2603, 'grin': 2604, 'ru': 2605, 'dobbi': 2606, 'bowl': 2607, 'topic': 2608, 'tooo': 2609, 'nte': 2610, 'dip': 2611, 'jiayin': 2612, 'weeddefici': 2613, 'three': 2614, 'aiyar': 2615, 'moneeppolum': 2616, 'oru': 2617, 'allalo': 2618, 'stressful': 2619, 'ni8swt': 2620, 'dizzamn': 2621, 'suitem': 2622, 'aww': 2623, 'housemaid': 2624, 'public': 2625, 'govtinstituit': 2626, 'closedinclud': 2627, 'officeunderstand': 2628, 'doll': 2629, 'patrick': 2630, 'swayz': 2631, 'drama': 2632, 'plsi': 2633, 'struggl': 2634, 'strang': 2635, 'placeno': 2636, 'ego': 2637, 'necess': 2638, 'gowait': 2639, 'reppurcuss': 2640, 'shitload': 2641, 'famou': 2642, 'abil': 2643, 'uncondit': 2644, 'temper': 2645, 'confid': 2646, 'charl': 2647, 'liquor': 2648, 'loko': 2649, 'tmorrowpl': 2650, 'accomod': 2651, 'syllabu': 2652, 'whole': 2653, 'ahead': 2654, 'wun': 2655, 'roll': 2656, 'newscast': 2657, 'dabbl': 2658, 'flute': 2659, 'behind': 2660, 'wheel': 2661, 'sceneri': 2662, 'stripe': 2663, 'skirt': 2664, 'mondaynxt': 2665, 'vl': 2666, 'taken': 2667, 'spatula': 2668, 'crash': 2669, 'shd': 2670, 'aathiwher': 2671, 'carri': 2672, 'heavi': 2673, 'num': 2674, '98321561': 2675, 'familiar': 2676, 'reassur': 2677, 'net': 2678, 'jod': 2679, 'revis': 2680, 'keri': 2681, 'doin': 2682, 'smidgin': 2683, 'collegexx': 2684, 'flaki': 2685, 'gudnit': 2686, 'comedyc': 2687, 'prashanthettan': 2688, 'apolog': 2689, 'latebut': 2690, 'kwish': 2691, 'sopha': 2692, 'secondari': 2693, 'applic': 2694, 'joke': 2695, 'ogunrind': 2696, 'okey': 2697, 'doke': 2698, 'lay': 2699, 'tomarrow': 2700, 'geoenvironment': 2701, 'implic': 2702, 'nightnight': 2703, 'suck': 2704, 'okok': 2705, 'okthenwhat': 2706, 'engin': 2707, 'art': 2708, 'get4an18th': 2709, 'apologet': 2710, 'fallen': 2711, 'actin': 2712, 'spoilt': 2713, 'caught': 2714, 'badli': 2715, 'fortun': 2716, 'theatr': 2717, 'wherev': 2718, 'sbut': 2719, 'luck2': 2720, 'keng': 2721, 'ash': 2722, 'pig': 2723, 'clover': 2724, 'neither': 2725, 'sterm': 2726, 'resolv': 2727, 'fab': 2728, 'nicenicehow': 2729, 'resum': 2730, 'latr': 2731, 'caken': 2732, '2godid': 2733, 'troubl': 2734, 'convincingjust': 2735, 'twice': 2736, 'neglect': 2737, 'itjust': 2738, 'younger': 2739, 'sem': 2740, 'student': 2741, 'enna': 2742, 'kalaachutaarama': 2743, 'soul': 2744, 'fire': 2745, 'spark': 2746, 'rawr': 2747, 'xoxo': 2748, 'tension': 2749, 'ahwhat': 2750, 'machiani': 2751, 'inch': 2752, 'bec': 2753, 'kim': 2754, 'rais': 2755, 'septemb': 2756, 'jaykwon': 2757, 'thuglyf': 2758, 'falconerf': 2759, 'ttyl': 2760, 'ow': 2761, 'deyi': 2762, '60400thousadi': 2763, 'costum': 2764, 'startedindia': 2765, 'cancer': 2766, 'checkup': 2767, 'aka': 2768, 'pap': 2769, 'smear': 2770, 'brum': 2771, 'timin': 2772, 'yessura': 2773, 'tvlol': 2774, 'xam': 2775, 'hall': 2776, 'manag': 2777, 'intha': 2778, 'ponnungal': 2779, 'ipaditan': 2780, 'formclark': 2781, 'abj': 2782, 'oral': 2783, 'fave': 2784, 'posit': 2785, 'agre': 2786, 'salad': 2787, 'beer': 2788, 'oop': 2789, 'somerset': 2790, 'elain': 2791, 'truekdo': 2792, 'lmaonic': 2793, 'eighth': 2794, 'comprehens': 2795, 'brisk': 2796, 'dearli': 2797, 'north': 2798, 'carolina': 2799, 'texa': 2800, 'atm': 2801, 'gre': 2802, 'stock': 2803, 'weekday': 2804, 'haiz': 2805, 'cut': 2806, 'nail': 2807, 'wasnt': 2808, 'attent': 2809, 'sunday': 2810, 'nw': 2811, 'hme': 2812, 'ahsen': 2813, 'burgundi': 2814, 'state': 2815, 'orchard': 2816, 'lick': 2817, 'tootsi': 2818, 'chillaxin': 2819, 'gosh': 2820, 'spose': 2821, 'bother': 2822, 'vava': 2823, 'err': 2824, 'cud': 2825, 'deari': 2826, 'soso': 2827, 'smsd': 2828, 'wordnot': 2829, 'mere': 2830, 'relationshipit': 2831, 'wherevr': 2832, 'whenevr': 2833, 'forevr': 2834, 'gudnyt': 2835, '2u2': 2836, 'al': 2837, 'salam': 2838, 'wahleykkumshar': 2839, 'newsbi': 2840, 'grace': 2841, 'tayseertissco': 2842, 'joinedhop': 2843, 'fineinshah': 2844, 'allahmeet': 2845, 'sometimerakheshvisitor': 2846, 'guid': 2847, 'torrent': 2848, 'particularli': 2849, 'legal': 2850, 'beerag': 2851, 'asda': 2852, 'count': 2853, 'ujhhhhhhh': 2854, 'ship': 2855, 'sandiago': 2856, 'parantella': 2857, 'lane': 2858, 'wtf': 2859, 'poop': 2860, 'jokin': 2861, 'depend': 2862, 'temp': 2863, 'unmit': 2864, 'lip': 2865, 'sync': 2866, 'shangela': 2867, 'batteri': 2868, 'gram': 2869, 'where': 2870, 'vijaykanth': 2871, 'comedi': 2872, 'tvhe': 2873, 'drunken': 2874, 'light': 2875, 'green': 2876, 'sink': 2877, 'pace': 2878, 'cage': 2879, 'surround': 2880, 'own': 2881, 'cuck': 2882, 'appar': 2883, 'bff': 2884, 'quick': 2885, 'fp': 2886, 'sfirst': 2887, 'timedhoni': 2888, 'grandma': 2889, 'parad': 2890, 'enufcredeit': 2891, 'tocallshal': 2892, 'ileav': 2893, 'uni': 2894, 'yor': 2895, 'wouldnt': 2896, 'jerk': 2897, 'stranger': 2898, 'nitz': 2899, 'cultur': 2900, 'modul': 2901, 'poke': 2902, 'everyday': 2903, 'canada': 2904, 'abi': 2905, 'yesher': 2906, 'wee': 2907, 'stupidit': 2908, 'wipro': 2909, 'hiwhat': 2910, 'everywher': 2911, 'cannot': 2912, 'tram': 2913, 'cousin': 2914, 'vic': 2915, 'steamboat': 2916, 'noe': 2917, 'arithmet': 2918, 'percentag': 2919, 'grab': 2920, 'rounderso': 2921, 'howr': 2922, 'throw': 2923, 'stuck': 2924, 'atten': 2925, 'thru': 2926, 'paypal': 2927, 'voila': 2928, 'pocket': 2929, 'hip': 2930, 'hop': 2931, 'zoom': 2932, 'andro': 2933, 'specif': 2934, 'jaklin': 2935, 'sweetheart': 2936, 'sugar': 2937, 'plum': 2938, 'loverboy': 2939, 'smack': 2940, 'ass': 2941, 'miser': 2942, 'horribl': 2943, 'mac': 2944, 'prepar': 2945, 'symptom': 2946, '1u': 2947, 'belov': 2948, '3u': 2949, 'welp': 2950, 'safe': 2951, 'feelin': 2952, 'wuld': 2953, 'ranjith': 2954, 'cal': 2955, 'drpd': 2956, 'deeraj': 2957, 'deepak': 2958, '5min': 2959, 'wall': 2960, 'almost': 2961, 'smth': 2962, 'scari': 2963, 'yest': 2964, 'funni': 2965, '2mrw': 2966, 'mall': 2967, 'sumthinxx': 2968, 'aathilov': 2969, 'messeng': 2970, 'sha': 2971, 'ma': 2972, 'advanc': 2973, 'w': 2974, '1030': 2975, 'basic': 2976, 'yoga': 2977, 'pilat': 2978, 'intro': 2979, 'l': 2980, 'gloriou': 2981, 'anniversari': 2982, 'j': 2983, 'prey': 2984, 'coax': 2985, 'imag': 2986, 'fond': 2987, 'souveni': 2988, 'cougarpen': 2989, 'deduct': 2990, 'sweater': 2991, 'mango': 2992, 'bak': 2993, 'dont4get2text': 2994, 'xxxmobilemovieclub': 2995, 'httpwap': 2996, 'xxxmobilemovieclubcomnqjkgighjjgcbl': 2997, 'macedonia': 2998, 'goalsteam': 2999, 'trywal': 3000, 'scotland': 3001, '4txt120': 3002, 'poboxox36504w45wq': 3003, '5month': 3004, '07732584351': 3005, 'rodger': 3006, 'burn': 3007, 'jersey': 3008, 'devil': 3009, 'detroit': 3010, 'red': 3011, 'wing': 3012, 'hockey': 3013, 'incorrect': 3014, 'divorc': 3015, 'barbi': 3016, 'ken': 3017, '0871277810910pmin': 3018, '5903': 3019, '09064019788': 3020, 'box42wr29c': 3021, '7548': 3022, '4041': 3023, 'gravel': 3024, 'svc': 3025, '69988': 3026, 'annonc': 3027, '07046744435': 3028, 'bootydeli': 3029, '32f': 3030, 'yes434': 3031, 'no434': 3032, 'wwwsmsacubootydeli': 3033, 'bangbab': 3034, 'bangb': 3035, 'internetservic': 3036, '09061701939': 3037, 's89': 3038, '30th': 3039, 'wwwareyouuniquecouk': 3040, 'career': 3041, 'flyng': 3042, 'ari': 3043, 'recdthirtyeight': 3044, 'nake': 3045, 'club4mobilescom': 3046, '87070': 3047, 'club4': 3048, 'box1146': 3049, 'mk45': 3050, '2wt': 3051, '3680offer': 3052, '28thfebtc': 3053, 'rodds1': 3054, '21m': 3055, 'aberdeen': 3056, 'unit': 3057, 'kingdom': 3058, 'httpimg': 3059, 'acwicmb3cktz8r74': 3060, 'hide': 3061, 'fit': 3062, 'funki': 3063, 'smart': 3064, '85222': 3065, 'nowtc': 3066, 'winnersclub': 3067, '84': 3068, 'gbp150week': 3069, 'dointerest': 3070, 'sextextukcom': 3071, 'xxuk': 3072, 'suzi': 3073, '69876': 3074, 'websit': 3075, '08708800282': 3076, 'call2optoutf4q': 3077, 'rp176781': 3078, 'wwwregalportfoliocouk': 3079, '08717205546': 3080, 't91': 3081, 'gbp': 3082, '09057039994': 3083, '2814032': 3084, '3x150pw': 3085, '09064012103': 3086, '09111032124': 3087, 'pobox12n146tf150p': 3088, '09058094455': 3089, 'upgrdcentr': 3090, '9153': 3091, '26th': 3092, 'okmail': 3093, 'moan': 3094, '69888nyt': 3095, 'boltblu': 3096, 'poly3': 3097, 'slide': 3098, 'jamz': 3099, 'toxic': 3100, '8': 3101, 'httpwwwbubbletextcom': 3102, 'tgxxrz': 3103, '08718729755': 3104, 'reciev': 3105, 'channel': 3106, 'teletext': 3107, 'pg': 3108, '07815296484': 3109, '41782': 3110, '181104': 3111, 'wwwapplausestorecom': 3112, 'monthlysubscription50pmsg': 3113, 'max6month': 3114, 'tcsc': 3115, '2stop': 3116, '09050005321': 3117, 'textand': 3118, '08002988890': 3119, '07753741225': 3120, '08715203677': 3121, '42478': 3122, '241004': 3123, 'xclusiveclubsaisai': 3124, '2morow': 3125, '285': 3126, 'soire': 3127, 'zouk': 3128, 'nichol': 3129, 'parisfre': 3130, '0794674629107880867867': 3131, 'apply2': 3132, '08715203694': 3133, '88800': 3134, '89034': 3135, '08718711108': 3136, 'sun0819': 3137, 'helloy': 3138, '08452810071': 3139, 'lapdanc': 3140, 'g2': 3141, '1da': 3142, '150ppmsg': 3143, '448712404000pleas': 3144, '08712404000': 3145, 'ngage': 3146, 'deck': 3147, 'wwwcnupdatescomnewslett': 3148, '08714712388': 3149, '449071512431': 3150, '08714712394': 3151, 'alertfrom': 3152, 'jeri': 3153, 'stewarts': 3154, '2kbsubject': 3155, 'lowcost': 3156, 'prescripiton': 3157, 'drvgsto': 3158, '82324': 3159, 'realiz': 3160, 'thousand': 3161, 'tattoo': 3162, '79': 3163, '08704439680tsc': 3164, 'unclaim': 3165, '09066368327': 3166, 'closingdate040902': 3167, 'claimcod': 3168, 'm39m51': 3169, '150pmmorefrommobile2bremovedmobypobox734ls27yf': 3170, '100psm': 3171, '087018728737': 3172, 'toppoli': 3173, 'tune': 3174, '81618': 3175, '9996': 3176, '14thmarch': 3177, 'availa': 3178, 'rg21': 3179, '4jx': 3180, 'outbid': 3181, 'simonwatson5120': 3182, 'shinco': 3183, 'plyr': 3184, 'acsmsreward': 3185, 'notif': 3186, 'smsservic': 3187, 'yourinclus': 3188, 'voucherstext': 3189, 'nowsavamobmemb': 3190, '83110': 3191, 'mysteri': 3192, '09061104283': 3193, '07808': 3194, 'xxxxxx': 3195, '08719899217': 3196, 'posh': 3197, 'chap': 3198, 'trial': 3199, 'prod': 3200, 'champney': 3201, 'dob': 3202, 'ta': 3203, '0721072': 3204, '09065171142stopsms08': 3205, 'httpdoit': 3206, 'mymobi': 3207, 'lastest': 3208, 'stereophon': 3209, 'marley': 3210, 'dizze': 3211, 'racal': 3212, 'libertin': 3213, 'stroke': 3214, 'nookii': 3215, 'bookmark': 3216, '1million': 3217, 'ppt150x3normal': 3218, 'box403': 3219, 'w1t1ji': 3220, 'matthew': 3221, '09063440451': 3222, '4lux': 3223, 'ppm150': 3224, 'box334': 3225, '09061749602': 3226, '528': 3227, 'hp20': 3228, '1yf': 3229, 'folk': 3230, '150psm': 3231, 'panason': 3232, 'bluetoothhdset': 3233, 'doublemin': 3234, 'doubletxt': 3235, '09065394514': 3236, '09058097218': 3237, 'bloke': 3238, 'zoe': 3239, 'wwwflirtpartyu': 3240, 'replys150': 3241, 'elvi': 3242, 'presley': 3243, '449050000301': 3244, '09050000301': 3245, 'speed': 3246, '80155': 3247, 'swap': 3248, 'chatter': 3249, 'chat80155': 3250, 'rcd': 3251, 'survey': 3252, '80160': 3253, 'wwwtxt43com': 3254, 'hmv1': 3255, '1stchoicecouk': 3256, '08707808226': 3257, 'notifi': 3258, '84122': 3259, '08450542832': 3260, 'sexual': 3261, '69911150p': 3262, 'celeb': 3263, '087016248': 3264, '08719181503': 3265, 'exp': 3266, '30apr': 3267, 'accommod': 3268, 'variou': 3269, 'global': 3270, 'wwwphb1com': 3271, 'ph08700435505150p': 3272, '08712402779': 3273, '08718730555': 3274, '09096102316': 3275, 'jane': 3276, '80488biz': 3277, 'videosound': 3278, 'gold': 3279, 'videosounds2': 3280, 'logosmusicnew': 3281, 'jamstercouk': 3282, '09701213186': 3283, 'sang': 3284, 'uptown': 3285, '80': 3286, 'nick': 3287, 'tom': 3288, 'dick': 3289, 'win150ppmx3age16': 3290, 'dartboard': 3291, 'trebl': 3292, 'optin': 3293, 'bbc': 3294, 'help08714742804': 3295, 'havin': 3296, 'borin': 3297, '09099725823': 3298, '07801543489': 3299, 'wordcollect': 3300, 'no83355': 3301, 'tcllc': 3302, 'nyusa': 3303, '150pmt': 3304, 'msgrcvd18': 3305, 'meetin': 3306, 'cumin': 3307, '09099726395': 3308, 'www80488biz': 3309, '2channel': 3310, 'leadership': 3311, 'skill': 3312, 'strong': 3313, 'psychic': 3314, 'wquestion': 3315, 'karaok': 3316, 'brows': 3317, 'artist': 3318, '10803': 3319, '08714719523': 3320, 'wwworangecoukow': 3321, '08719899230': 3322, 'olymp': 3323, 'rtking': 3324, 'pro': 3325, 'inforingtonekingcouk': 3326, '08701237397': 3327, 'redeem': 3328, 'wwwringtonekingcouk': 3329, '02072069400': 3330, 'bx': 3331, '526': 3332, '0anetwork': 3333, 'allow': 3334, 'supplier': 3335, 'freemsgfeelin': 3336, 'lnli': 3337, 'pictxt': 3338, 'rgent': 3339, 'daytim': 3340, 'busti': 3341, '09099726429': 3342, 'janinexx': 3343, '09050001295': 3344, 'a21': 3345, 'mobsicom': 3346, '391784': 3347, '0089mi': 3348, 'four': 3349, '09063442151': 3350, 'prebook': 3351, 'trackmarqu': 3352, 'infovipclub4u': 3353, 'mandi': 3354, 'sullivan': 3355, 'hotmix': 3356, 'fmyou': 3357, '500000': 3358, 'easter': 3359, 'drawpleas': 3360, '09041940223': 3361, '290305': 3362, 'conact': 3363, 'youto': 3364, '09111030116': 3365, 'pobox12n146tf15': 3366, '09064018838': 3367, 'cro1327': 3368, '1225': 3369, '50award': 3370, 'hottest': 3371, 'hack': 3372, 'backdoor': 3373, 'fraction': 3374, 'neo69': 3375, '09050280520': 3376, 'dp': 3377, 'bcm': 3378, '8027': 3379, '12price': 3380, 'xnet': 3381, 'mins100txtmth': 3382, '2optoutd3wv': 3383, '08718726970': 3384, 'prizeto': 3385, 'nearli': 3386, 'ban': 3387, '09058094594': 3388, '09061743811': 3389, '09090900040': 3390, 'extrem': 3391, 'dirti': 3392, 'sic': 3393, '60p': 3394, '247mp': 3395, '0870753331018': 3396, 'videop': 3397, 'wild': 3398, '150prcvd': 3399, 'stop2stop': 3400, '08715500022': 3401, 'rpl': 3402, 'cnl': 3403, '08702490080': 3404, 'vpod': 3405, '09090204448': 3406, 'a150': 3407, 'minapn': 3408, 'ls278bb': 3409, '09065394973': 3410, '31': 3411, '2006': 3412, 'fifa': 3413, 'held': 3414, '09061743810': 3415, 'themobyo': 3416, 'yoher': 3417, 'skillgame1winaweek': 3418, 'age16150ppermesssubscript': 3419, '09094100151': 3420, 'cast': 3421, 'gbp5month': 3422, 'box61m60': 3423, '1er': 3424, '09066362220': 3425, 'wither': 3426, 'eg23f': 3427, 'eg23g': 3428, 'messagestext': 3429, 'nowus': 3430, 'web2mobil': 3431, 'txt250com': 3432, 'box139': 3433, 'la32wu': 3434, 'txtx': 3435, '85233': 3436, 'freeringtonerepli': 3437, 'help08700469649': 3438, 'box420': 3439, '087123002209am7pm': 3440, 'b4u': 3441, 'wc': 3442, '2703': 3443, 'marsm': 3444, 'wwwb4utelecom': 3445, '08717168528': 3446, 'buffi': 3447, 'qlynnbv': 3448, 'help08700621170150p': 3449, '449month': 3450, 'bundl': 3451, 'avbl': 3452, 'call2optoutj': 3453, 'mf': 3454, '08714712379': 3455, 'k718': 3456, '09065069120': 3457, '4goten': 3458, 'scammer': 3459, 'smartthough': 3460, 'prem': 3461, 'msgsubscript': 3462, 'bewar': 3463, '2morro': 3464, 'passion': 3465, '09099726481': 3466, 'dena': 3467, '1minmobsmorelkpobox177hp51fl': 3468, 'r836': 3469, '09065069154': 3470, 'splashmobil': 3471, 'subscrit': 3472, '88877free': 3473, '88877': 3474, '3pound': 3475, '2stoptx': 3476, '08718738034': 3477, 'arrow': 3478, '08718726971': 3479, 'tddnewsletteremc1couk': 3480, 'thedailydraw': 3481, 'dozen': 3482, 'prizeswith': 3483, '100603': 3484, '09066368753': 3485, '97n7qp': 3486, 'freenokia': 3487, 'or2optouthv9d': 3488, 'restrict': 3489, 'buddi': 3490, '08712402902': 3491, 'monoc': 3492, 'polyc': 3493, 'stream': 3494, '0871212025016': 3495, 'becausethey': 3496, '09058098002': 3497, 'pobox1': 3498, 'w14rg': 3499, 'nasti': 3500, 'filthyguy': 3501, 'bitch': 3502, 'slo': 3503, 'slo4msg': 3504, 'gotto': 3505, '08702840625': 3506, 'comuk220cm2': 3507, 'ithi': 3508, 'creat': 3509, 'wwwasjesuscom': 3510, 'wrote': 3511, '83370': 3512, 'wwwmusictrivianet': 3513, 'sppok': 3514, 'complementari': 3515, 'wa14': 3516, '2px': 3517, 'sender': 3518, 'hvae': 3519, '09061701444': 3520, '6230': 3521, 'pobox11414tcrw1': 3522, 'text82228': 3523, 'wwwtxt82228com': 3524, 'infotxt82228couk': 3525, 'mini': 3526, 'snap': 3527, 'quizclub': 3528, '80122300pwk': 3529, 'sprwm': 3530, 'ph08704050406': 3531, 'gmw': 3532, 'vid': 3533, 'keyword': 3534, '83435': 3535, 'tarot': 3536, '85555': 3537, 'horniest': 3538, 'nytec2a3lpmsg150p': 3539, 'wwwtklscom': 3540, 'stoptxtstop150week': 3541, 'cc100pmin': 3542, '0870737910216yr': 3543, '150wk': 3544, '077xxx': 3545, '09066362206': 3546, 'w4': 3547, '5wq': 3548, '1mcflyall': 3549, 'ab': 3550, 'sara': 3551, 'jorgeshock': 3552, 'smithswitch': 3553, 'fan': 3554, 'str': 3555, '0870141701216': 3556, '4txt120p': 3557, '10th': 3558, '09050000555': 3559, 'ba128nnfwfly150ppm': 3560, '83021': 3561, '20m12aq': 3562, 'lux': 3563, 'jame': 3564, 'eh74rr': 3565, 'women': 3566, 'instantli': 3567, '69969': 3568, 'bcmsfwc1n3xx': 3569, 'footi': 3570, 'stadium': 3571, 'larg': 3572, 'cocacola': 3573, 'becom': 3574, 'teenag': 3575, 'instant': 3576, '08715203028': 3577, '9th': 3578, '50500': 3579, 'freemsgfav': 3580, 'tonesrepli': 3581, 'breathe1': 3582, 'crazyin': 3583, 'sleepingwith': 3584, 'finest': 3585, 'ymca': 3586, 'getzedcouk': 3587, 'pobox365o4w45wq': 3588, '505060': 3589, 'romcapspam': 3590, 'presenc': 3591, 'outgo': 3592, 'breath': 3593, '08712103738': 3594, 'freemessag': 3595, 'jamsterget': 3596, 'frog': 3597, 'mad1': 3598, 'mad2': 3599, 'gbpweek': 3600, '69855': 3601, 'stopbcm': 3602, 'sf': 3603, 'pdatenow': 3604, 'call2optoutyhl': 3605, '09058094454': 3606, 'packag': 3607, 'resubmit': 3608, 'expiri': 3609, '08712400200': 3610, '08718723815': 3611, '27603': 3612, '08714714011': 3613, 'slower': 3614, 'faster': 3615, 'maniac': 3616, 'call2optout4qf2': 3617, 'profession': 3618, 'tiger': 3619, 'wood': 3620, '400minscal': 3621, 'call2optoutj5q': 3622, '69200': 3623, 'chrgd50p': 3624, '2exit': 3625, 'hunk': 3626, 'httpgotbabescouk': 3627, 'abroad': 3628, 'lone': 3629, 'xxsp': 3630, 'stopcost': 3631, '08712400603': 3632, 'agent': 3633, 'goodi': 3634, 'mat': 3635, 'lord': 3636, 'ringsreturn': 3637, 'nowrepli': 3638, 'june': 3639, 'soundtrack': 3640, 'stdtxtrate': 3641, '28th': 3642, 'feb': 3643, '06': 3644, 'str8': 3645, 'classic': 3646, 'nokia150p': 3647, 'poly200p': 3648, 'clip': 3649, '35p': 3650, 'mmsto': 3651, '32323': 3652, 'vat': 3653, '09053750005': 3654, '310303': 3655, '08718725756': 3656, '140ppm': 3657, 'httpwwwetlpcoukreward': 3658, '88039skilgmetscs087147403231winawkage16150perwksub': 3659, '09066358361': 3660, 'y87': 3661, 'x29': 3662, '09065989180': 3663, '08718726978': 3664, '44': 3665, '7732584351': 3666, '09058097189': 3667, '5226': 3668, 'hava': 3669, '1131': 3670, 'rct': 3671, 'thnq': 3672, 'adrian': 3673, 'rgd': 3674, 'vatian': 3675, '09050000928': 3676, '07090201529': 3677, '09066364349': 3678, 'box434sk38wp150ppm18': 3679, 'msgwe': 3680, 'shortcod': 3681, '83332pleas': 3682, '08081263000': 3683, 'refundedthi': 3684, '08712402972': 3685, '09058095201': 3686, 'gbpsm': 3687, 'deltomorrow': 3688, '09066368470': 3689, 'begin': 3690, '24m': 3691, '1month': 3692, 'smartcal': 3693, '68866': 3694, 'subscriptn3gbpwk': 3695, '08448714184': 3696, 'stoptxt': 3697, 'landlineonli': 3698, 'textsweekend': 3699, 'orno': 3700, 'fink': 3701, '09099726553': 3702, 'calls1minmobsmor': 3703, 'lkpobox177hp51fl': 3704, '89105': 3705, 'lingeri': 3706, 'wwwbridalpetticoatdreamscouk': 3707, 'superb': 3708, 'weddingfriend': 3709, 'knicker': 3710, 'beg': 3711, '01223585236': 3712, 'nikiyu4net': 3713, 'phone750': 3714, '09050000878': 3715, 'dorothykiefercom': 3716, '09071517866': 3717, '150ppmpobox10183bhamb64x': 3718, '10am': 3719, 'chik': 3720, 'filth': 3721, 'saristar': 3722, 'e14': 3723, '9yt': 3724, '08701752560': 3725, '450p': 3726, 'stop2': 3727, '9061100010': 3728, 'wire3net': 3729, '1st4term': 3730, 'mobcudb': 3731, '09050000460': 3732, 'j89': 3733, 'box245c2150pm': 3734, 'banneduk': 3735, 'round': 3736, 'highest': 3737, 'maximum': 3738, '71': 3739, '69101': 3740, 'wwwrtfsphostingcom': 3741, 'strt': 3742, 'ltdhelpdesk': 3743, '02085076972': 3744, '09066660100': 3745, '2309': 3746, '07090298926': 3747, 'ref9307622': 3748, 'mytonecomenjoy': 3749, 'html': 3750, 'gbp450week': 3751, 'mfl': 3752, 'wamma': 3753, 'laidwant': 3754, 'doggin': 3755, 'nownyt': 3756, 'promot': 3757, '8714714': 3758, '087147123779am7pm': 3759, 'x49': 3760, 'colourredtextcolourtxtstar': 3761, '2night': 3762, 'wildest': 3763, '146tf150p': 3764, 'airport': 3765, '08704439680': 3766, '09058095107': 3767, 's3xi': 3768, '08717895698': 3769, 'mobstorequiz10ppm': 3770, 'twink': 3771, 'scalli': 3772, 'skin': 3773, 'jock': 3774, '08712466669': 3775, '08712460324nat': 3776, '09061701851': 3777, 'k61': 3778, '12hour': 3779, '74355': 3780, 'row': 3781, 'concert': 3782, 'novemb': 3783, '09061104276': 3784, 'cost375max': 3785, 'nowsend': 3786, '62220cncl': 3787, 'stopc': 3788, '08717890890150': 3789, 'ringtonefrom': 3790, 'wmlid1b6a5ecef91ff937819firsttrue180430jul05': 3791, 'xafter': 3792, 'cst': 3793, 'httpalto18coukwavewaveaspo44345': 3794, 'call2optouthf8': 3795, '08719181259': 3796, 'xxxxx': 3797, '260305': 3798, 'freerington': 3799, 'real1': 3800, 'pushbutton': 3801, 'dontcha': 3802, 'babygoodby': 3803, 'golddigg': 3804, 'webeburnin': 3805, 'gnarl': 3806, 'barkley': 3807, 'secur': 3808, 'unsecur': 3809, '195': 3810, '6669': 3811, '3000': 3812, 'ringtonek': 3813, '84484': 3814, '087104711148': 3815, 'tripl': 3816, 'echo': 3817, 'dial': 3818, 'bx526': 3819, 'x49your': 3820, '08709501522': 3821, '139': 3822, 'la3': 3823, '2wu': 3824, '150week': 3825, '09064017305': 3826, 'pobox75ldns7': 3827, 'tbspersolvo': 3828, 'for38': 3829, 'definit': 3830, 'ignor': 3831, 'kath': 3832, 'manchest': 3833, 'noworriesloanscom': 3834, '08717111821': 3835, 'season': 3836, '2wk': 3837, 'villa': 3838, 'hero': 3839, 'tip': 3840, '07973788240': 3841, '08715203649': 3842, 'gsoh': 3843, 'spam': 3844, 'ladiesu': 3845, 'gigolo': 3846, 'oncal': 3847, 'mjzgroup': 3848, '087143423992stop': 3849, 'msg150rcvd': 3850, '08707500020': 3851, 'ukp2000': 3852, '09061790125': 3853, 'spjanuari': 3854, 'simpson': 3855, 'releas': 3856, 'band': 3857, 'agreen': 3858, 'bblue': 3859, 'cred': 3860, 'amanda': 3861, '3680': 3862, 'subject': 3863, 'httpwwwwtlpcouktext': 3864, '0906346330': 3865, '47': 3866, 'po19': 3867, '2ez': 3868, 'cmon': 3869, 'sticki': 3870, '0796xxxxxx': 3871, 'day2': 3872, 'prizeawait': 3873, '07008009200': 3874, '3750': 3875, '241': 3876, '3lion': 3877, 'gpr': 3878, 'accordingli': 3879, 'breaker': 3880, 'delux': 3881, 'format': 3882, 'featur': 3883, 'graphic': 3884, 'bbdelux': 3885, '02': 3886, 'kit': 3887, 'strip': 3888, '1013': 3889, 'ig11': 3890, 'oja': 3891, '08712402578': 3892, 'thesmszonecom': 3893, 'anonym': 3894, 'mask': 3895, 'messagesim': 3896, 'theredo': 3897, 'potenti': 3898, 'abus': 3899, '0789xxxxxxx': 3900, 'shi': 3901, '09058091870': 3902, 'landmark': 3903, 'bob': 3904, 'barri': 3905, 'ben': 3906, '83738': 3907, 'tonex': 3908, 'wwwclubzedcouk': 3909, '8000930705': 3910, 'recpt': 3911, '13': 3912, 'process': 3913, 'gb': 3914, 'headset': 3915, 'adp': 3916, 'floppi': 3917, 'snappi': 3918, 'ukmobiled': 3919, '08719839835': 3920, 'mg': 3921, '89123': 3922, 'proze': 3923, 'norcorp': 3924, 'ltd150mtmsgrcvd18': 3925, 'item': 3926, '7cfca1a': 3927, '946': 3928, '89938': 3929, 'string': 3930, 'rec': 3931, '150ea': 3932, 'otbox': 3933, '731': 3934, 'la1': 3935, '7w': 3936, 'sexiest': 3937, 'dirtiest': 3938, 'chatim': 3939, 'w8in': 3940, '4utxt': 3941, 'chitchat': 3942, 'logon': 3943, '8883': 3944, 'cm': 3945, '4217': 3946, 'w1a': 3947, '6zf': 3948, '118pmsg': 3949, '1000call': 3950, '09071512432': 3951, '300603tcsbcm4235wc1n3xxcallcost150ppmmobilesvari': 3952, '09065171142stopsms08718727870150ppm': 3953, 'cannam': 3954, 'australia': 3955, 'mquiz': 3956, '7634': 3957, '7684': 3958, 'rip': 3959, 'wwwclubmobycom': 3960, '08717509990': 3961, 'polytruepixringtonesgam': 3962, '08718738002': 3963, '48922': 3964, '211104': 3965, '07099833605': 3966, 'ref9280114': 3967, 'chloe': 3968, 'smash': 3969, '150ptext': 3970, '07808726822': 3971, '08718729758': 3972, 'rayman': 3973, 'golf': 3974, 'activ8': 3975, 'key': 3976, 'termsappli': 3977, 'minstext': 3978, 'coolmob': 3979, 'frogaxel': 3980, 'akonlon': 3981, 'black': 3982, 'eyeddont': 3983, 'cashbincouk': 3984, 'wwwcashbincouk': 3985, 'presid': 3986, '1172': 3987, '09066649731from': 3988, '09077818151': 3989, 'calls150ppm': 3990, 'wwwsantacallingcom': 3991, '0784987': 3992, '08719180219': 3993, '060505': 3994, 'smsshsexnetun': 3995, 'fgkslpopw': 3996, 'fgkslpo': 3997, '0871277810710pmin': 3998, '08715203652': 3999, '42810': 4000, '29100': 4001, 'messagethank': 4002, '150pmsgrcvd': 4003, 'skip': 4004, 'customercar': 4005, 'lyricalladie21f': 4006, 'yes910': 4007, 'no910': 4008, 'wwwsmsacuhmmross': 4009, 'ou': 4010, 'sn': 4011, 'pobox202': 4012, 'nr31': 4013, '7z': 4014, '450pw': 4015, '83118': 4016, 'colin': 4017, 'farrel': 4018, 'swat': 4019, 'wkend': 4020, 'popcornjust': 4021, 'msgticketkioskvalid': 4022, '4712': 4023, 'kiosk': 4024, 'mre': 4025, 'shot': 4026, 'yard': 4027, 'bergkamp': 4028, 'margin': 4029, '78': 4030, 'sexychat': 4031, 'benefit': 4032, 'advisor': 4033, 'diall': 4034, '402': 4035, 'meal': 4036, 'dine': 4037, 'experiencehttpwwwvouch4mecometlpdiningasp': 4038, '09058094507': 4039, 'unicef': 4040, 'asian': 4041, 'tsunami': 4042, 'disast': 4043, 'fund': 4044, '864233': 4045, 'goldvik': 4046, '29m': 4047, 'yes762': 4048, 'no762': 4049, 'wwwsmsacugoldvik': 4050, 'phoni': 4051, 'xxxx': 4052, '125': 4053, 'freeentri': 4054, 'xt': 4055, '08714712412': 4056, '150pmeg': 4057, '08715203685': 4058, 'code4xx26': 4059, '131004': 4060, 'deepest': 4061, 'darkest': 4062, '09094646631': 4063, 'natali': 4064, '20f': 4065, 'yes165': 4066, 'no165': 4067, 'wwwsmsacunatalie2k9': 4068, '08701213186': 4069, '83039': 4070, '62735450': 4071, 'accommodationvouch': 4072, 'mustprovid': 4073, '15541': 4074, '5p': 4075, 'tscs08714740323': 4076, '1winawk': 4077, '150perweeksub': 4078, '09066361921': 4079, 'themobhit': 4080, 'pink': 4081, 'panther': 4082, 'sugabab': 4083, 'zebra': 4084, 'anim': 4085, 'badass': 4086, 'hoodi': 4087, 'wallpaperal': 4088, 'resent': 4089, 'previou': 4090, 'fail': 4091, 'error': 4092, 'queri': 4093, 'customersqueriesnetvisionukcom': 4094, '08715205273': 4095, 'vco': 4096, '078': 4097, 'ree': 4098, 'compens': 4099, 'wwwtelediscountcouk': 4100, '08715203656': 4101, '42049': 4102, '261004': 4103, 'someonon': 4104, '09064015307': 4105, '09061790126': 4106, 'wwwldewcom1win150ppmx3age16subscript': 4107, 'textcomp': 4108, 'subsequ': 4109, 'charged150pmsg2': 4110, '84128custcar': 4111, '09095350301': 4112, 'erot': 4113, 'ecstaci': 4114, 'dept': 4115, '13404': 4116, '08717507382': 4117, 'datingi': 4118, 'radio': 4119, 'coincid': 4120, 'lead': 4121, '151': 4122, 'paus': 4123, 'gr8prize': 4124, '8800': 4125, 'psp': 4126, 'wktxt': 4127, 'httpwwwgr8prizescom': 4128, '02070836089': 4129, '09058094583': 4130, '32000': 4131, 'legitimat': 4132, 'efreefon': 4133, 'toilet': 4134, 'stolen': 4135, 'cop': 4136, 'sparkl': 4137, '45': 4138, '0121': 4139, '2025050': 4140, 'wwwshortbreaksorguk': 4141, 'wwwgambtv': 4142, 'wmlid820554ad0a1705572711firsttruec': 4143, '09050000332': 4144, '09064017295': 4145, '08448350055': 4146, 'planettalkinstantcom': 4147, 'marvel': 4148, 'ultim': 4149, 'spiderman': 4150, 'spider': 4151, '83338': 4152, '8ball': 4153, '07808247860': 4154, '08719899229': 4155, '40411': 4156, '061104': 4157, '49557': 4158, '261104': 4159, 'gsex': 4160, '2667': 4161, 'wc1n': 4162, '3xx': 4163, '3mobil': 4164, 'chatlin': 4165, 'inclu': 4166, 'l8er': 4167, 'bailiff': 4168, '087187272008': 4169, 'now1': 4170}\n"
          ]
        }
      ],
      "source": [
        "word_indices = word_tokenizer.word_index\n",
        "print(\"Word Indices:\", word_indices)"
      ]
    },
    {
      "cell_type": "markdown",
      "metadata": {
        "id": "SwxN0FP4TNYX"
      },
      "source": [
        "When using 'text_to_sequence', the tokenizer takes input sentences and replaces each word in the sentences with its corresponding integer index based on the learned vocabulary."
      ]
    },
    {
      "cell_type": "code",
      "execution_count": 32,
      "metadata": {
        "id": "cGNzrm5MS7jS"
      },
      "outputs": [],
      "source": [
        "sequences = word_tokenizer.texts_to_sequences(x)"
      ]
    },
    {
      "cell_type": "markdown",
      "metadata": {
        "id": "pcKjbDjETdL_"
      },
      "source": [
        "We find the longest sentence"
      ]
    },
    {
      "cell_type": "code",
      "execution_count": 33,
      "metadata": {
        "colab": {
          "base_uri": "https://localhost:8080/"
        },
        "id": "G6G5YlgWaqPN",
        "outputId": "5aae225f-e826-4022-82a1-45d2a7a29638"
      },
      "outputs": [
        {
          "name": "stderr",
          "output_type": "stream",
          "text": [
            "[nltk_data] Downloading package punkt to /root/nltk_data...\n",
            "[nltk_data]   Unzipping tokenizers/punkt.zip.\n"
          ]
        },
        {
          "data": {
            "text/plain": [
              "True"
            ]
          },
          "execution_count": 33,
          "metadata": {},
          "output_type": "execute_result"
        }
      ],
      "source": [
        "nltk.download('punkt')"
      ]
    },
    {
      "cell_type": "code",
      "execution_count": 34,
      "metadata": {
        "id": "3OSNQYJETUo-"
      },
      "outputs": [],
      "source": [
        "longest_sentence = max(x, key=lambda sentence: len(word_tokenize(sentence)))\n",
        "length_long_sentence = len(word_tokenize(longest_sentence))"
      ]
    },
    {
      "cell_type": "code",
      "execution_count": 35,
      "metadata": {
        "colab": {
          "base_uri": "https://localhost:8080/"
        },
        "id": "I5TwHUe_VMqF",
        "outputId": "50601946-f492-4df7-db6c-3b12fcda0b24"
      },
      "outputs": [
        {
          "data": {
            "text/plain": [
              "49"
            ]
          },
          "execution_count": 35,
          "metadata": {},
          "output_type": "execute_result"
        }
      ],
      "source": [
        "length_long_sentence"
      ]
    },
    {
      "cell_type": "markdown",
      "metadata": {
        "id": "PfecI1LqVS2J"
      },
      "source": [
        "Now we pad the tokens with zeros at the end"
      ]
    },
    {
      "cell_type": "code",
      "execution_count": 36,
      "metadata": {
        "id": "ly1SNkgoVfai"
      },
      "outputs": [],
      "source": [
        "padded_x = pad_sequences(sequences, length_long_sentence, padding='post')"
      ]
    },
    {
      "cell_type": "code",
      "execution_count": 37,
      "metadata": {
        "colab": {
          "base_uri": "https://localhost:8080/"
        },
        "id": "MONV-9ooXHYz",
        "outputId": "1984d013-1ea9-4c93-d81c-6767ed88ebc8"
      },
      "outputs": [
        {
          "data": {
            "text/plain": [
              "1494"
            ]
          },
          "execution_count": 37,
          "metadata": {},
          "output_type": "execute_result"
        }
      ],
      "source": [
        "len(padded_x)"
      ]
    },
    {
      "cell_type": "code",
      "execution_count": 38,
      "metadata": {
        "colab": {
          "base_uri": "https://localhost:8080/"
        },
        "id": "kSRNVzLiVoIH",
        "outputId": "557ed013-d582-4c45-f4e8-0e042524cbc9"
      },
      "outputs": [
        {
          "data": {
            "text/plain": [
              "array([  16, 1916,  310, 1917,   16,  907,  461,  160,  536,  410,  462,\n",
              "          0,    0,    0,    0,    0,    0,    0,    0,    0,    0,    0,\n",
              "          0,    0,    0,    0,    0,    0,    0,    0,    0,    0,    0,\n",
              "          0,    0,    0,    0,    0,    0,    0,    0,    0,    0,    0,\n",
              "          0,    0,    0,    0,    0], dtype=int32)"
            ]
          },
          "execution_count": 38,
          "metadata": {},
          "output_type": "execute_result"
        }
      ],
      "source": [
        "padded_x[0]"
      ]
    },
    {
      "cell_type": "markdown",
      "metadata": {
        "id": "LFKo_xOkOMic"
      },
      "source": [
        "# Splitting the data into test, train and validation data"
      ]
    },
    {
      "cell_type": "markdown",
      "metadata": {
        "id": "bT-hb8JiDHCQ"
      },
      "source": [
        "We further split the data into train, test and validation as follows: <br>\n",
        "\n",
        "*   The size of the training set is 70% of the original\n",
        "*   The size of the validation set is 15% of the original dataset.\n",
        "*  The size of the test set is also 15% of the original dataset.\n",
        "\n"
      ]
    },
    {
      "cell_type": "code",
      "execution_count": 39,
      "metadata": {
        "id": "0nvhPdZlOTPF"
      },
      "outputs": [],
      "source": [
        "X_train, X_temp, y_train, y_temp = train_test_split(padded_x, y, test_size=0.3, random_state=42, stratify=y)\n",
        "X_val, X_test, y_val, y_test = train_test_split(X_temp, y_temp, test_size=0.5, random_state=42, stratify=y_temp)"
      ]
    },
    {
      "cell_type": "markdown",
      "metadata": {
        "id": "Ro1HivfiK6r6"
      },
      "source": [
        "# Build the model"
      ]
    },
    {
      "cell_type": "code",
      "execution_count": 40,
      "metadata": {
        "id": "P7afoefkK_Lr"
      },
      "outputs": [],
      "source": [
        "device = torch.device(\"cuda\" if torch.cuda.is_available() else \"cpu\")"
      ]
    },
    {
      "cell_type": "markdown",
      "metadata": {
        "id": "TLoE64Jt8Ul8"
      },
      "source": [
        "## 1. Build the LSTM model"
      ]
    },
    {
      "cell_type": "markdown",
      "metadata": {
        "id": "KHu__aikGg-C"
      },
      "source": [
        "* We define an LSTMModel class that inherts from the nn.Module which is the base class for all neural networks in pytorch.\n",
        "* The constructor (__init__) will define the parameters of the LSTM:\n",
        "   + We call for the constructor of the super class (nn.Module)\n",
        "   + The embedding layer is used to create word embeddings. It maps each word index to a dense vector of embedding_dim dimensions.\n",
        "   + We create an LSTM layer. The LSTM layer processes the sequences generated by the embedding layer. It takes input of size embedding_dim and produces output of size hidden_dim.\n",
        "   + We create a fully connected layer. It takes the output from the LSTM layer and maps it to the final output dimension specified by output_dim.\n",
        "   + We end it with a sigmoid function that will introduce non-linearity to the model and produce the final output of the classification problem.\n",
        "* We then define a method for the forward pass"
      ]
    },
    {
      "cell_type": "code",
      "execution_count": 41,
      "metadata": {
        "id": "pn5tgZlua1fe"
      },
      "outputs": [],
      "source": [
        "class LSTMModel(nn.Module):\n",
        "    def __init__(self, vocab_size, embedding_dim, hidden_dim, output_dim):\n",
        "        super(LSTMModel, self).__init__()\n",
        "        self.embedding = nn.Embedding(vocab_size, embedding_dim)\n",
        "        self.lstm = nn.LSTM(embedding_dim, hidden_dim, batch_first=True)\n",
        "        self.fc = nn.Linear(hidden_dim, output_dim)\n",
        "        self.sigmoid = nn.Sigmoid()\n",
        "\n",
        "    def forward(self, x):\n",
        "        embedded = self.embedding(x)\n",
        "        lstm_out, _ = self.lstm(embedded)\n",
        "        lstm_out = lstm_out[:, -1, :]\n",
        "        output = self.fc(lstm_out)\n",
        "        output = self.sigmoid(output)\n",
        "        return output"
      ]
    },
    {
      "cell_type": "markdown",
      "metadata": {
        "id": "Hl0buLgI8e1O"
      },
      "source": [
        "## 2. Convert the train and validation arrays into tensors"
      ]
    },
    {
      "cell_type": "code",
      "execution_count": 42,
      "metadata": {
        "id": "wIlr4evA8qN7"
      },
      "outputs": [],
      "source": [
        "X_train_tensor = torch.tensor(X_train, dtype=torch.long)\n",
        "y_train_tensor = torch.tensor(y_train, dtype=torch.float32)\n",
        "X_val_tensor = torch.tensor(X_val, dtype=torch.long)\n",
        "y_val_tensor = torch.tensor(y_val, dtype=torch.float32)"
      ]
    },
    {
      "cell_type": "code",
      "execution_count": 43,
      "metadata": {
        "id": "UwS0M6sG88Kk"
      },
      "outputs": [],
      "source": [
        "'''train_dataset = TensorDataset(X_train_tensor, y_train_tensor)\n",
        "train_loader = DataLoader(train_dataset, batch_size=64, shuffle=True)'''"
      ]
    },
    {
      "cell_type": "markdown",
      "metadata": {
        "id": "T0SwAm5PAO9P"
      },
      "source": [
        "## 3. Instanciate the model"
      ]
    },
    {
      "cell_type": "markdown",
      "metadata": {
        "id": "dzC7nkD5SmO6"
      },
      "source": [
        "Choice of the parameters:\n",
        "* The <b>vocab_size</b> is set to the total number of unique words in the dataset plus one. The additional \"+1\" is for accommodating the padding token. In natural language processing tasks, it's common to use a special token (usually represented as 0) for padding sequences to ensure they have the same length.\n",
        "* The <b>embedding_dim</b> represents the dimensionality of the word embeddings. For smaller datasets or less complex tasks, you can start with a lower value (e.g., 50).For larger datasets or more complex language patterns, you might try a higher value (e.g., 100 to 300).\n",
        "* It's common to set <b>hidden_dim</b> equal to or greater than embedding_dim. It represents the number of units or dimensions in the hidden state of the LSTM layer.\n",
        "* The <b>output_dim</b> represents the dimensionality of the final output. In this case, it's set to 1 because it's a binary classification problem (spam or not spam)\n"
      ]
    },
    {
      "cell_type": "code",
      "execution_count": 44,
      "metadata": {
        "id": "Sr4TNNkyAS-6"
      },
      "outputs": [],
      "source": [
        "vocab_size = len(word_indices) + 1\n",
        "embedding_dim = 100\n",
        "hidden_dim = 100\n",
        "output_dim = 1\n",
        "model = LSTMModel(vocab_size, embedding_dim, hidden_dim, output_dim)"
      ]
    },
    {
      "cell_type": "markdown",
      "metadata": {
        "id": "ObFpvZBXCy2B"
      },
      "source": [
        "## 4. Define the optimazer and the loss function"
      ]
    },
    {
      "cell_type": "markdown",
      "metadata": {
        "id": "SgZBbCGhUIGw"
      },
      "source": [
        "Since we have a binary classification problem, we use Binary Cross Entropy as loss function."
      ]
    },
    {
      "cell_type": "code",
      "execution_count": 45,
      "metadata": {
        "id": "N7D8wh9eC5pV"
      },
      "outputs": [],
      "source": [
        "criterion = nn.BCELoss()\n",
        "optimizer = optim.Adam(model.parameters(), lr=0.001)"
      ]
    },
    {
      "cell_type": "markdown",
      "metadata": {
        "id": "Bss1uuhzKsrv"
      },
      "source": [
        "## 5. Define the training loop"
      ]
    },
    {
      "cell_type": "markdown",
      "metadata": {
        "id": "gy9Zs6d4Buoj"
      },
      "source": [
        "We mount the model and the tensor on the GPU so that the training loop will be executed on the GPU"
      ]
    },
    {
      "cell_type": "code",
      "execution_count": 46,
      "metadata": {
        "colab": {
          "base_uri": "https://localhost:8080/"
        },
        "id": "cTrPa3iQN662",
        "outputId": "1e7d33ae-cfef-4e3b-deec-efc6161cce63"
      },
      "outputs": [
        {
          "data": {
            "text/plain": [
              "LSTMModel(\n",
              "  (embedding): Embedding(4171, 100)\n",
              "  (lstm): LSTM(100, 100, batch_first=True)\n",
              "  (fc): Linear(in_features=100, out_features=1, bias=True)\n",
              "  (sigmoid): Sigmoid()\n",
              ")"
            ]
          },
          "execution_count": 46,
          "metadata": {},
          "output_type": "execute_result"
        }
      ],
      "source": [
        "model.to(device)"
      ]
    },
    {
      "cell_type": "code",
      "execution_count": 47,
      "metadata": {
        "id": "01zrTSLiOR6r"
      },
      "outputs": [],
      "source": [
        "X_train_tensor = X_train_tensor.to(device)\n",
        "y_train_tensor = y_train_tensor.to(device)\n",
        "X_val_tensor = X_val_tensor.to(device)\n",
        "y_val_tensor = y_val_tensor.to(device)"
      ]
    },
    {
      "cell_type": "markdown",
      "metadata": {
        "id": "lq1Nyw0XCEKb"
      },
      "source": [
        "The training loop works as follows:\n",
        "* we set the number of epoch to 1000 (it's the number of times the model will iterate over the entire training set)\n",
        "* train_loss is a list that will store the training losses at a regular interval\n",
        "* For each epoch:\n",
        "  + we train the model (model.train())\n",
        "  + perform a forward pass and get the model prediction for the training data (output)\n",
        "  + Calculate the cross entropy (loss function) between the predictions and the actual labels\n",
        "  + zeros the gradients of the model parameter before performing a backward pass\n",
        "  + perform a backward pass\n",
        "  + Every 10 epoch compute the total loss\n",
        "  + Every 50 epochs start validating the model"
      ]
    },
    {
      "cell_type": "code",
      "execution_count": 49,
      "metadata": {
        "colab": {
          "base_uri": "https://localhost:8080/"
        },
        "id": "VnzqDTjf8wYh",
        "outputId": "94daf502-10e4-4b7c-ab5e-37fe7b5dd8c9"
      },
      "outputs": [
        {
          "name": "stdout",
          "output_type": "stream",
          "text": [
            "Epoch 10/1000, Loss: 0.6943\n",
            "Epoch 20/1000, Loss: 0.6934\n",
            "Epoch 30/1000, Loss: 0.6930\n",
            "Epoch 40/1000, Loss: 0.6929\n",
            "Epoch 50/1000, Loss: 0.6929\n",
            "Validation Accuracy: 0.5000\n",
            "Precision: 0.0000, Recall: 0.0000, F1 Score: 0.0000\n"
          ]
        },
        {
          "name": "stderr",
          "output_type": "stream",
          "text": [
            "/usr/local/lib/python3.10/dist-packages/sklearn/metrics/_classification.py:1344: UndefinedMetricWarning: Precision is ill-defined and being set to 0.0 due to no predicted samples. Use `zero_division` parameter to control this behavior.\n",
            "  _warn_prf(average, modifier, msg_start, len(result))\n"
          ]
        },
        {
          "name": "stdout",
          "output_type": "stream",
          "text": [
            "Epoch 60/1000, Loss: 0.6928\n",
            "Epoch 70/1000, Loss: 0.6927\n",
            "Epoch 80/1000, Loss: 0.6927\n",
            "Epoch 90/1000, Loss: 0.6927\n",
            "Epoch 100/1000, Loss: 0.6926\n",
            "Validation Accuracy: 0.5000\n",
            "Precision: 0.5000, Recall: 1.0000, F1 Score: 0.6667\n",
            "Epoch 110/1000, Loss: 0.6926\n",
            "Epoch 120/1000, Loss: 0.6926\n",
            "Epoch 130/1000, Loss: 0.6926\n",
            "Epoch 140/1000, Loss: 0.6926\n",
            "Epoch 150/1000, Loss: 0.6925\n",
            "Validation Accuracy: 0.5000\n",
            "Precision: 0.5000, Recall: 1.0000, F1 Score: 0.6667\n",
            "Epoch 160/1000, Loss: 0.6925\n",
            "Epoch 170/1000, Loss: 0.6925\n",
            "Epoch 180/1000, Loss: 0.6925\n",
            "Epoch 190/1000, Loss: 0.6925\n",
            "Epoch 200/1000, Loss: 0.6925\n",
            "Validation Accuracy: 0.5000\n",
            "Precision: 0.5000, Recall: 1.0000, F1 Score: 0.6667\n",
            "Epoch 210/1000, Loss: 0.6925\n",
            "Epoch 220/1000, Loss: 0.6925\n",
            "Epoch 230/1000, Loss: 0.6925\n",
            "Epoch 240/1000, Loss: 0.6925\n",
            "Epoch 250/1000, Loss: 0.6922\n",
            "Validation Accuracy: 0.5045\n",
            "Precision: 0.5022, Recall: 1.0000, F1 Score: 0.6687\n",
            "Epoch 260/1000, Loss: 0.6925\n",
            "Epoch 270/1000, Loss: 0.6925\n",
            "Epoch 280/1000, Loss: 0.6924\n",
            "Epoch 290/1000, Loss: 0.6924\n",
            "Epoch 300/1000, Loss: 0.6923\n",
            "Validation Accuracy: 0.5045\n",
            "Precision: 0.5022, Recall: 1.0000, F1 Score: 0.6687\n",
            "Epoch 310/1000, Loss: 0.6915\n",
            "Epoch 320/1000, Loss: 0.6707\n",
            "Epoch 330/1000, Loss: 0.5295\n",
            "Epoch 340/1000, Loss: 0.2267\n",
            "Epoch 350/1000, Loss: 0.0533\n",
            "Validation Accuracy: 0.9107\n",
            "Precision: 0.9035, Recall: 0.9196, F1 Score: 0.9115\n",
            "Epoch 360/1000, Loss: 0.0222\n",
            "Epoch 370/1000, Loss: 0.0152\n",
            "Epoch 380/1000, Loss: 0.0121\n",
            "Epoch 390/1000, Loss: 0.0070\n",
            "Epoch 400/1000, Loss: 0.0023\n",
            "Validation Accuracy: 0.9018\n",
            "Precision: 0.8689, Recall: 0.9464, F1 Score: 0.9060\n",
            "Epoch 410/1000, Loss: 0.0017\n",
            "Epoch 420/1000, Loss: 0.0014\n",
            "Epoch 430/1000, Loss: 0.0011\n",
            "Epoch 440/1000, Loss: 0.0010\n",
            "Epoch 450/1000, Loss: 0.0009\n",
            "Validation Accuracy: 0.9018\n",
            "Precision: 0.8689, Recall: 0.9464, F1 Score: 0.9060\n",
            "Epoch 460/1000, Loss: 0.0008\n",
            "Epoch 470/1000, Loss: 0.0007\n",
            "Epoch 480/1000, Loss: 0.0006\n",
            "Epoch 490/1000, Loss: 0.0006\n",
            "Epoch 500/1000, Loss: 0.0005\n",
            "Validation Accuracy: 0.9062\n",
            "Precision: 0.8760, Recall: 0.9464, F1 Score: 0.9099\n",
            "Epoch 510/1000, Loss: 0.0005\n",
            "Epoch 520/1000, Loss: 0.0004\n",
            "Epoch 530/1000, Loss: 0.0004\n",
            "Epoch 540/1000, Loss: 0.0004\n",
            "Epoch 550/1000, Loss: 0.0004\n",
            "Validation Accuracy: 0.9062\n",
            "Precision: 0.8760, Recall: 0.9464, F1 Score: 0.9099\n",
            "Epoch 560/1000, Loss: 0.0003\n",
            "Epoch 570/1000, Loss: 0.0003\n",
            "Epoch 580/1000, Loss: 0.0003\n",
            "Epoch 590/1000, Loss: 0.0003\n",
            "Epoch 600/1000, Loss: 0.0003\n",
            "Validation Accuracy: 0.9062\n",
            "Precision: 0.8760, Recall: 0.9464, F1 Score: 0.9099\n",
            "Epoch 610/1000, Loss: 0.0003\n",
            "Epoch 620/1000, Loss: 0.0002\n",
            "Epoch 630/1000, Loss: 0.0002\n",
            "Epoch 640/1000, Loss: 0.0002\n",
            "Epoch 650/1000, Loss: 0.0002\n",
            "Validation Accuracy: 0.9062\n",
            "Precision: 0.8760, Recall: 0.9464, F1 Score: 0.9099\n",
            "Epoch 660/1000, Loss: 0.0002\n",
            "Epoch 670/1000, Loss: 0.0002\n",
            "Epoch 680/1000, Loss: 0.0002\n",
            "Epoch 690/1000, Loss: 0.0002\n",
            "Epoch 700/1000, Loss: 0.0002\n",
            "Validation Accuracy: 0.9062\n",
            "Precision: 0.8760, Recall: 0.9464, F1 Score: 0.9099\n",
            "Epoch 710/1000, Loss: 0.0002\n",
            "Epoch 720/1000, Loss: 0.0002\n",
            "Epoch 730/1000, Loss: 0.0002\n",
            "Epoch 740/1000, Loss: 0.0002\n",
            "Epoch 750/1000, Loss: 0.0002\n",
            "Validation Accuracy: 0.9062\n",
            "Precision: 0.8760, Recall: 0.9464, F1 Score: 0.9099\n",
            "Epoch 760/1000, Loss: 0.0001\n",
            "Epoch 770/1000, Loss: 0.0001\n",
            "Epoch 780/1000, Loss: 0.0001\n",
            "Epoch 790/1000, Loss: 0.0001\n",
            "Epoch 800/1000, Loss: 0.0001\n",
            "Validation Accuracy: 0.9062\n",
            "Precision: 0.8760, Recall: 0.9464, F1 Score: 0.9099\n",
            "Epoch 810/1000, Loss: 0.0001\n",
            "Epoch 820/1000, Loss: 0.0001\n",
            "Epoch 830/1000, Loss: 0.0001\n",
            "Epoch 840/1000, Loss: 0.0001\n",
            "Epoch 850/1000, Loss: 0.0001\n",
            "Validation Accuracy: 0.9062\n",
            "Precision: 0.8760, Recall: 0.9464, F1 Score: 0.9099\n",
            "Epoch 860/1000, Loss: 0.0001\n",
            "Epoch 870/1000, Loss: 0.0001\n",
            "Epoch 880/1000, Loss: 0.0001\n",
            "Epoch 890/1000, Loss: 0.0001\n",
            "Epoch 900/1000, Loss: 0.0001\n",
            "Validation Accuracy: 0.9062\n",
            "Precision: 0.8760, Recall: 0.9464, F1 Score: 0.9099\n",
            "Epoch 910/1000, Loss: 0.0001\n",
            "Epoch 920/1000, Loss: 0.0001\n",
            "Epoch 930/1000, Loss: 0.0001\n",
            "Epoch 940/1000, Loss: 0.0001\n",
            "Epoch 950/1000, Loss: 0.0001\n",
            "Validation Accuracy: 0.9062\n",
            "Precision: 0.8760, Recall: 0.9464, F1 Score: 0.9099\n",
            "Epoch 960/1000, Loss: 0.0001\n",
            "Epoch 970/1000, Loss: 0.0001\n",
            "Epoch 980/1000, Loss: 0.0001\n",
            "Epoch 990/1000, Loss: 0.0001\n",
            "Epoch 1000/1000, Loss: 0.0001\n",
            "Validation Accuracy: 0.9107\n",
            "Precision: 0.8833, Recall: 0.9464, F1 Score: 0.9138\n"
          ]
        }
      ],
      "source": [
        "num_epochs = 1000\n",
        "train_losses = []  # To store training losses for plotting\n",
        "\n",
        "for epoch in range(num_epochs):\n",
        "    model.train()\n",
        "    total_loss = 0.0\n",
        "\n",
        "    # Forward pass\n",
        "    outputs = model(X_train_tensor)\n",
        "\n",
        "    # Compute loss\n",
        "    loss = criterion(outputs.squeeze(), y_train_tensor)\n",
        "\n",
        "    # Backward pass and optimization\n",
        "    optimizer.zero_grad()\n",
        "    loss.backward()\n",
        "    optimizer.step()\n",
        "    total_loss += loss.item()\n",
        "\n",
        "    # Print training information\n",
        "    if (epoch + 1) % 10 == 0:  # Print every 10 epochs\n",
        "        train_losses.append(total_loss)\n",
        "        print(f'Epoch {epoch + 1}/{num_epochs}, Loss: {total_loss:.4f}')\n",
        "        total_loss = 0.0\n",
        "\n",
        "    # Validation evaluation\n",
        "    if (epoch + 1) % 50 == 0:  # Evaluate on validation every 50 epochs\n",
        "        model.eval()\n",
        "        with torch.no_grad(): #Temporarily disables gradient computation during validation to save memory.\n",
        "            val_outputs = model(X_val_tensor)\n",
        "            val_predictions = (val_outputs.squeeze() > 0.5).cpu().numpy()\n",
        "\n",
        "        # Evaluate metrics on validation set\n",
        "        accuracy = accuracy_score(y_val, val_predictions)\n",
        "        precision = precision_score(y_val, val_predictions)\n",
        "        recall = recall_score(y_val, val_predictions)\n",
        "        f1 = f1_score(y_val, val_predictions)\n",
        "\n",
        "        print(f\"Validation Accuracy: {accuracy:.4f}\")\n",
        "        print(f\"Precision: {precision:.4f}, Recall: {recall:.4f}, F1 Score: {f1:.4f}\")"
      ]
    },
    {
      "cell_type": "markdown",
      "metadata": {
        "id": "NsdeJVISKxor"
      },
      "source": [
        "## 6. Evaluation on test data"
      ]
    },
    {
      "cell_type": "code",
      "execution_count": 50,
      "metadata": {
        "id": "sZMa6QDe9I8x"
      },
      "outputs": [],
      "source": [
        "X_test_tensor = torch.tensor(X_test, dtype=torch.long)\n",
        "y_test_tensor = torch.tensor(y_test, dtype=torch.float32)"
      ]
    },
    {
      "cell_type": "code",
      "execution_count": 52,
      "metadata": {
        "colab": {
          "base_uri": "https://localhost:8080/"
        },
        "id": "GhygUrh184WC",
        "outputId": "1cbad1f4-6e01-4814-f13d-6b7c5fd2f10e"
      },
      "outputs": [
        {
          "name": "stdout",
          "output_type": "stream",
          "text": [
            "Test Accuracy: 0.8800\n",
            "Precision: 0.8244, Recall: 0.9643, F1 Score: 0.8889\n"
          ]
        }
      ],
      "source": [
        "X_test_tensor = X_test_tensor.to(device)\n",
        "model.eval()\n",
        "with torch.no_grad():\n",
        "    test_outputs = model(X_test_tensor)\n",
        "    test_predictions = (test_outputs.squeeze() > 0.5).cpu().numpy()\n",
        "\n",
        "accuracy = accuracy_score(y_test, test_predictions)\n",
        "precision = precision_score(y_test, test_predictions)\n",
        "recall = recall_score(y_test, test_predictions)\n",
        "f1 = f1_score(y_test, test_predictions)\n",
        "\n",
        "print(f\"Test Accuracy: {accuracy:.4f}\")\n",
        "print(f\"Precision: {precision:.4f}, Recall: {recall:.4f}, F1 Score: {f1:.4f}\")"
      ]
    },
    {
      "cell_type": "code",
      "execution_count": 53,
      "metadata": {
        "colab": {
          "base_uri": "https://localhost:8080/",
          "height": 616
        },
        "id": "PBo47CEN-AN2",
        "outputId": "6e8d7f0d-78b9-4ce9-d9d6-8bd7dc484636"
      },
      "outputs": [
        {
          "name": "stdout",
          "output_type": "stream",
          "text": [
            "Confusion Matrix:\n",
            "[[ 90  23]\n",
            " [  4 108]]\n"
          ]
        },
        {
          "data": {
            "image/png": "[encoded data removed]",
            "text/plain": [
              "<Figure size 800x600 with 1 Axes>"
            ]
          },
          "metadata": {},
          "output_type": "display_data"
        }
      ],
      "source": [
        "# Print and Plot the confusion matrix\n",
        "conf_matrix = confusion_matrix(y_test, test_predictions)\n",
        "print(\"Confusion Matrix:\")\n",
        "print(conf_matrix)\n",
        "\n",
        "plt.figure(figsize=(8, 6))\n",
        "sns.heatmap(conf_matrix, annot=True, fmt=\"d\", cmap=\"Blues\", cbar=False)\n",
        "plt.xlabel(\"Predicted Label\")\n",
        "plt.ylabel(\"True Label\")\n",
        "plt.title(\"Confusion Matrix\")\n",
        "plt.show()"
      ]
    }
  ],
  "metadata": {
    "accelerator": "GPU",
    "colab": {
      "gpuType": "T4",
      "provenance": []
    },
    "kernelspec": {
      "display_name": "Python 3",
      "name": "python3"
    },
    "language_info": {
      "codemirror_mode": {
        "name": "ipython",
        "version": 3
      },
      "file_extension": ".py",
      "mimetype": "text/x-python",
      "name": "python",
      "nbconvert_exporter": "python",
      "pygments_lexer": "ipython3",
      "version": "3.11.3"
    }
  },
  "nbformat": 4,
  "nbformat_minor": 0
}
